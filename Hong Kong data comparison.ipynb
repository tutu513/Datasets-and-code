{
 "cells": [
  {
   "cell_type": "code",
   "execution_count": 1,
   "metadata": {},
   "outputs": [],
   "source": [
    "## 导入需要的库\n",
    "import numpy as np\n",
    "import pandas as pd\n",
    "import math\n",
    "import os\n",
    "import random\n",
    "from matplotlib.pyplot import *\n",
    "import matplotlib.pyplot as plt\n",
    "\n",
    "from statsmodels.stats.weightstats import ztest"
   ]
  },
  {
   "cell_type": "code",
   "execution_count": 2,
   "metadata": {},
   "outputs": [],
   "source": [
    "lb1 = [0, 9]\n",
    "lb2 = [10]\n",
    "lb3 = [1, 2, 3, 4, 5, 6, 7, 8]"
   ]
  },
  {
   "cell_type": "code",
   "execution_count": 5,
   "metadata": {},
   "outputs": [
    {
     "data": {
      "text/plain": [
       "array([2, 1, 0, 1, 1, 1, 1, 1, 0, 1, 1])"
      ]
     },
     "execution_count": 5,
     "metadata": {},
     "output_type": "execute_result"
    }
   ],
   "source": [
    "## K-means聚类结果\n",
    "from sklearn.cluster import KMeans\n",
    "X = pd.read_csv(\"香港预处理后的数据归一化数据.csv\")\n",
    "X = X.drop(['Unnamed: 0'], axis = 1)\n",
    "estimator = KMeans(n_clusters = 3)#构造聚类器\n",
    "estimator.fit(X)#聚类\n",
    "label2 = estimator.labels_ #获取聚类标签\n",
    "label2"
   ]
  },
  {
   "cell_type": "code",
   "execution_count": 6,
   "metadata": {},
   "outputs": [
    {
     "name": "stdout",
     "output_type": "stream",
     "text": [
      "[0]\n",
      "[1, 3, 4, 5, 6, 7, 9, 10]\n",
      "[2, 8]\n"
     ]
    }
   ],
   "source": [
    "a1, a2, a3 = [], [], []\n",
    "for j in range(0,len(X)):\n",
    "    if label2[j] == 2:\n",
    "        a1.append(j)\n",
    "    elif label2[j] == 1:\n",
    "        a2.append(j)\n",
    "    else:\n",
    "        a3.append(j)\n",
    "print(a1)\n",
    "print(a2)\n",
    "print(a3)"
   ]
  },
  {
   "cell_type": "code",
   "execution_count": 7,
   "metadata": {},
   "outputs": [
    {
     "data": {
      "text/html": [
       "<div>\n",
       "<style scoped>\n",
       "    .dataframe tbody tr th:only-of-type {\n",
       "        vertical-align: middle;\n",
       "    }\n",
       "\n",
       "    .dataframe tbody tr th {\n",
       "        vertical-align: top;\n",
       "    }\n",
       "\n",
       "    .dataframe thead th {\n",
       "        text-align: right;\n",
       "    }\n",
       "</style>\n",
       "<table border=\"1\" class=\"dataframe\">\n",
       "  <thead>\n",
       "    <tr style=\"text-align: right;\">\n",
       "      <th></th>\n",
       "      <th>0</th>\n",
       "      <th>1</th>\n",
       "      <th>2</th>\n",
       "      <th>3</th>\n",
       "      <th>4</th>\n",
       "      <th>5</th>\n",
       "      <th>6</th>\n",
       "      <th>7</th>\n",
       "      <th>8</th>\n",
       "      <th>9</th>\n",
       "      <th>...</th>\n",
       "      <th>235</th>\n",
       "      <th>236</th>\n",
       "      <th>237</th>\n",
       "      <th>238</th>\n",
       "      <th>239</th>\n",
       "      <th>240</th>\n",
       "      <th>241</th>\n",
       "      <th>242</th>\n",
       "      <th>243</th>\n",
       "      <th>244</th>\n",
       "    </tr>\n",
       "  </thead>\n",
       "  <tbody>\n",
       "    <tr>\n",
       "      <td>0</td>\n",
       "      <td>0.736193</td>\n",
       "      <td>0.501542</td>\n",
       "      <td>0.816691</td>\n",
       "      <td>0.593069</td>\n",
       "      <td>0.647679</td>\n",
       "      <td>0.702279</td>\n",
       "      <td>0.672787</td>\n",
       "      <td>0.649062</td>\n",
       "      <td>0.631335</td>\n",
       "      <td>0.634301</td>\n",
       "      <td>...</td>\n",
       "      <td>0.612507</td>\n",
       "      <td>0.665645</td>\n",
       "      <td>0.680750</td>\n",
       "      <td>0.655391</td>\n",
       "      <td>0.711012</td>\n",
       "      <td>0.700231</td>\n",
       "      <td>0.651183</td>\n",
       "      <td>0.738339</td>\n",
       "      <td>0.622953</td>\n",
       "      <td>0.695193</td>\n",
       "    </tr>\n",
       "    <tr>\n",
       "      <td>1</td>\n",
       "      <td>0.342608</td>\n",
       "      <td>0.234420</td>\n",
       "      <td>0.412883</td>\n",
       "      <td>0.409494</td>\n",
       "      <td>0.437185</td>\n",
       "      <td>0.413305</td>\n",
       "      <td>0.502298</td>\n",
       "      <td>0.332576</td>\n",
       "      <td>0.356607</td>\n",
       "      <td>0.317715</td>\n",
       "      <td>...</td>\n",
       "      <td>0.298241</td>\n",
       "      <td>0.360469</td>\n",
       "      <td>0.402403</td>\n",
       "      <td>0.262128</td>\n",
       "      <td>0.383770</td>\n",
       "      <td>0.490490</td>\n",
       "      <td>0.334200</td>\n",
       "      <td>0.424446</td>\n",
       "      <td>0.450695</td>\n",
       "      <td>0.357240</td>\n",
       "    </tr>\n",
       "    <tr>\n",
       "      <td>2</td>\n",
       "      <td>0.457942</td>\n",
       "      <td>0.579726</td>\n",
       "      <td>0.473875</td>\n",
       "      <td>0.587997</td>\n",
       "      <td>0.539056</td>\n",
       "      <td>0.382939</td>\n",
       "      <td>0.695173</td>\n",
       "      <td>0.579591</td>\n",
       "      <td>0.539056</td>\n",
       "      <td>0.506647</td>\n",
       "      <td>...</td>\n",
       "      <td>0.550544</td>\n",
       "      <td>0.630311</td>\n",
       "      <td>0.378605</td>\n",
       "      <td>0.410466</td>\n",
       "      <td>0.609477</td>\n",
       "      <td>0.769004</td>\n",
       "      <td>0.424988</td>\n",
       "      <td>0.820954</td>\n",
       "      <td>0.303000</td>\n",
       "      <td>0.561870</td>\n",
       "    </tr>\n",
       "    <tr>\n",
       "      <td>3</td>\n",
       "      <td>0.269724</td>\n",
       "      <td>0.138360</td>\n",
       "      <td>0.331418</td>\n",
       "      <td>0.410485</td>\n",
       "      <td>0.538670</td>\n",
       "      <td>0.393172</td>\n",
       "      <td>0.460095</td>\n",
       "      <td>0.312516</td>\n",
       "      <td>0.425359</td>\n",
       "      <td>0.255574</td>\n",
       "      <td>...</td>\n",
       "      <td>0.242354</td>\n",
       "      <td>0.344429</td>\n",
       "      <td>0.344125</td>\n",
       "      <td>0.204187</td>\n",
       "      <td>0.324723</td>\n",
       "      <td>0.473141</td>\n",
       "      <td>0.238255</td>\n",
       "      <td>0.438652</td>\n",
       "      <td>0.239695</td>\n",
       "      <td>0.330825</td>\n",
       "    </tr>\n",
       "    <tr>\n",
       "      <td>4</td>\n",
       "      <td>0.362847</td>\n",
       "      <td>0.227501</td>\n",
       "      <td>0.417300</td>\n",
       "      <td>0.403319</td>\n",
       "      <td>0.429789</td>\n",
       "      <td>0.291033</td>\n",
       "      <td>0.518382</td>\n",
       "      <td>0.341012</td>\n",
       "      <td>0.362885</td>\n",
       "      <td>0.340715</td>\n",
       "      <td>...</td>\n",
       "      <td>0.275528</td>\n",
       "      <td>0.371694</td>\n",
       "      <td>0.296157</td>\n",
       "      <td>0.286968</td>\n",
       "      <td>0.371694</td>\n",
       "      <td>0.546898</td>\n",
       "      <td>0.288832</td>\n",
       "      <td>0.528461</td>\n",
       "      <td>0.237691</td>\n",
       "      <td>0.401852</td>\n",
       "    </tr>\n",
       "  </tbody>\n",
       "</table>\n",
       "<p>5 rows × 245 columns</p>\n",
       "</div>"
      ],
      "text/plain": [
       "          0         1         2         3         4         5         6  \\\n",
       "0  0.736193  0.501542  0.816691  0.593069  0.647679  0.702279  0.672787   \n",
       "1  0.342608  0.234420  0.412883  0.409494  0.437185  0.413305  0.502298   \n",
       "2  0.457942  0.579726  0.473875  0.587997  0.539056  0.382939  0.695173   \n",
       "3  0.269724  0.138360  0.331418  0.410485  0.538670  0.393172  0.460095   \n",
       "4  0.362847  0.227501  0.417300  0.403319  0.429789  0.291033  0.518382   \n",
       "\n",
       "          7         8         9  ...       235       236       237       238  \\\n",
       "0  0.649062  0.631335  0.634301  ...  0.612507  0.665645  0.680750  0.655391   \n",
       "1  0.332576  0.356607  0.317715  ...  0.298241  0.360469  0.402403  0.262128   \n",
       "2  0.579591  0.539056  0.506647  ...  0.550544  0.630311  0.378605  0.410466   \n",
       "3  0.312516  0.425359  0.255574  ...  0.242354  0.344429  0.344125  0.204187   \n",
       "4  0.341012  0.362885  0.340715  ...  0.275528  0.371694  0.296157  0.286968   \n",
       "\n",
       "        239       240       241       242       243       244  \n",
       "0  0.711012  0.700231  0.651183  0.738339  0.622953  0.695193  \n",
       "1  0.383770  0.490490  0.334200  0.424446  0.450695  0.357240  \n",
       "2  0.609477  0.769004  0.424988  0.820954  0.303000  0.561870  \n",
       "3  0.324723  0.473141  0.238255  0.438652  0.239695  0.330825  \n",
       "4  0.371694  0.546898  0.288832  0.528461  0.237691  0.401852  \n",
       "\n",
       "[5 rows x 245 columns]"
      ]
     },
     "execution_count": 7,
     "metadata": {},
     "output_type": "execute_result"
    }
   ],
   "source": [
    "## 三支聚类\n",
    "data = X\n",
    "data.head()"
   ]
  },
  {
   "cell_type": "code",
   "execution_count": 8,
   "metadata": {},
   "outputs": [
    {
     "name": "stdout",
     "output_type": "stream",
     "text": [
      "[0.6668528595995902, 0.3699945802864106, 0.5257753109902581, 0.327653184204264, 0.3726683236181743, 0.40109337060868466, 0.34949459662695304, 0.3891823249084575, 0.510276561045845, 0.38911305129933954, 0.3511928713146707]\n"
     ]
    }
   ],
   "source": [
    "### 设定正理想解和负理想解\n",
    "n, m = len(data), len(data.T)\n",
    "\n",
    "### 计算决策对象到正负理想解的距离\n",
    "D1 = np.zeros((1,n));D0 = np.zeros((1,n)); Pr = []\n",
    "for i in range(0,n):\n",
    "    D1[0][i] = np.sqrt(np.sum(np.square(1 - data.iloc[i]))) \n",
    "    D0[0][i] = np.sqrt(np.sum(np.square(data.iloc[i])))\n",
    "    Pr.append(D0[0][i]/(D0[0][i] + D1[0][i]))\n",
    "print(Pr)"
   ]
  },
  {
   "cell_type": "code",
   "execution_count": 9,
   "metadata": {},
   "outputs": [],
   "source": [
    "def sunshi(x,singam):\n",
    "    lamda = np.zeros((len(x),6));\n",
    "    juhe = np.zeros((1,6));\n",
    "    \n",
    "    # 计算相对损失函数\n",
    "    for i in range(0,len(x)):\n",
    "        lamda[i,1] = singam[i] * x[i];\n",
    "        lamda[i,2] = x[i];\n",
    "        lamda[i,3] = 1-x[i];\n",
    "        lamda[i,4] = singam[i] * (1-x[i]);\n",
    "    \n",
    "    # 计算聚合相对效用函数(均值聚合)\n",
    "    juhe = np.mean(lamda,axis=0)\n",
    "    \n",
    "    return juhe"
   ]
  },
  {
   "cell_type": "code",
   "execution_count": 12,
   "metadata": {},
   "outputs": [
    {
     "data": {
      "text/html": [
       "<div>\n",
       "<style scoped>\n",
       "    .dataframe tbody tr th:only-of-type {\n",
       "        vertical-align: middle;\n",
       "    }\n",
       "\n",
       "    .dataframe tbody tr th {\n",
       "        vertical-align: top;\n",
       "    }\n",
       "\n",
       "    .dataframe thead th {\n",
       "        text-align: right;\n",
       "    }\n",
       "</style>\n",
       "<table border=\"1\" class=\"dataframe\">\n",
       "  <thead>\n",
       "    <tr style=\"text-align: right;\">\n",
       "      <th></th>\n",
       "      <th>0</th>\n",
       "      <th>1</th>\n",
       "    </tr>\n",
       "  </thead>\n",
       "  <tbody>\n",
       "    <tr>\n",
       "      <td>0</td>\n",
       "      <td>0.534453</td>\n",
       "      <td>0.174140</td>\n",
       "    </tr>\n",
       "    <tr>\n",
       "      <td>1</td>\n",
       "      <td>0.802808</td>\n",
       "      <td>0.427843</td>\n",
       "    </tr>\n",
       "    <tr>\n",
       "      <td>2</td>\n",
       "      <td>0.675256</td>\n",
       "      <td>0.276370</td>\n",
       "    </tr>\n",
       "    <tr>\n",
       "      <td>3</td>\n",
       "      <td>0.833820</td>\n",
       "      <td>0.479599</td>\n",
       "    </tr>\n",
       "    <tr>\n",
       "      <td>4</td>\n",
       "      <td>0.803855</td>\n",
       "      <td>0.429466</td>\n",
       "    </tr>\n",
       "  </tbody>\n",
       "</table>\n",
       "</div>"
      ],
      "text/plain": [
       "          0         1\n",
       "0  0.534453  0.174140\n",
       "1  0.802808  0.427843\n",
       "2  0.675256  0.276370\n",
       "3  0.833820  0.479599\n",
       "4  0.803855  0.429466"
      ]
     },
     "execution_count": 12,
     "metadata": {},
     "output_type": "execute_result"
    }
   ],
   "source": [
    "# 计算不同对象的聚合相对损失函数矩阵\n",
    "singam = [0.3]*m\n",
    "lamda = np.zeros((n,6));\n",
    "for i in range(0,n):\n",
    "    x = data.iloc[i]\n",
    "    lamda[i] = sunshi(x ,singam)\n",
    "\n",
    "#根据聚合相对损失函数计算不同对象的初始阈值\n",
    "yuzhi = np.zeros((n,2))\n",
    "for i in range(0,n):\n",
    "    for j in range(0,len(lamda.T)):\n",
    "        yuzhi[i][0] = (lamda[i][3]-lamda[i][4])/(lamda[i][3]-lamda[i][4]+lamda[i][1])\n",
    "        yuzhi[i][1] = (lamda[i][4])/(lamda[i][4]+lamda[i][2]-lamda[i][1])\n",
    "yuzhi = pd.DataFrame(yuzhi)\n",
    "yuzhi.head()"
   ]
  },
  {
   "cell_type": "code",
   "execution_count": 13,
   "metadata": {},
   "outputs": [
    {
     "name": "stdout",
     "output_type": "stream",
     "text": [
      "[0]\n",
      "[2, 5, 8]\n",
      "[1, 3, 4, 6, 7, 9, 10]\n"
     ]
    }
   ],
   "source": [
    "B1, B2, B3 = [], [], []\n",
    "for i in range(n):\n",
    "    if Pr[i] > yuzhi.loc[i][0]:\n",
    "        B1.append(i)\n",
    "    elif Pr[i]> yuzhi.loc[i][1] and Pr[i] < yuzhi.loc[i][0]:\n",
    "        B2.append(i)\n",
    "    else:\n",
    "        B3.append(i)\n",
    "print(B1)\n",
    "print(B2)\n",
    "print(B3)"
   ]
  },
  {
   "cell_type": "code",
   "execution_count": 14,
   "metadata": {},
   "outputs": [],
   "source": [
    "## 基于遗憾理论的灰度关联聚类方法\n",
    "r1 = np.zeros((n,m))\n",
    "r2 = np.zeros((n,m))\n",
    "\n",
    "for i in range(n):\n",
    "    for j in range(m):\n",
    "        r1[i][j] = 1/(1.5-data.loc[i][j])\n",
    "        r2[i][j] = 1/(data.loc[i][j]+0.5)"
   ]
  },
  {
   "cell_type": "code",
   "execution_count": 15,
   "metadata": {},
   "outputs": [],
   "source": [
    "# 建立感知效用矩阵\n",
    "def Juzhen(alpha, sigma):\n",
    "    U = np.zeros((n,m))\n",
    "    R = r1/(r1+r2)\n",
    "    G = 1 - np.exp(sigma * abs(r1-1))\n",
    "    Q = 1 - np.exp(-sigma * abs(r1-1))\n",
    "    for i in range(n):\n",
    "        for j in range(m):\n",
    "            U[i][j] = (R[i][j]) ** alpha + G[i][j] + Q[i][j] \n",
    "    return U"
   ]
  },
  {
   "cell_type": "code",
   "execution_count": 16,
   "metadata": {},
   "outputs": [
    {
     "data": {
      "text/plain": [
       "array([[0.78403927, 0.70765177, 0.80655006, ..., 0.78466966, 0.74887506,\n",
       "        0.77171987],\n",
       "       [0.64866329, 0.6049876 , 0.67545994, ..., 0.6797588 , 0.6894049 ,\n",
       "        0.65433953],\n",
       "       [0.69204056, 0.73458493, 0.69779456, ..., 0.80766868, 0.63303094,\n",
       "        0.72855487],\n",
       "       ...,\n",
       "       [0.7200755 , 0.67305351, 0.73048746, ..., 0.72156203, 0.68488782,\n",
       "        0.72576726],\n",
       "       [0.67993773, 0.67114605, 0.66758658, ..., 0.68478515, 0.61285587,\n",
       "        0.68060069],\n",
       "       [0.66659198, 0.62720412, 0.70522635, ..., 0.6639048 , 0.62272218,\n",
       "        0.65806798]])"
      ]
     },
     "execution_count": 16,
     "metadata": {},
     "output_type": "execute_result"
    }
   ],
   "source": [
    "U = Juzhen(0.5,0.15)\n",
    "U"
   ]
  },
  {
   "cell_type": "code",
   "execution_count": 17,
   "metadata": {},
   "outputs": [
    {
     "name": "stdout",
     "output_type": "stream",
     "text": [
      "[0.7744553898359864, 0.6719495803596165, 0.7601118755828794, 0.6605380661187521, 0.687369621007067, 0.6683259637674522, 0.6540738098840091, 0.6797708986524938, 0.7211791696148822, 0.6754406208643672, 0.6573048880198805]\n"
     ]
    }
   ],
   "source": [
    "# 计算聚类系数\n",
    "u = []\n",
    "w = [0.1,0.2,0.5,0.05,0.15]\n",
    "for i in range(n):\n",
    "    u.append(np.sum(w * U[i][m-5:]))\n",
    "print(u)"
   ]
  },
  {
   "cell_type": "code",
   "execution_count": 18,
   "metadata": {},
   "outputs": [
    {
     "name": "stdout",
     "output_type": "stream",
     "text": [
      "[0, 2, 8]\n",
      "[1, 3, 4, 5, 6, 7, 9, 10]\n"
     ]
    }
   ],
   "source": [
    "C1, C2 = [], []\n",
    "for i in range(n):\n",
    "    if u[i] > np.mean(u):\n",
    "        C1.append(i)\n",
    "    else:\n",
    "        C2.append(i)\n",
    "print(C1)\n",
    "print(C2)"
   ]
  },
  {
   "cell_type": "code",
   "execution_count": 19,
   "metadata": {},
   "outputs": [
    {
     "name": "stdout",
     "output_type": "stream",
     "text": [
      "[0 1 2 1 1 1 1 1 3 1 1]\n"
     ]
    }
   ],
   "source": [
    "from numpy import unique\n",
    "from sklearn.cluster import AffinityPropagation\n",
    "import numpy as np\n",
    "from sklearn.preprocessing import StandardScaler\n",
    "\n",
    "model = AffinityPropagation(damping=0.5, max_iter=200, convergence_iter=15, copy=True, preference=None,    \n",
    "                            affinity='euclidean', verbose=False) # 设置damping : 阻尼系数，取值[0.5,1)\n",
    "# 匹配模型\n",
    "model.fit(X)\n",
    "yhat = model.predict(X)  # yhat为集群结果\n",
    "clusters = len(unique(yhat))  # 类别\n",
    "\n",
    "print(yhat)"
   ]
  },
  {
   "cell_type": "code",
   "execution_count": 20,
   "metadata": {},
   "outputs": [
    {
     "name": "stdout",
     "output_type": "stream",
     "text": [
      "[0]\n",
      "[1, 3, 4, 5, 6, 7, 9, 10]\n",
      "[2]\n",
      "[8]\n"
     ]
    }
   ],
   "source": [
    "D1, D2, D3, D4 = [], [], [], []\n",
    "for i in range(n):\n",
    "    if yhat[i] == 0:\n",
    "        D1.append(i)\n",
    "    if yhat[i] == 1:\n",
    "        D2.append(i)\n",
    "    if yhat[i] == 2:\n",
    "        D3.append(i)\n",
    "    if yhat[i] == 3:\n",
    "        D4.append(i)\n",
    "print(D1)\n",
    "print(D2)\n",
    "print(D3)\n",
    "print(D4)"
   ]
  },
  {
   "cell_type": "code",
   "execution_count": null,
   "metadata": {},
   "outputs": [],
   "source": []
  }
 ],
 "metadata": {
  "kernelspec": {
   "display_name": "Python 3",
   "language": "python",
   "name": "python3"
  },
  "language_info": {
   "codemirror_mode": {
    "name": "ipython",
    "version": 3
   },
   "file_extension": ".py",
   "mimetype": "text/x-python",
   "name": "python",
   "nbconvert_exporter": "python",
   "pygments_lexer": "ipython3",
   "version": "3.7.4"
  }
 },
 "nbformat": 4,
 "nbformat_minor": 4
}
