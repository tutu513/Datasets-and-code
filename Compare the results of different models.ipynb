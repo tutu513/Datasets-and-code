{
 "cells": [
  {
   "cell_type": "code",
   "execution_count": 1,
   "metadata": {},
   "outputs": [],
   "source": [
    "## 导入需要的库\n",
    "import numpy as np\n",
    "import pandas as pd\n",
    "import math\n",
    "import os\n",
    "import random\n",
    "from matplotlib.pyplot import *\n",
    "import matplotlib.pyplot as plt\n",
    "\n",
    "from statsmodels.stats.weightstats import ztest"
   ]
  },
  {
   "cell_type": "markdown",
   "metadata": {},
   "source": [
    "# 聚类结果比较"
   ]
  },
  {
   "cell_type": "markdown",
   "metadata": {},
   "source": [
    "## 我们模型的聚类"
   ]
  },
  {
   "cell_type": "code",
   "execution_count": 9,
   "metadata": {},
   "outputs": [],
   "source": [
    "## 聚类结果如下所示\n",
    "lb1 = [20, 1, 4, 5, 6, 9, 16, 22, 25, 34, 36, 38, 43, 44, 46, 49]\n",
    "lb2 = [12, 17, 27, 2, 3, 8, 10, 21, 23, 24, 26, 29, 30, 31, 33, 37, 47, 48]\n",
    "lb3 = [0, 7, 11, 13, 14, 15, 18, 19, 28, 32, 35, 39, 40, 41, 42, 45]"
   ]
  },
  {
   "cell_type": "code",
   "execution_count": null,
   "metadata": {},
   "outputs": [],
   "source": []
  },
  {
   "cell_type": "code",
   "execution_count": null,
   "metadata": {},
   "outputs": [],
   "source": []
  },
  {
   "cell_type": "code",
   "execution_count": null,
   "metadata": {},
   "outputs": [],
   "source": []
  },
  {
   "cell_type": "markdown",
   "metadata": {},
   "source": [
    "## K-means聚类"
   ]
  },
  {
   "cell_type": "code",
   "execution_count": 95,
   "metadata": {},
   "outputs": [
    {
     "data": {
      "text/plain": [
       "array([3, 0, 3, 3, 1, 1, 3, 1, 3, 3, 3, 3, 3, 3, 1, 1, 3, 2, 1, 0, 3, 0,\n",
       "       3, 3, 3, 3, 3, 3, 3, 3, 3, 1, 1, 3, 3, 3, 1, 1, 3, 3, 0, 1, 3, 3,\n",
       "       3, 1, 3, 3, 3, 3])"
      ]
     },
     "execution_count": 95,
     "metadata": {},
     "output_type": "execute_result"
    }
   ],
   "source": [
    "from sklearn.cluster import KMeans\n",
    "X = data\n",
    "estimator = KMeans(n_clusters = 4)#构造聚类器\n",
    "estimator.fit(X)#聚类\n",
    "label_pred = estimator.labels_ #获取聚类标签\n",
    "label_pred"
   ]
  },
  {
   "cell_type": "code",
   "execution_count": 97,
   "metadata": {},
   "outputs": [
    {
     "name": "stdout",
     "output_type": "stream",
     "text": [
      "[4, 5, 7, 14, 15, 18, 31, 32, 36, 37, 41, 45]\n",
      "[0, 2, 3, 6, 8, 9, 10, 11, 12, 13, 16, 20, 22, 23, 24, 25, 26, 27, 28, 29, 30, 33, 34, 35, 38, 39, 42, 43, 44, 46, 47, 48, 49]\n",
      "[1, 17, 19, 21, 40]\n"
     ]
    }
   ],
   "source": [
    "a1, a2, a3 = [], [], []\n",
    "\n",
    "for j in range(0,len(df1)):\n",
    "    if label_pred[j] == 1:\n",
    "        a1.append(j)\n",
    "    elif label_pred[j] == 3:\n",
    "        a2.append(j)\n",
    "    else:\n",
    "        a3.append(j)\n",
    "print(a1)\n",
    "print(a2)\n",
    "print(a3)"
   ]
  },
  {
   "cell_type": "code",
   "execution_count": 3,
   "metadata": {},
   "outputs": [
    {
     "data": {
      "text/html": [
       "<div>\n",
       "<style scoped>\n",
       "    .dataframe tbody tr th:only-of-type {\n",
       "        vertical-align: middle;\n",
       "    }\n",
       "\n",
       "    .dataframe tbody tr th {\n",
       "        vertical-align: top;\n",
       "    }\n",
       "\n",
       "    .dataframe thead th {\n",
       "        text-align: right;\n",
       "    }\n",
       "</style>\n",
       "<table border=\"1\" class=\"dataframe\">\n",
       "  <thead>\n",
       "    <tr style=\"text-align: right;\">\n",
       "      <th></th>\n",
       "      <th>聚类</th>\n",
       "      <th>距离</th>\n",
       "    </tr>\n",
       "  </thead>\n",
       "  <tbody>\n",
       "    <tr>\n",
       "      <td>0</td>\n",
       "      <td>2</td>\n",
       "      <td>6.686</td>\n",
       "    </tr>\n",
       "    <tr>\n",
       "      <td>1</td>\n",
       "      <td>2</td>\n",
       "      <td>5.434</td>\n",
       "    </tr>\n",
       "    <tr>\n",
       "      <td>2</td>\n",
       "      <td>4</td>\n",
       "      <td>5.693</td>\n",
       "    </tr>\n",
       "    <tr>\n",
       "      <td>3</td>\n",
       "      <td>1</td>\n",
       "      <td>4.920</td>\n",
       "    </tr>\n",
       "    <tr>\n",
       "      <td>4</td>\n",
       "      <td>2</td>\n",
       "      <td>4.738</td>\n",
       "    </tr>\n",
       "  </tbody>\n",
       "</table>\n",
       "</div>"
      ],
      "text/plain": [
       "   聚类     距离\n",
       "0   2  6.686\n",
       "1   2  5.434\n",
       "2   4  5.693\n",
       "3   1  4.920\n",
       "4   2  4.738"
      ]
     },
     "execution_count": 3,
     "metadata": {},
     "output_type": "execute_result"
    }
   ],
   "source": [
    "# 读取结果\n",
    "df1 = pd.read_excel(\"K-means聚类结果.xlsx\")\n",
    "df1 = df1.drop(['Unnamed: 0'], axis = 1)\n",
    "df1.head()"
   ]
  },
  {
   "cell_type": "code",
   "execution_count": 6,
   "metadata": {},
   "outputs": [
    {
     "name": "stdout",
     "output_type": "stream",
     "text": [
      "[3, 8, 9, 11, 12, 16, 17, 20, 23, 26, 27, 30, 39, 42, 43, 46]\n",
      "[0, 1, 4, 5, 7, 10, 13, 14, 15, 18, 19, 25, 28, 29, 31, 32, 33, 34, 35, 36, 37, 38, 40, 41, 44, 45, 47, 48, 49]\n",
      "[2, 6, 21, 22, 24]\n"
     ]
    }
   ],
   "source": [
    "A1, A2, A3 = [], [], []\n",
    "\n",
    "for j in range(0,len(df1)):\n",
    "    if df1['聚类'][j] == 1:\n",
    "        A1.append(j)\n",
    "    elif df1['聚类'][j] == 2:\n",
    "        A2.append(j)\n",
    "    else:\n",
    "        A3.append(j)\n",
    "print(A1)\n",
    "print(A2)\n",
    "print(A3)"
   ]
  },
  {
   "cell_type": "code",
   "execution_count": 8,
   "metadata": {},
   "outputs": [
    {
     "name": "stdout",
     "output_type": "stream",
     "text": [
      "[3, 42, 17, 30, 27, 9, 39, 8, 20, 11, 12, 26, 23, 16, 43, 46]\n",
      "[0, 47, 34, 36, 29, 45, 48, 13, 25, 19, 4, 28, 41, 44, 1, 40, 33, 37, 14, 5, 49, 7, 18, 15, 35, 10, 31, 32, 38]\n",
      "[2, 21, 6, 22, 24]\n"
     ]
    }
   ],
   "source": [
    "## 根据K-means的距离对分类结果进行降序排序\n",
    "AA1 = sorted(A1, key=lambda x: df1['距离'][A1.index(x)], reverse = True)\n",
    "AA2 = sorted(A2, key=lambda x: df1['距离'][A2.index(x)], reverse = True)\n",
    "AA3 = sorted(A3, key=lambda x: df1['距离'][A3.index(x)], reverse = True)\n",
    "print(AA1)\n",
    "print(AA2)\n",
    "print(AA3)"
   ]
  },
  {
   "cell_type": "code",
   "execution_count": null,
   "metadata": {},
   "outputs": [],
   "source": []
  },
  {
   "cell_type": "markdown",
   "metadata": {},
   "source": [
    "## 三支聚类"
   ]
  },
  {
   "cell_type": "code",
   "execution_count": 11,
   "metadata": {},
   "outputs": [
    {
     "data": {
      "text/html": [
       "<div>\n",
       "<style scoped>\n",
       "    .dataframe tbody tr th:only-of-type {\n",
       "        vertical-align: middle;\n",
       "    }\n",
       "\n",
       "    .dataframe tbody tr th {\n",
       "        vertical-align: top;\n",
       "    }\n",
       "\n",
       "    .dataframe thead th {\n",
       "        text-align: right;\n",
       "    }\n",
       "</style>\n",
       "<table border=\"1\" class=\"dataframe\">\n",
       "  <thead>\n",
       "    <tr style=\"text-align: right;\">\n",
       "      <th></th>\n",
       "      <th>0</th>\n",
       "      <th>1</th>\n",
       "      <th>2</th>\n",
       "      <th>3</th>\n",
       "      <th>4</th>\n",
       "      <th>5</th>\n",
       "      <th>6</th>\n",
       "      <th>7</th>\n",
       "      <th>8</th>\n",
       "      <th>9</th>\n",
       "      <th>...</th>\n",
       "      <th>1490</th>\n",
       "      <th>1491</th>\n",
       "      <th>1492</th>\n",
       "      <th>1493</th>\n",
       "      <th>1494</th>\n",
       "      <th>1495</th>\n",
       "      <th>1496</th>\n",
       "      <th>1497</th>\n",
       "      <th>1498</th>\n",
       "      <th>1499</th>\n",
       "    </tr>\n",
       "  </thead>\n",
       "  <tbody>\n",
       "    <tr>\n",
       "      <td>0</td>\n",
       "      <td>0.542315</td>\n",
       "      <td>0.631639</td>\n",
       "      <td>0.537692</td>\n",
       "      <td>0.657919</td>\n",
       "      <td>0.425744</td>\n",
       "      <td>0.533389</td>\n",
       "      <td>0.432409</td>\n",
       "      <td>0.655109</td>\n",
       "      <td>0.533334</td>\n",
       "      <td>0.454244</td>\n",
       "      <td>...</td>\n",
       "      <td>0.618472</td>\n",
       "      <td>0.499274</td>\n",
       "      <td>0.496539</td>\n",
       "      <td>0.506831</td>\n",
       "      <td>0.472601</td>\n",
       "      <td>0.540841</td>\n",
       "      <td>0.522418</td>\n",
       "      <td>0.551274</td>\n",
       "      <td>0.548531</td>\n",
       "      <td>0.472711</td>\n",
       "    </tr>\n",
       "    <tr>\n",
       "      <td>1</td>\n",
       "      <td>0.447122</td>\n",
       "      <td>0.625455</td>\n",
       "      <td>0.506848</td>\n",
       "      <td>0.492007</td>\n",
       "      <td>0.638708</td>\n",
       "      <td>0.775372</td>\n",
       "      <td>0.466275</td>\n",
       "      <td>0.486687</td>\n",
       "      <td>0.521557</td>\n",
       "      <td>0.493482</td>\n",
       "      <td>...</td>\n",
       "      <td>0.505660</td>\n",
       "      <td>0.553300</td>\n",
       "      <td>0.521557</td>\n",
       "      <td>0.553096</td>\n",
       "      <td>0.552896</td>\n",
       "      <td>0.442834</td>\n",
       "      <td>0.441554</td>\n",
       "      <td>0.569715</td>\n",
       "      <td>0.505557</td>\n",
       "      <td>0.521557</td>\n",
       "    </tr>\n",
       "    <tr>\n",
       "      <td>2</td>\n",
       "      <td>0.274827</td>\n",
       "      <td>0.525519</td>\n",
       "      <td>0.597789</td>\n",
       "      <td>0.462946</td>\n",
       "      <td>0.515822</td>\n",
       "      <td>0.387707</td>\n",
       "      <td>0.535493</td>\n",
       "      <td>0.275107</td>\n",
       "      <td>0.520282</td>\n",
       "      <td>0.478059</td>\n",
       "      <td>...</td>\n",
       "      <td>0.616526</td>\n",
       "      <td>0.434512</td>\n",
       "      <td>0.548418</td>\n",
       "      <td>0.433224</td>\n",
       "      <td>0.753095</td>\n",
       "      <td>0.458347</td>\n",
       "      <td>0.570396</td>\n",
       "      <td>0.614078</td>\n",
       "      <td>0.525519</td>\n",
       "      <td>0.761053</td>\n",
       "    </tr>\n",
       "    <tr>\n",
       "      <td>3</td>\n",
       "      <td>0.513593</td>\n",
       "      <td>0.519015</td>\n",
       "      <td>0.508134</td>\n",
       "      <td>0.414162</td>\n",
       "      <td>0.502106</td>\n",
       "      <td>0.602256</td>\n",
       "      <td>0.390319</td>\n",
       "      <td>0.603137</td>\n",
       "      <td>0.596409</td>\n",
       "      <td>0.702611</td>\n",
       "      <td>...</td>\n",
       "      <td>0.107530</td>\n",
       "      <td>0.699745</td>\n",
       "      <td>0.002770</td>\n",
       "      <td>0.008172</td>\n",
       "      <td>0.471095</td>\n",
       "      <td>0.630606</td>\n",
       "      <td>0.550657</td>\n",
       "      <td>0.816108</td>\n",
       "      <td>0.271831</td>\n",
       "      <td>0.147693</td>\n",
       "    </tr>\n",
       "    <tr>\n",
       "      <td>4</td>\n",
       "      <td>0.582469</td>\n",
       "      <td>0.490905</td>\n",
       "      <td>0.563069</td>\n",
       "      <td>0.358929</td>\n",
       "      <td>0.322298</td>\n",
       "      <td>0.591241</td>\n",
       "      <td>0.684933</td>\n",
       "      <td>0.445066</td>\n",
       "      <td>0.304304</td>\n",
       "      <td>0.519341</td>\n",
       "      <td>...</td>\n",
       "      <td>0.567308</td>\n",
       "      <td>0.608957</td>\n",
       "      <td>0.668854</td>\n",
       "      <td>0.452971</td>\n",
       "      <td>0.441484</td>\n",
       "      <td>0.482484</td>\n",
       "      <td>0.503411</td>\n",
       "      <td>0.587869</td>\n",
       "      <td>0.503570</td>\n",
       "      <td>0.556060</td>\n",
       "    </tr>\n",
       "  </tbody>\n",
       "</table>\n",
       "<p>5 rows × 1500 columns</p>\n",
       "</div>"
      ],
      "text/plain": [
       "          0         1         2         3         4         5         6  \\\n",
       "0  0.542315  0.631639  0.537692  0.657919  0.425744  0.533389  0.432409   \n",
       "1  0.447122  0.625455  0.506848  0.492007  0.638708  0.775372  0.466275   \n",
       "2  0.274827  0.525519  0.597789  0.462946  0.515822  0.387707  0.535493   \n",
       "3  0.513593  0.519015  0.508134  0.414162  0.502106  0.602256  0.390319   \n",
       "4  0.582469  0.490905  0.563069  0.358929  0.322298  0.591241  0.684933   \n",
       "\n",
       "          7         8         9  ...      1490      1491      1492      1493  \\\n",
       "0  0.655109  0.533334  0.454244  ...  0.618472  0.499274  0.496539  0.506831   \n",
       "1  0.486687  0.521557  0.493482  ...  0.505660  0.553300  0.521557  0.553096   \n",
       "2  0.275107  0.520282  0.478059  ...  0.616526  0.434512  0.548418  0.433224   \n",
       "3  0.603137  0.596409  0.702611  ...  0.107530  0.699745  0.002770  0.008172   \n",
       "4  0.445066  0.304304  0.519341  ...  0.567308  0.608957  0.668854  0.452971   \n",
       "\n",
       "       1494      1495      1496      1497      1498      1499  \n",
       "0  0.472601  0.540841  0.522418  0.551274  0.548531  0.472711  \n",
       "1  0.552896  0.442834  0.441554  0.569715  0.505557  0.521557  \n",
       "2  0.753095  0.458347  0.570396  0.614078  0.525519  0.761053  \n",
       "3  0.471095  0.630606  0.550657  0.816108  0.271831  0.147693  \n",
       "4  0.441484  0.482484  0.503411  0.587869  0.503570  0.556060  \n",
       "\n",
       "[5 rows x 1500 columns]"
      ]
     },
     "execution_count": 11,
     "metadata": {},
     "output_type": "execute_result"
    }
   ],
   "source": [
    "data = pd.read_csv(\"归一化数据.csv\")\n",
    "data = data.drop(['Unnamed: 0'], axis = 1)\n",
    "data.head()"
   ]
  },
  {
   "cell_type": "code",
   "execution_count": 31,
   "metadata": {},
   "outputs": [
    {
     "name": "stdout",
     "output_type": "stream",
     "text": [
      "[0.5247144771230003, 0.5173275636122036, 0.5218540428181127, 0.5229287540907313, 0.5201564940217025, 0.5243552762323869, 0.5169976292964519, 0.5192734399006849, 0.5210955163661969, 0.5294100021254201, 0.5241471926417713, 0.5201965466748281, 0.5208650973288269, 0.5230395666609178, 0.5232938637622099, 0.5234209835099527, 0.5196034003251124, 0.5213048113175031, 0.5232962696455145, 0.5239544315929255, 0.522286687344883, 0.5111049886100962, 0.5152301326009899, 0.5261079423373131, 0.5206599335632118, 0.5192297981420132, 0.5238042731505617, 0.522841626969787, 0.5199991739923067, 0.5247110333420674, 0.5259971052776624, 0.520137040108017, 0.5281229961655809, 0.5235937549649751, 0.5207489883140904, 0.524895800860432, 0.5245845814387203, 0.5240178685471395, 0.5225417874004746, 0.522216710985837, 0.5215442080177991, 0.5256022595092653, 0.5211182604213543, 0.525395698763866, 0.5221727216517582, 0.5247056480251316, 0.5232949195070825, 0.5217115845222301, 0.5258231101007541, 0.5210375336166605]\n"
     ]
    }
   ],
   "source": [
    "### 设定正理想解和负理想解\n",
    "n, m = len(data), len(data.T)\n",
    "\n",
    "### 计算决策对象到正负理想解的距离\n",
    "D1 = np.zeros((1,n));D0 = np.zeros((1,n)); Pr = []\n",
    "for i in range(0,n):\n",
    "    D1[0][i] = np.sqrt(np.sum(np.square(1 - data.iloc[i]))) \n",
    "    D0[0][i] = np.sqrt(np.sum(np.square(data.iloc[i])))\n",
    "    Pr.append(D0[0][i]/(D0[0][i] + D1[0][i]))\n",
    "print(Pr)"
   ]
  },
  {
   "cell_type": "code",
   "execution_count": 23,
   "metadata": {},
   "outputs": [],
   "source": [
    "def sunshi(x,singam):\n",
    "    lamda = np.zeros((len(x),6));\n",
    "    juhe = np.zeros((1,6));\n",
    "    \n",
    "    # 计算相对损失函数\n",
    "    for i in range(0,len(x)):\n",
    "        lamda[i,1] = singam[i] * x[i];\n",
    "        lamda[i,2] = x[i];\n",
    "        lamda[i,3] = 1-x[i];\n",
    "        lamda[i,4] = singam[i] * (1-x[i]);\n",
    "    \n",
    "    # 计算聚合相对效用函数(均值聚合)\n",
    "    juhe = np.mean(lamda,axis=0)\n",
    "    \n",
    "    return juhe"
   ]
  },
  {
   "cell_type": "code",
   "execution_count": 27,
   "metadata": {},
   "outputs": [
    {
     "data": {
      "text/html": [
       "<div>\n",
       "<style scoped>\n",
       "    .dataframe tbody tr th:only-of-type {\n",
       "        vertical-align: middle;\n",
       "    }\n",
       "\n",
       "    .dataframe tbody tr th {\n",
       "        vertical-align: top;\n",
       "    }\n",
       "\n",
       "    .dataframe thead th {\n",
       "        text-align: right;\n",
       "    }\n",
       "</style>\n",
       "<table border=\"1\" class=\"dataframe\">\n",
       "  <thead>\n",
       "    <tr style=\"text-align: right;\">\n",
       "      <th></th>\n",
       "      <th>0</th>\n",
       "      <th>1</th>\n",
       "    </tr>\n",
       "  </thead>\n",
       "  <tbody>\n",
       "    <tr>\n",
       "      <td>0</td>\n",
       "      <td>0.522188</td>\n",
       "      <td>0.422497</td>\n",
       "    </tr>\n",
       "    <tr>\n",
       "      <td>1</td>\n",
       "      <td>0.531101</td>\n",
       "      <td>0.431245</td>\n",
       "    </tr>\n",
       "    <tr>\n",
       "      <td>2</td>\n",
       "      <td>0.525451</td>\n",
       "      <td>0.425692</td>\n",
       "    </tr>\n",
       "    <tr>\n",
       "      <td>3</td>\n",
       "      <td>0.525545</td>\n",
       "      <td>0.425785</td>\n",
       "    </tr>\n",
       "    <tr>\n",
       "      <td>4</td>\n",
       "      <td>0.528054</td>\n",
       "      <td>0.428247</td>\n",
       "    </tr>\n",
       "  </tbody>\n",
       "</table>\n",
       "</div>"
      ],
      "text/plain": [
       "          0         1\n",
       "0  0.522188  0.422497\n",
       "1  0.531101  0.431245\n",
       "2  0.525451  0.425692\n",
       "3  0.525545  0.425785\n",
       "4  0.528054  0.428247"
      ]
     },
     "execution_count": 27,
     "metadata": {},
     "output_type": "execute_result"
    }
   ],
   "source": [
    "# 计算不同对象的聚合相对损失函数矩阵\n",
    "singam = [0.45]*m\n",
    "lamda = np.zeros((n,6));\n",
    "for i in range(0,n):\n",
    "    x = data.iloc[i]\n",
    "    lamda[i] = sunshi(x ,singam)\n",
    "\n",
    "#根据聚合相对损失函数计算不同对象的初始阈值\n",
    "yuzhi = np.zeros((n,2))\n",
    "for i in range(0,n):\n",
    "    for j in range(0,len(lamda.T)):\n",
    "        yuzhi[i][0] = (lamda[i][3]-lamda[i][4])/(lamda[i][3]-lamda[i][4]+lamda[i][1])\n",
    "        yuzhi[i][1] = (lamda[i][4])/(lamda[i][4]+lamda[i][2]-lamda[i][1])\n",
    "yuzhi = pd.DataFrame(yuzhi)\n",
    "yuzhi.head()"
   ]
  },
  {
   "cell_type": "code",
   "execution_count": 107,
   "metadata": {},
   "outputs": [
    {
     "name": "stdout",
     "output_type": "stream",
     "text": [
      "[0, 5, 9, 10, 19, 23, 26, 29, 30, 32, 35, 36, 41, 43, 45, 48]\n",
      "[2, 3, 4, 8, 11, 12, 13, 14, 15, 17, 18, 20, 24, 27, 31, 33, 34, 37, 38, 39, 40, 42, 44, 46, 47, 49]\n",
      "[1, 6, 7, 16, 21, 22, 25, 28]\n"
     ]
    }
   ],
   "source": [
    "B1, B2, B3 = [], [], []\n",
    "for i in range(n):\n",
    "    if Pr[i] > yuzhi.loc[i][0]:\n",
    "        B1.append(i)\n",
    "    elif Pr[i]> 0.52 and Pr[i] < yuzhi.loc[i][0]:\n",
    "        B2.append(i)\n",
    "    else:\n",
    "        B3.append(i)\n",
    "print(B1)\n",
    "print(B2)\n",
    "print(B3)"
   ]
  },
  {
   "cell_type": "markdown",
   "metadata": {},
   "source": [
    "## 基于遗憾理论的灰度关联聚类方法"
   ]
  },
  {
   "cell_type": "code",
   "execution_count": 34,
   "metadata": {},
   "outputs": [
    {
     "data": {
      "text/html": [
       "<div>\n",
       "<style scoped>\n",
       "    .dataframe tbody tr th:only-of-type {\n",
       "        vertical-align: middle;\n",
       "    }\n",
       "\n",
       "    .dataframe tbody tr th {\n",
       "        vertical-align: top;\n",
       "    }\n",
       "\n",
       "    .dataframe thead th {\n",
       "        text-align: right;\n",
       "    }\n",
       "</style>\n",
       "<table border=\"1\" class=\"dataframe\">\n",
       "  <thead>\n",
       "    <tr style=\"text-align: right;\">\n",
       "      <th></th>\n",
       "      <th>0</th>\n",
       "      <th>1</th>\n",
       "      <th>2</th>\n",
       "      <th>3</th>\n",
       "      <th>4</th>\n",
       "      <th>5</th>\n",
       "      <th>6</th>\n",
       "      <th>7</th>\n",
       "      <th>8</th>\n",
       "      <th>9</th>\n",
       "      <th>...</th>\n",
       "      <th>1490</th>\n",
       "      <th>1491</th>\n",
       "      <th>1492</th>\n",
       "      <th>1493</th>\n",
       "      <th>1494</th>\n",
       "      <th>1495</th>\n",
       "      <th>1496</th>\n",
       "      <th>1497</th>\n",
       "      <th>1498</th>\n",
       "      <th>1499</th>\n",
       "    </tr>\n",
       "  </thead>\n",
       "  <tbody>\n",
       "    <tr>\n",
       "      <td>0</td>\n",
       "      <td>0.542315</td>\n",
       "      <td>0.631639</td>\n",
       "      <td>0.537692</td>\n",
       "      <td>0.657919</td>\n",
       "      <td>0.425744</td>\n",
       "      <td>0.533389</td>\n",
       "      <td>0.432409</td>\n",
       "      <td>0.655109</td>\n",
       "      <td>0.533334</td>\n",
       "      <td>0.454244</td>\n",
       "      <td>...</td>\n",
       "      <td>0.618472</td>\n",
       "      <td>0.499274</td>\n",
       "      <td>0.496539</td>\n",
       "      <td>0.506831</td>\n",
       "      <td>0.472601</td>\n",
       "      <td>0.540841</td>\n",
       "      <td>0.522418</td>\n",
       "      <td>0.551274</td>\n",
       "      <td>0.548531</td>\n",
       "      <td>0.472711</td>\n",
       "    </tr>\n",
       "    <tr>\n",
       "      <td>1</td>\n",
       "      <td>0.447122</td>\n",
       "      <td>0.625455</td>\n",
       "      <td>0.506848</td>\n",
       "      <td>0.492007</td>\n",
       "      <td>0.638708</td>\n",
       "      <td>0.775372</td>\n",
       "      <td>0.466275</td>\n",
       "      <td>0.486687</td>\n",
       "      <td>0.521557</td>\n",
       "      <td>0.493482</td>\n",
       "      <td>...</td>\n",
       "      <td>0.505660</td>\n",
       "      <td>0.553300</td>\n",
       "      <td>0.521557</td>\n",
       "      <td>0.553096</td>\n",
       "      <td>0.552896</td>\n",
       "      <td>0.442834</td>\n",
       "      <td>0.441554</td>\n",
       "      <td>0.569715</td>\n",
       "      <td>0.505557</td>\n",
       "      <td>0.521557</td>\n",
       "    </tr>\n",
       "    <tr>\n",
       "      <td>2</td>\n",
       "      <td>0.274827</td>\n",
       "      <td>0.525519</td>\n",
       "      <td>0.597789</td>\n",
       "      <td>0.462946</td>\n",
       "      <td>0.515822</td>\n",
       "      <td>0.387707</td>\n",
       "      <td>0.535493</td>\n",
       "      <td>0.275107</td>\n",
       "      <td>0.520282</td>\n",
       "      <td>0.478059</td>\n",
       "      <td>...</td>\n",
       "      <td>0.616526</td>\n",
       "      <td>0.434512</td>\n",
       "      <td>0.548418</td>\n",
       "      <td>0.433224</td>\n",
       "      <td>0.753095</td>\n",
       "      <td>0.458347</td>\n",
       "      <td>0.570396</td>\n",
       "      <td>0.614078</td>\n",
       "      <td>0.525519</td>\n",
       "      <td>0.761053</td>\n",
       "    </tr>\n",
       "    <tr>\n",
       "      <td>3</td>\n",
       "      <td>0.513593</td>\n",
       "      <td>0.519015</td>\n",
       "      <td>0.508134</td>\n",
       "      <td>0.414162</td>\n",
       "      <td>0.502106</td>\n",
       "      <td>0.602256</td>\n",
       "      <td>0.390319</td>\n",
       "      <td>0.603137</td>\n",
       "      <td>0.596409</td>\n",
       "      <td>0.702611</td>\n",
       "      <td>...</td>\n",
       "      <td>0.107530</td>\n",
       "      <td>0.699745</td>\n",
       "      <td>0.002770</td>\n",
       "      <td>0.008172</td>\n",
       "      <td>0.471095</td>\n",
       "      <td>0.630606</td>\n",
       "      <td>0.550657</td>\n",
       "      <td>0.816108</td>\n",
       "      <td>0.271831</td>\n",
       "      <td>0.147693</td>\n",
       "    </tr>\n",
       "    <tr>\n",
       "      <td>4</td>\n",
       "      <td>0.582469</td>\n",
       "      <td>0.490905</td>\n",
       "      <td>0.563069</td>\n",
       "      <td>0.358929</td>\n",
       "      <td>0.322298</td>\n",
       "      <td>0.591241</td>\n",
       "      <td>0.684933</td>\n",
       "      <td>0.445066</td>\n",
       "      <td>0.304304</td>\n",
       "      <td>0.519341</td>\n",
       "      <td>...</td>\n",
       "      <td>0.567308</td>\n",
       "      <td>0.608957</td>\n",
       "      <td>0.668854</td>\n",
       "      <td>0.452971</td>\n",
       "      <td>0.441484</td>\n",
       "      <td>0.482484</td>\n",
       "      <td>0.503411</td>\n",
       "      <td>0.587869</td>\n",
       "      <td>0.503570</td>\n",
       "      <td>0.556060</td>\n",
       "    </tr>\n",
       "  </tbody>\n",
       "</table>\n",
       "<p>5 rows × 1500 columns</p>\n",
       "</div>"
      ],
      "text/plain": [
       "          0         1         2         3         4         5         6  \\\n",
       "0  0.542315  0.631639  0.537692  0.657919  0.425744  0.533389  0.432409   \n",
       "1  0.447122  0.625455  0.506848  0.492007  0.638708  0.775372  0.466275   \n",
       "2  0.274827  0.525519  0.597789  0.462946  0.515822  0.387707  0.535493   \n",
       "3  0.513593  0.519015  0.508134  0.414162  0.502106  0.602256  0.390319   \n",
       "4  0.582469  0.490905  0.563069  0.358929  0.322298  0.591241  0.684933   \n",
       "\n",
       "          7         8         9  ...      1490      1491      1492      1493  \\\n",
       "0  0.655109  0.533334  0.454244  ...  0.618472  0.499274  0.496539  0.506831   \n",
       "1  0.486687  0.521557  0.493482  ...  0.505660  0.553300  0.521557  0.553096   \n",
       "2  0.275107  0.520282  0.478059  ...  0.616526  0.434512  0.548418  0.433224   \n",
       "3  0.603137  0.596409  0.702611  ...  0.107530  0.699745  0.002770  0.008172   \n",
       "4  0.445066  0.304304  0.519341  ...  0.567308  0.608957  0.668854  0.452971   \n",
       "\n",
       "       1494      1495      1496      1497      1498      1499  \n",
       "0  0.472601  0.540841  0.522418  0.551274  0.548531  0.472711  \n",
       "1  0.552896  0.442834  0.441554  0.569715  0.505557  0.521557  \n",
       "2  0.753095  0.458347  0.570396  0.614078  0.525519  0.761053  \n",
       "3  0.471095  0.630606  0.550657  0.816108  0.271831  0.147693  \n",
       "4  0.441484  0.482484  0.503411  0.587869  0.503570  0.556060  \n",
       "\n",
       "[5 rows x 1500 columns]"
      ]
     },
     "execution_count": 34,
     "metadata": {},
     "output_type": "execute_result"
    }
   ],
   "source": [
    "data.head()"
   ]
  },
  {
   "cell_type": "code",
   "execution_count": 40,
   "metadata": {},
   "outputs": [
    {
     "name": "stdout",
     "output_type": "stream",
     "text": [
      "[[1.04418521 1.1515943  1.03916813 ... 1.05404535 1.05100659 0.97343615]\n",
      " [0.94977734 1.14345112 1.00689561 ... 1.07493958 1.00558793 1.02203216]\n",
      " [0.81621121 1.02618747 1.10838819 ... 1.12876782 1.02618747 1.35327622]\n",
      " ...\n",
      " [0.91934393 0.86993345 0.94859569 ... 1.04374976 1.02637481 0.99329448]\n",
      " [1.0674121  1.01281321 1.03935724 ... 1.0372851  1.06067791 0.95274409]\n",
      " [1.32265622 1.0355309  1.00112996 ... 1.05558676 1.05540027 1.05520034]]\n"
     ]
    }
   ],
   "source": [
    "r1 = np.zeros((n,m))\n",
    "r2 = np.zeros((n,m))\n",
    "\n",
    "for i in range(n):\n",
    "    for j in range(m):\n",
    "        r1[i][j] = 1/(1.5-data.loc[i][j])\n",
    "        r2[i][j] = 1/(data.loc[i][j]+0.5)\n",
    "print(r1)"
   ]
  },
  {
   "cell_type": "code",
   "execution_count": 41,
   "metadata": {},
   "outputs": [
    {
     "name": "stdout",
     "output_type": "stream",
     "text": [
      "[[0.95940242 0.88367432 0.96367726 ... 0.9512266  0.95371508 1.02805431]\n",
      " [1.05583059 0.8885299  0.99319819 ... 0.9348283  0.99447383 0.97889769]\n",
      " [1.29061079 0.97511583 0.91092185 ... 0.89760305 0.97511583 0.79298836]\n",
      " ...\n",
      " [1.09616936 1.17579722 1.0572947  ... 0.95977032 0.97494674 1.00679667]\n",
      " [0.94059688 0.98750694 0.96351468 ... 0.96530232 0.9458888  1.05218832]\n",
      " [0.80389365 0.96682647 0.99887258 ... 0.94997472 0.95012582 0.95028791]]\n"
     ]
    }
   ],
   "source": [
    "print(r2)"
   ]
  },
  {
   "cell_type": "code",
   "execution_count": 50,
   "metadata": {},
   "outputs": [],
   "source": [
    "# 建立感知效用矩阵\n",
    "def Juzhen(alpha, sigma):\n",
    "    U = np.zeros((n,m))\n",
    "    R = r1/(r1+r2)\n",
    "    G = 1 - np.exp(sigma * abs(r1-1))\n",
    "    Q = 1 - np.exp(-sigma * abs(r1-1))\n",
    "    for i in range(n):\n",
    "        for j in range(m):\n",
    "            U[i][j] = (R[i][j]) ** alpha + G[i][j] + Q[i][j] \n",
    "    return U"
   ]
  },
  {
   "cell_type": "code",
   "execution_count": 55,
   "metadata": {},
   "outputs": [
    {
     "data": {
      "text/plain": [
       "array([[0.72186863, 0.75169253, 0.72027507, ..., 0.72494263, 0.72400333,\n",
       "        0.69737614],\n",
       "       [0.6881008 , 0.74968847, 0.70952285, ..., 0.73121322, 0.70906801,\n",
       "        0.71467685],\n",
       "       [0.62166541, 0.71605691, 0.74060982, ..., 0.74597744, 0.71605691,\n",
       "        0.7912481 ],\n",
       "       ...,\n",
       "       [0.67523048, 0.65172624, 0.68762147, ..., 0.72173112, 0.71611878,\n",
       "        0.70471496],\n",
       "       [0.72899127, 0.71156187, 0.72033551, ..., 0.71967175, 0.7269683 ,\n",
       "        0.68929735],\n",
       "       [0.78630967, 0.71910711, 0.70750569, ..., 0.72541638, 0.72535916,\n",
       "        0.72529778]])"
      ]
     },
     "execution_count": 55,
     "metadata": {},
     "output_type": "execute_result"
    }
   ],
   "source": [
    "U = Juzhen(0.5,0.15)\n",
    "U"
   ]
  },
  {
   "cell_type": "code",
   "execution_count": 74,
   "metadata": {},
   "outputs": [
    {
     "name": "stdout",
     "output_type": "stream",
     "text": [
      "[0.7184094115870056, 0.7141274215153399, 0.742986150628281, 0.7394346505303686, 0.7248104206450712, 0.724600956371658, 0.7343808201283915, 0.7169338617510745, 0.710432583239896, 0.7287695650471153, 0.7202955672152969, 0.7351618044046676, 0.7074098742877456, 0.7172302037222631, 0.7076862981704696, 0.7111561637104268, 0.7057585356634888, 0.7179503963215538, 0.7754113218680725, 0.7583042975436832, 0.7039580854040194, 0.7391830568378985, 0.7136373483403715, 0.7347163110612236, 0.7236110331134162, 0.7219439537678026, 0.7175250437847478, 0.7216385745646728, 0.7145409821710145, 0.7181929887785922, 0.7349301121815097, 0.7246337168540274, 0.739816037940677, 0.7313469491200347, 0.7163305663872453, 0.7260124109873113, 0.7244592048103091, 0.7311488887651453, 0.7776454513805113, 0.7215877370053849, 0.719505237011091, 0.7350589428382549, 0.7190942399659654, 0.7191226197055798, 0.719279859660946, 0.7164332884118563, 0.7455535637787117, 0.7149411107223523, 0.7067492638604718, 0.7213212048612319]\n"
     ]
    }
   ],
   "source": [
    "# 计算聚类系数\n",
    "u = []\n",
    "w = [0.1,0.2,0.5,0.05,0.15]\n",
    "for i in range(n):\n",
    "    u.append(np.sum(w * U[i][m-5:]))\n",
    "print(u)"
   ]
  },
  {
   "cell_type": "code",
   "execution_count": 77,
   "metadata": {},
   "outputs": [
    {
     "name": "stdout",
     "output_type": "stream",
     "text": [
      "[2, 3, 6, 9, 11, 18, 19, 21, 23, 30, 32, 33, 35, 37, 38, 41, 46]\n",
      "[0, 1, 4, 5, 7, 8, 10, 12, 13, 14, 15, 16, 17, 20, 22, 24, 25, 26, 27, 28, 29, 31, 34, 36, 39, 40, 42, 43, 44, 45, 47, 48, 49]\n"
     ]
    }
   ],
   "source": [
    "C1, C2 = [], []\n",
    "for i in range(n):\n",
    "    if u[i] > np.mean(u):\n",
    "        C1.append(i)\n",
    "    else:\n",
    "        C2.append(i)\n",
    "print(C1)\n",
    "print(C2)"
   ]
  },
  {
   "cell_type": "markdown",
   "metadata": {},
   "source": [
    "# 亲和传播聚类算法"
   ]
  },
  {
   "cell_type": "code",
   "execution_count": 87,
   "metadata": {},
   "outputs": [
    {
     "name": "stdout",
     "output_type": "stream",
     "text": [
      "[2 2 0 2 2 2 1 2 2 2 2 2 2 2 2 2 2 2 2 2 2 3 2 2 2 2 4 2 2 2 2 2 2 2 2 2 2\n",
      " 2 2 2 2 2 2 2 2 2 2 2 2 2]\n"
     ]
    }
   ],
   "source": [
    "from numpy import unique\n",
    "from sklearn.cluster import AffinityPropagation\n",
    "import numpy as np\n",
    "from sklearn.preprocessing import StandardScaler\n",
    "\n",
    "# 定义数据集\n",
    "X = data\n",
    "X = StandardScaler().fit_transform(X)\n",
    "# 定义模型\n",
    "model = AffinityPropagation(damping=0.5, max_iter=200, convergence_iter=15, copy=True, preference=None,    \n",
    "                            affinity='euclidean', verbose=False) # 设置damping : 阻尼系数，取值[0.5,1)\n",
    "# 匹配模型\n",
    "model.fit(X)\n",
    "yhat = model.predict(X)  # yhat为集群结果\n",
    "clusters = len(unique(yhat))  # 类别\n",
    "\n",
    "print(yhat)"
   ]
  },
  {
   "cell_type": "code",
   "execution_count": 89,
   "metadata": {},
   "outputs": [
    {
     "name": "stdout",
     "output_type": "stream",
     "text": [
      "[0, 1, 3, 4, 5, 7, 8, 9, 10, 11, 12, 13, 14, 15, 16, 17, 18, 19, 20, 22, 23, 24, 25, 27, 28, 29, 30, 31, 32, 33, 34, 35, 36, 37, 38, 39, 40, 41, 42, 43, 44, 45, 46, 47, 48, 49]\n",
      "[2, 6, 21, 26]\n"
     ]
    }
   ],
   "source": [
    "D1, D2 = [], []\n",
    "for i in range(n):\n",
    "    if yhat[i] == 2:\n",
    "        D1.append(i)\n",
    "    else:\n",
    "        D2.append(i)\n",
    "print(D1)\n",
    "print(D2)"
   ]
  },
  {
   "cell_type": "markdown",
   "metadata": {},
   "source": [
    "## 逆协方差聚类"
   ]
  },
  {
   "cell_type": "code",
   "execution_count": 121,
   "metadata": {},
   "outputs": [
    {
     "data": {
      "text/plain": [
       "array([[ 1.16110418, -0.02178836,  0.02177256, ..., -0.05185477,\n",
       "         0.0046179 ,  0.04004013],\n",
       "       [-0.02178836,  1.34878479, -0.02804052, ...,  0.03025174,\n",
       "         0.01338198, -0.10955989],\n",
       "       [ 0.02177256, -0.02804052,  1.07145197, ..., -0.00407898,\n",
       "        -0.0105468 , -0.03383975],\n",
       "       ...,\n",
       "       [-0.05185477,  0.03025174, -0.00407898, ...,  1.11168866,\n",
       "         0.00839435, -0.02809253],\n",
       "       [ 0.0046179 ,  0.01338198, -0.0105468 , ...,  0.00839435,\n",
       "         1.76570411, -0.04165954],\n",
       "       [ 0.04004013, -0.10955989, -0.03383975, ..., -0.02809253,\n",
       "        -0.04165954,  1.15815236]])"
      ]
     },
     "execution_count": 121,
     "metadata": {},
     "output_type": "execute_result"
    }
   ],
   "source": [
    "# 计算协方差\n",
    "V = np.zeros((n,n))\n",
    "for i in range(n):\n",
    "    for j in range(n):\n",
    "        V[i][j] = np.min(np.corrcoef(data.iloc[i],data.iloc[j]))\n",
    "# 计算逆协方差\n",
    "V1 = np.linalg.inv(V)\n",
    "V1"
   ]
  },
  {
   "cell_type": "code",
   "execution_count": 123,
   "metadata": {},
   "outputs": [
    {
     "data": {
      "text/html": [
       "<div>\n",
       "<style scoped>\n",
       "    .dataframe tbody tr th:only-of-type {\n",
       "        vertical-align: middle;\n",
       "    }\n",
       "\n",
       "    .dataframe tbody tr th {\n",
       "        vertical-align: top;\n",
       "    }\n",
       "\n",
       "    .dataframe thead th {\n",
       "        text-align: right;\n",
       "    }\n",
       "</style>\n",
       "<table border=\"1\" class=\"dataframe\">\n",
       "  <thead>\n",
       "    <tr style=\"text-align: right;\">\n",
       "      <th></th>\n",
       "      <th>0</th>\n",
       "      <th>1</th>\n",
       "      <th>2</th>\n",
       "      <th>3</th>\n",
       "      <th>4</th>\n",
       "      <th>5</th>\n",
       "      <th>6</th>\n",
       "      <th>7</th>\n",
       "      <th>8</th>\n",
       "      <th>9</th>\n",
       "      <th>...</th>\n",
       "      <th>40</th>\n",
       "      <th>41</th>\n",
       "      <th>42</th>\n",
       "      <th>43</th>\n",
       "      <th>44</th>\n",
       "      <th>45</th>\n",
       "      <th>46</th>\n",
       "      <th>47</th>\n",
       "      <th>48</th>\n",
       "      <th>49</th>\n",
       "    </tr>\n",
       "  </thead>\n",
       "  <tbody>\n",
       "    <tr>\n",
       "      <td>0</td>\n",
       "      <td>1.161104</td>\n",
       "      <td>-0.021788</td>\n",
       "      <td>0.021773</td>\n",
       "      <td>-0.050714</td>\n",
       "      <td>-0.021149</td>\n",
       "      <td>-0.071198</td>\n",
       "      <td>0.045942</td>\n",
       "      <td>0.036318</td>\n",
       "      <td>-0.042254</td>\n",
       "      <td>-0.019836</td>\n",
       "      <td>...</td>\n",
       "      <td>-0.128461</td>\n",
       "      <td>-0.039158</td>\n",
       "      <td>-0.077559</td>\n",
       "      <td>-0.002576</td>\n",
       "      <td>-0.035363</td>\n",
       "      <td>0.009199</td>\n",
       "      <td>-0.031333</td>\n",
       "      <td>-0.051855</td>\n",
       "      <td>0.004618</td>\n",
       "      <td>0.040040</td>\n",
       "    </tr>\n",
       "    <tr>\n",
       "      <td>1</td>\n",
       "      <td>-0.021788</td>\n",
       "      <td>1.348785</td>\n",
       "      <td>-0.028041</td>\n",
       "      <td>-0.014223</td>\n",
       "      <td>-0.006008</td>\n",
       "      <td>-0.118318</td>\n",
       "      <td>-0.018628</td>\n",
       "      <td>0.001795</td>\n",
       "      <td>0.014060</td>\n",
       "      <td>0.033023</td>\n",
       "      <td>...</td>\n",
       "      <td>-0.281291</td>\n",
       "      <td>0.088593</td>\n",
       "      <td>-0.107485</td>\n",
       "      <td>-0.015210</td>\n",
       "      <td>-0.055786</td>\n",
       "      <td>-0.008822</td>\n",
       "      <td>-0.008065</td>\n",
       "      <td>0.030252</td>\n",
       "      <td>0.013382</td>\n",
       "      <td>-0.109560</td>\n",
       "    </tr>\n",
       "    <tr>\n",
       "      <td>2</td>\n",
       "      <td>0.021773</td>\n",
       "      <td>-0.028041</td>\n",
       "      <td>1.071452</td>\n",
       "      <td>-0.069107</td>\n",
       "      <td>-0.075525</td>\n",
       "      <td>-0.041728</td>\n",
       "      <td>-0.144229</td>\n",
       "      <td>0.008880</td>\n",
       "      <td>0.019423</td>\n",
       "      <td>-0.041145</td>\n",
       "      <td>...</td>\n",
       "      <td>-0.002259</td>\n",
       "      <td>0.011930</td>\n",
       "      <td>-0.017409</td>\n",
       "      <td>-0.027165</td>\n",
       "      <td>-0.001649</td>\n",
       "      <td>-0.008774</td>\n",
       "      <td>-0.039272</td>\n",
       "      <td>-0.004079</td>\n",
       "      <td>-0.010547</td>\n",
       "      <td>-0.033840</td>\n",
       "    </tr>\n",
       "    <tr>\n",
       "      <td>3</td>\n",
       "      <td>-0.050714</td>\n",
       "      <td>-0.014223</td>\n",
       "      <td>-0.069107</td>\n",
       "      <td>1.110317</td>\n",
       "      <td>0.002581</td>\n",
       "      <td>0.093539</td>\n",
       "      <td>-0.052857</td>\n",
       "      <td>-0.021516</td>\n",
       "      <td>-0.046649</td>\n",
       "      <td>-0.099926</td>\n",
       "      <td>...</td>\n",
       "      <td>-0.022581</td>\n",
       "      <td>0.037681</td>\n",
       "      <td>-0.049769</td>\n",
       "      <td>0.013739</td>\n",
       "      <td>0.014416</td>\n",
       "      <td>0.048504</td>\n",
       "      <td>-0.036481</td>\n",
       "      <td>-0.048535</td>\n",
       "      <td>-0.025484</td>\n",
       "      <td>-0.071280</td>\n",
       "    </tr>\n",
       "    <tr>\n",
       "      <td>4</td>\n",
       "      <td>-0.021149</td>\n",
       "      <td>-0.006008</td>\n",
       "      <td>-0.075525</td>\n",
       "      <td>0.002581</td>\n",
       "      <td>1.835695</td>\n",
       "      <td>-0.033087</td>\n",
       "      <td>0.043784</td>\n",
       "      <td>-0.232154</td>\n",
       "      <td>-0.056897</td>\n",
       "      <td>0.029144</td>\n",
       "      <td>...</td>\n",
       "      <td>0.015337</td>\n",
       "      <td>-0.075858</td>\n",
       "      <td>0.054003</td>\n",
       "      <td>-0.007447</td>\n",
       "      <td>-0.008449</td>\n",
       "      <td>-0.168782</td>\n",
       "      <td>0.051203</td>\n",
       "      <td>-0.005344</td>\n",
       "      <td>0.021078</td>\n",
       "      <td>-0.046123</td>\n",
       "    </tr>\n",
       "  </tbody>\n",
       "</table>\n",
       "<p>5 rows × 50 columns</p>\n",
       "</div>"
      ],
      "text/plain": [
       "         0         1         2         3         4         5         6   \\\n",
       "0  1.161104 -0.021788  0.021773 -0.050714 -0.021149 -0.071198  0.045942   \n",
       "1 -0.021788  1.348785 -0.028041 -0.014223 -0.006008 -0.118318 -0.018628   \n",
       "2  0.021773 -0.028041  1.071452 -0.069107 -0.075525 -0.041728 -0.144229   \n",
       "3 -0.050714 -0.014223 -0.069107  1.110317  0.002581  0.093539 -0.052857   \n",
       "4 -0.021149 -0.006008 -0.075525  0.002581  1.835695 -0.033087  0.043784   \n",
       "\n",
       "         7         8         9   ...        40        41        42        43  \\\n",
       "0  0.036318 -0.042254 -0.019836  ... -0.128461 -0.039158 -0.077559 -0.002576   \n",
       "1  0.001795  0.014060  0.033023  ... -0.281291  0.088593 -0.107485 -0.015210   \n",
       "2  0.008880  0.019423 -0.041145  ... -0.002259  0.011930 -0.017409 -0.027165   \n",
       "3 -0.021516 -0.046649 -0.099926  ... -0.022581  0.037681 -0.049769  0.013739   \n",
       "4 -0.232154 -0.056897  0.029144  ...  0.015337 -0.075858  0.054003 -0.007447   \n",
       "\n",
       "         44        45        46        47        48        49  \n",
       "0 -0.035363  0.009199 -0.031333 -0.051855  0.004618  0.040040  \n",
       "1 -0.055786 -0.008822 -0.008065  0.030252  0.013382 -0.109560  \n",
       "2 -0.001649 -0.008774 -0.039272 -0.004079 -0.010547 -0.033840  \n",
       "3  0.014416  0.048504 -0.036481 -0.048535 -0.025484 -0.071280  \n",
       "4 -0.008449 -0.168782  0.051203 -0.005344  0.021078 -0.046123  \n",
       "\n",
       "[5 rows x 50 columns]"
      ]
     },
     "execution_count": 123,
     "metadata": {},
     "output_type": "execute_result"
    }
   ],
   "source": [
    "V2 = pd.DataFrame(V1)\n",
    "V2.head()"
   ]
  },
  {
   "cell_type": "code",
   "execution_count": 128,
   "metadata": {},
   "outputs": [
    {
     "name": "stdout",
     "output_type": "stream",
     "text": [
      "2\n",
      "[0, 2, 7, 8, 10, 14, 15, 18, 19, 20, 23, 24, 25, 28, 30, 31, 32, 34, 36, 37, 38, 41]\n",
      "[1, 3, 4, 5, 6, 9, 11, 12, 13, 16, 17, 21, 22, 26, 27, 29, 33, 35, 39, 40, 42, 43, 44, 45, 46, 47, 48, 49]\n"
     ]
    }
   ],
   "source": [
    "l = np.random.randint(0,49)\n",
    "print(l)\n",
    "E1, E2 = [], []\n",
    "for i in range(n):\n",
    "    if V2.loc[l][i]>0:\n",
    "        E1.append(i)\n",
    "    else:\n",
    "        E2.append(i)\n",
    "print(E1)\n",
    "print(E2)"
   ]
  },
  {
   "cell_type": "code",
   "execution_count": null,
   "metadata": {},
   "outputs": [],
   "source": []
  },
  {
   "cell_type": "code",
   "execution_count": null,
   "metadata": {},
   "outputs": [],
   "source": []
  },
  {
   "cell_type": "code",
   "execution_count": null,
   "metadata": {},
   "outputs": [],
   "source": []
  },
  {
   "cell_type": "code",
   "execution_count": null,
   "metadata": {},
   "outputs": [],
   "source": []
  },
  {
   "cell_type": "code",
   "execution_count": null,
   "metadata": {},
   "outputs": [],
   "source": []
  },
  {
   "cell_type": "code",
   "execution_count": null,
   "metadata": {},
   "outputs": [],
   "source": []
  },
  {
   "cell_type": "code",
   "execution_count": null,
   "metadata": {},
   "outputs": [],
   "source": []
  },
  {
   "cell_type": "code",
   "execution_count": null,
   "metadata": {},
   "outputs": [],
   "source": []
  },
  {
   "cell_type": "code",
   "execution_count": 101,
   "metadata": {},
   "outputs": [],
   "source": [
    "def getEuclidean(point1, point2):\n",
    "    dimension = len(point1)\n",
    "    dist = 0.0\n",
    "    for i in range(dimension):\n",
    "        dist += (point1[i] - point2[i]) ** 2\n",
    "    return math.sqrt(dist)"
   ]
  },
  {
   "cell_type": "code",
   "execution_count": 105,
   "metadata": {},
   "outputs": [
    {
     "data": {
      "text/plain": [
       "array([[0.        , 8.63204257, 9.83432789, ..., 8.75984001, 8.98484261,\n",
       "        8.85576706],\n",
       "       [8.63204257, 0.        , 9.01366568, ..., 8.21125272, 8.07301829,\n",
       "        7.37650012],\n",
       "       [9.83432789, 9.01366568, 0.        , ..., 9.09539412, 9.2046212 ,\n",
       "        8.74564117],\n",
       "       ...,\n",
       "       [8.75984001, 8.21125272, 9.09539412, ..., 0.        , 8.50656396,\n",
       "        8.00844539],\n",
       "       [8.98484261, 8.07301829, 9.2046212 , ..., 8.50656396, 0.        ,\n",
       "        7.81675047],\n",
       "       [8.85576706, 7.37650012, 8.74564117, ..., 8.00844539, 7.81675047,\n",
       "        0.        ]])"
      ]
     },
     "execution_count": 105,
     "metadata": {},
     "output_type": "execute_result"
    }
   ],
   "source": [
    "dist = np.zeros((n,n))\n",
    "for i in range(n):\n",
    "    for j in range(n):\n",
    "        dist[i][j] = getEuclidean(data.iloc[i], data.iloc[j])\n",
    "dist"
   ]
  },
  {
   "cell_type": "code",
   "execution_count": null,
   "metadata": {},
   "outputs": [],
   "source": []
  },
  {
   "cell_type": "code",
   "execution_count": null,
   "metadata": {},
   "outputs": [],
   "source": []
  }
 ],
 "metadata": {
  "kernelspec": {
   "display_name": "Python 3",
   "language": "python",
   "name": "python3"
  },
  "language_info": {
   "codemirror_mode": {
    "name": "ipython",
    "version": 3
   },
   "file_extension": ".py",
   "mimetype": "text/x-python",
   "name": "python",
   "nbconvert_exporter": "python",
   "pygments_lexer": "ipython3",
   "version": "3.7.4"
  }
 },
 "nbformat": 4,
 "nbformat_minor": 4
}
