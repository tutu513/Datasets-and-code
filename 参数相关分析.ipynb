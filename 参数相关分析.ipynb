{
 "cells": [
  {
   "cell_type": "code",
   "execution_count": 1,
   "metadata": {},
   "outputs": [],
   "source": [
    "## 导入需要的库\n",
    "import numpy as np\n",
    "import pandas as pd\n",
    "import math\n",
    "import os\n",
    "import random\n",
    "from matplotlib.pyplot import *\n",
    "import matplotlib.pyplot as plt\n",
    "\n",
    "from statsmodels.stats.weightstats import ztest"
   ]
  },
  {
   "cell_type": "code",
   "execution_count": 2,
   "metadata": {},
   "outputs": [
    {
     "data": {
      "text/html": [
       "<div>\n",
       "<style scoped>\n",
       "    .dataframe tbody tr th:only-of-type {\n",
       "        vertical-align: middle;\n",
       "    }\n",
       "\n",
       "    .dataframe tbody tr th {\n",
       "        vertical-align: top;\n",
       "    }\n",
       "\n",
       "    .dataframe thead th {\n",
       "        text-align: right;\n",
       "    }\n",
       "</style>\n",
       "<table border=\"1\" class=\"dataframe\">\n",
       "  <thead>\n",
       "    <tr style=\"text-align: right;\">\n",
       "      <th></th>\n",
       "      <th>0</th>\n",
       "      <th>1</th>\n",
       "      <th>2</th>\n",
       "      <th>3</th>\n",
       "      <th>4</th>\n",
       "      <th>5</th>\n",
       "      <th>6</th>\n",
       "      <th>7</th>\n",
       "      <th>8</th>\n",
       "      <th>9</th>\n",
       "      <th>...</th>\n",
       "      <th>1490</th>\n",
       "      <th>1491</th>\n",
       "      <th>1492</th>\n",
       "      <th>1493</th>\n",
       "      <th>1494</th>\n",
       "      <th>1495</th>\n",
       "      <th>1496</th>\n",
       "      <th>1497</th>\n",
       "      <th>1498</th>\n",
       "      <th>1499</th>\n",
       "    </tr>\n",
       "  </thead>\n",
       "  <tbody>\n",
       "    <tr>\n",
       "      <td>0</td>\n",
       "      <td>0.542315</td>\n",
       "      <td>0.631639</td>\n",
       "      <td>0.537692</td>\n",
       "      <td>0.657919</td>\n",
       "      <td>0.425744</td>\n",
       "      <td>0.533389</td>\n",
       "      <td>0.432409</td>\n",
       "      <td>0.655109</td>\n",
       "      <td>0.533334</td>\n",
       "      <td>0.454244</td>\n",
       "      <td>...</td>\n",
       "      <td>0.618472</td>\n",
       "      <td>0.499274</td>\n",
       "      <td>0.496539</td>\n",
       "      <td>0.506831</td>\n",
       "      <td>0.472601</td>\n",
       "      <td>0.540841</td>\n",
       "      <td>0.522418</td>\n",
       "      <td>0.551274</td>\n",
       "      <td>0.548531</td>\n",
       "      <td>0.472711</td>\n",
       "    </tr>\n",
       "    <tr>\n",
       "      <td>1</td>\n",
       "      <td>0.447122</td>\n",
       "      <td>0.625455</td>\n",
       "      <td>0.506848</td>\n",
       "      <td>0.492007</td>\n",
       "      <td>0.638708</td>\n",
       "      <td>0.775372</td>\n",
       "      <td>0.466275</td>\n",
       "      <td>0.486687</td>\n",
       "      <td>0.521557</td>\n",
       "      <td>0.493482</td>\n",
       "      <td>...</td>\n",
       "      <td>0.505660</td>\n",
       "      <td>0.553300</td>\n",
       "      <td>0.521557</td>\n",
       "      <td>0.553096</td>\n",
       "      <td>0.552896</td>\n",
       "      <td>0.442834</td>\n",
       "      <td>0.441554</td>\n",
       "      <td>0.569715</td>\n",
       "      <td>0.505557</td>\n",
       "      <td>0.521557</td>\n",
       "    </tr>\n",
       "    <tr>\n",
       "      <td>2</td>\n",
       "      <td>0.274827</td>\n",
       "      <td>0.525519</td>\n",
       "      <td>0.597789</td>\n",
       "      <td>0.462946</td>\n",
       "      <td>0.515822</td>\n",
       "      <td>0.387707</td>\n",
       "      <td>0.535493</td>\n",
       "      <td>0.275107</td>\n",
       "      <td>0.520282</td>\n",
       "      <td>0.478059</td>\n",
       "      <td>...</td>\n",
       "      <td>0.616526</td>\n",
       "      <td>0.434512</td>\n",
       "      <td>0.548418</td>\n",
       "      <td>0.433224</td>\n",
       "      <td>0.753095</td>\n",
       "      <td>0.458347</td>\n",
       "      <td>0.570396</td>\n",
       "      <td>0.614078</td>\n",
       "      <td>0.525519</td>\n",
       "      <td>0.761053</td>\n",
       "    </tr>\n",
       "    <tr>\n",
       "      <td>3</td>\n",
       "      <td>0.513593</td>\n",
       "      <td>0.519015</td>\n",
       "      <td>0.508134</td>\n",
       "      <td>0.414162</td>\n",
       "      <td>0.502106</td>\n",
       "      <td>0.602256</td>\n",
       "      <td>0.390319</td>\n",
       "      <td>0.603137</td>\n",
       "      <td>0.596409</td>\n",
       "      <td>0.702611</td>\n",
       "      <td>...</td>\n",
       "      <td>0.107530</td>\n",
       "      <td>0.699745</td>\n",
       "      <td>0.002770</td>\n",
       "      <td>0.008172</td>\n",
       "      <td>0.471095</td>\n",
       "      <td>0.630606</td>\n",
       "      <td>0.550657</td>\n",
       "      <td>0.816108</td>\n",
       "      <td>0.271831</td>\n",
       "      <td>0.147693</td>\n",
       "    </tr>\n",
       "    <tr>\n",
       "      <td>4</td>\n",
       "      <td>0.582469</td>\n",
       "      <td>0.490905</td>\n",
       "      <td>0.563069</td>\n",
       "      <td>0.358929</td>\n",
       "      <td>0.322298</td>\n",
       "      <td>0.591241</td>\n",
       "      <td>0.684933</td>\n",
       "      <td>0.445066</td>\n",
       "      <td>0.304304</td>\n",
       "      <td>0.519341</td>\n",
       "      <td>...</td>\n",
       "      <td>0.567308</td>\n",
       "      <td>0.608957</td>\n",
       "      <td>0.668854</td>\n",
       "      <td>0.452971</td>\n",
       "      <td>0.441484</td>\n",
       "      <td>0.482484</td>\n",
       "      <td>0.503411</td>\n",
       "      <td>0.587869</td>\n",
       "      <td>0.503570</td>\n",
       "      <td>0.556060</td>\n",
       "    </tr>\n",
       "  </tbody>\n",
       "</table>\n",
       "<p>5 rows × 1500 columns</p>\n",
       "</div>"
      ],
      "text/plain": [
       "          0         1         2         3         4         5         6  \\\n",
       "0  0.542315  0.631639  0.537692  0.657919  0.425744  0.533389  0.432409   \n",
       "1  0.447122  0.625455  0.506848  0.492007  0.638708  0.775372  0.466275   \n",
       "2  0.274827  0.525519  0.597789  0.462946  0.515822  0.387707  0.535493   \n",
       "3  0.513593  0.519015  0.508134  0.414162  0.502106  0.602256  0.390319   \n",
       "4  0.582469  0.490905  0.563069  0.358929  0.322298  0.591241  0.684933   \n",
       "\n",
       "          7         8         9  ...      1490      1491      1492      1493  \\\n",
       "0  0.655109  0.533334  0.454244  ...  0.618472  0.499274  0.496539  0.506831   \n",
       "1  0.486687  0.521557  0.493482  ...  0.505660  0.553300  0.521557  0.553096   \n",
       "2  0.275107  0.520282  0.478059  ...  0.616526  0.434512  0.548418  0.433224   \n",
       "3  0.603137  0.596409  0.702611  ...  0.107530  0.699745  0.002770  0.008172   \n",
       "4  0.445066  0.304304  0.519341  ...  0.567308  0.608957  0.668854  0.452971   \n",
       "\n",
       "       1494      1495      1496      1497      1498      1499  \n",
       "0  0.472601  0.540841  0.522418  0.551274  0.548531  0.472711  \n",
       "1  0.552896  0.442834  0.441554  0.569715  0.505557  0.521557  \n",
       "2  0.753095  0.458347  0.570396  0.614078  0.525519  0.761053  \n",
       "3  0.471095  0.630606  0.550657  0.816108  0.271831  0.147693  \n",
       "4  0.441484  0.482484  0.503411  0.587869  0.503570  0.556060  \n",
       "\n",
       "[5 rows x 1500 columns]"
      ]
     },
     "execution_count": 2,
     "metadata": {},
     "output_type": "execute_result"
    }
   ],
   "source": [
    "## 读取对数收益率数据\n",
    "data = pd.read_csv(\"归一化数据.csv\")\n",
    "data = data.drop(['Unnamed: 0'], axis = 1)\n",
    "data.head()"
   ]
  },
  {
   "cell_type": "code",
   "execution_count": 5,
   "metadata": {},
   "outputs": [],
   "source": [
    "def xiaoyong(x,singam,theta):\n",
    "    lamda = np.zeros((len(x),6));\n",
    "    u = np.ones((len(x),6));\n",
    "    u1 = np.zeros((len(x),6));\n",
    "    \n",
    "    for i in range(0,len(x)): # 计算不同属性下的函数\n",
    "        # 计算相对损失函数\n",
    "        lamda[i,1] = singam * x[i];\n",
    "        lamda[i,2] = x[i];\n",
    "        lamda[i,3] = 1-x[i];\n",
    "        lamda[i,4] = singam * (1-x[i]);\n",
    "    \n",
    "        # 计算基于后悔理论的效用函数\n",
    "        u[i,1] = 1 - (1 - np.exp(-theta * lamda[i,1]))/theta\n",
    "        u[i,2] = 1 - (1 - np.exp(-theta * lamda[i,2]))/theta\n",
    "        u[i,3] = 1 - (1 - np.exp(-theta * lamda[i,3]))/theta\n",
    "        u[i,4] = 1 - (1 - np.exp(-theta * lamda[i,4]))/theta\n",
    "        \n",
    "        # 计算相对效用函数\n",
    "        u1[i,0] = 1 - u[i,2] \n",
    "        u1[i,1] = u[i,1] - u[i,2] \n",
    "        u1[i,4] = u[i,4] - u[i,3] \n",
    "        u1[i,5] = 1 - u[i,3]\n",
    "        \n",
    "    return u1"
   ]
  },
  {
   "cell_type": "code",
   "execution_count": 59,
   "metadata": {},
   "outputs": [
    {
     "data": {
      "text/plain": [
       "array([[0.9348302 , 0.04832714],\n",
       "       [0.87117799, 0.09743406],\n",
       "       [0.80957961, 0.14682352],\n",
       "       [0.74992193, 0.19647693],\n",
       "       [0.69209993, 0.24637548],\n",
       "       [0.63601604, 0.2965001 ],\n",
       "       [0.58157944, 0.34683152],\n",
       "       [0.52870553, 0.39735032],\n",
       "       [0.47731538, 0.4480369 ]])"
      ]
     },
     "execution_count": 59,
     "metadata": {},
     "output_type": "execute_result"
    }
   ],
   "source": [
    "# 计算不同对象的聚合相对效用函数矩阵\n",
    "X = [0.05, 0.1, 0.15, 0.2, 0.25, 0.3, 0.35, 0.4, 0.45]\n",
    "theta = 0.5\n",
    "n, m = len(data), len(data.T)\n",
    "lamda = np.zeros((len(X),6));\n",
    "u = np.ones((len(X),6));\n",
    "u1 = np.zeros((len(X),6));\n",
    "u3 = np.zeros((len(X),6))\n",
    "x = data.iloc[0]\n",
    "yuzhi = np.zeros((len(X),2))\n",
    "\n",
    "for k in range(0,len(X)):\n",
    "    singam = X[k]\n",
    "   \n",
    "    # 计算相对损失函数\n",
    "    lamda[k,1] = singam * x[0];\n",
    "    lamda[k,2] = x[0];\n",
    "    lamda[k,3] = 1-x[0];\n",
    "    lamda[k,4] = singam * (1-x[0]);\n",
    "    \n",
    "    # 计算基于后悔理论的效用函数\n",
    "    u[k,1] = 1 - (1 - np.exp(-theta * lamda[k,1]))/theta\n",
    "    u[k,2] = 1 - (1 - np.exp(-theta * lamda[k,2]))/theta\n",
    "    u[k,3] = 1 - (1 - np.exp(-theta * lamda[k,3]))/theta\n",
    "    u[k,4] = 1 - (1 - np.exp(-theta * lamda[k,4]))/theta\n",
    "        \n",
    "    # 计算相对效用函数\n",
    "    u1[k,0] = 1 - u[k,2] \n",
    "    u1[k,1] = u[k,1] - u[k,2] \n",
    "    u1[k,4] = u[k,4] - u[k,3] \n",
    "    u1[k,5] = 1 - u[k,3]\n",
    "    u2 = np.max(u1, axis = 0)\n",
    "    delta = 0.01\n",
    "    for j in range(0,6):\n",
    "        u3[k][j] = u1[k,j] + 1 - np.exp(- delta * (u1[k,j]-u2[j]))\n",
    "            \n",
    "    #根据基于后悔理论的相对效用函数计算不同对象的不同粒度下的阈值\n",
    "    yuzhi[k][0] = (u3[k][4])/(u3[k][4]+u3[k][0]-u3[k][1])\n",
    "    yuzhi[k][1] = (u3[k][5]-u3[k][4])/(u3[k][1]+u3[k][5]-u3[k][4])\n",
    "yuzhi    "
   ]
  },
  {
   "cell_type": "code",
   "execution_count": null,
   "metadata": {},
   "outputs": [],
   "source": []
  },
  {
   "cell_type": "code",
   "execution_count": null,
   "metadata": {},
   "outputs": [],
   "source": []
  },
  {
   "cell_type": "code",
   "execution_count": 132,
   "metadata": {},
   "outputs": [
    {
     "data": {
      "text/plain": [
       "array([[0.9534727 , 0.06763845],\n",
       "       [0.90170389, 0.13910823],\n",
       "       [0.84930223, 0.20776334],\n",
       "       [0.79628486, 0.27379122],\n",
       "       [0.74266977, 0.33736312],\n",
       "       [0.68847576, 0.39863589],\n",
       "       [0.63372244, 0.45775336],\n",
       "       [0.57843022, 0.51484774],\n",
       "       [0.52262027, 0.57004075]])"
      ]
     },
     "execution_count": 132,
     "metadata": {},
     "output_type": "execute_result"
    }
   ],
   "source": [
    "# 计算不同对象的聚合相对效用函数矩阵\n",
    "X = [0.05, 0.1, 0.15, 0.2, 0.25, 0.3, 0.35, 0.4, 0.45]\n",
    "theta = 0.5\n",
    "n, m = len(data), len(data.T)\n",
    "lamda = np.zeros((len(X),6));\n",
    "u = np.ones((len(X),6));\n",
    "u1 = np.zeros((len(X),6));\n",
    "u3 = np.zeros((len(X),6))\n",
    "x = data.iloc[1]\n",
    "yuzhi = np.zeros((len(X),2))\n",
    "\n",
    "for k in range(0,len(X)):\n",
    "    singam = X[k]\n",
    "   \n",
    "    # 计算相对损失函数\n",
    "    lamda[k,1] = singam * x[0];\n",
    "    lamda[k,2] = x[0];\n",
    "    lamda[k,3] = 1-x[0];\n",
    "    lamda[k,4] = singam * (1-x[0]);\n",
    "    \n",
    "    # 计算基于后悔理论的效用函数\n",
    "    u[k,1] = 1 - (1 - np.exp(-theta * lamda[k,1]))/theta\n",
    "    u[k,2] = 1 - (1 - np.exp(-theta * lamda[k,2]))/theta\n",
    "    u[k,3] = 1 - (1 - np.exp(-theta * lamda[k,3]))/theta\n",
    "    u[k,4] = 1 - (1 - np.exp(-theta * lamda[k,4]))/theta\n",
    "        \n",
    "    # 计算相对效用函数\n",
    "    u1[k,0] = 1 - u[k,2] \n",
    "    u1[k,1] = u[k,1] - u[k,2] \n",
    "    u1[k,4] = u[k,4] - u[k,3] \n",
    "    u1[k,5] = 1 - u[k,3]\n",
    "    u2 = np.max(u1, axis = 0)\n",
    "    delta = 0.1\n",
    "    for j in range(0,6):\n",
    "        u3[k][j] = u1[k,j] + 1 - np.exp(-delta * (u1[k,j]-u2[j]))\n",
    "            \n",
    "    #根据基于后悔理论的相对效用函数计算不同对象的不同粒度下的阈值\n",
    "    yuzhi[k][0] = (u3[k][4])/(u3[k][4]+u3[k][0]-u3[k][1])\n",
    "    yuzhi[k][1] = (u3[k][5]-u3[k][4])/(u3[k][1]+u3[k][5]-u3[k][4])\n",
    "yuzhi    "
   ]
  },
  {
   "cell_type": "code",
   "execution_count": 80,
   "metadata": {},
   "outputs": [],
   "source": [
    "font1 = {'family': 'Times New Roman',\n",
    "         'weight': 'normal',\n",
    "         'size': 16,\n",
    "         }\n",
    "config = {\n",
    "            \"font.family\": 'serif',\n",
    "            \"font.size\": 14,# 相当于小四大小\n",
    "            \"mathtext.fontset\": 'stix',#matplotlib渲染数学字体时使用的字体，和Times New Roman差别不大\n",
    "            \"font.serif\": ['SimSun'],#宋体\n",
    "            'axes.unicode_minus': False # 处理负号，即-号\n",
    "         }\n",
    "rcParams.update(config)"
   ]
  },
  {
   "cell_type": "code",
   "execution_count": 135,
   "metadata": {},
   "outputs": [
    {
     "name": "stdout",
     "output_type": "stream",
     "text": [
      "[0.9534727  0.90170389 0.84930223 0.79628486 0.74266977 0.68847576\n",
      " 0.63372244 0.57843022 0.52262027]\n",
      "[0.06763845 0.13910823 0.20776334 0.27379122 0.33736312 0.39863589\n",
      " 0.45775336 0.51484774 0.57004075]\n"
     ]
    }
   ],
   "source": [
    "print(yuzhi.T[:][0])\n",
    "print(yuzhi.T[:][1])"
   ]
  },
  {
   "cell_type": "code",
   "execution_count": 138,
   "metadata": {},
   "outputs": [
    {
     "data": {
      "image/png": "[encoded data removed]",
      "text/plain": [
       "<Figure size 432x288 with 1 Axes>"
      ]
     },
     "metadata": {
      "needs_background": "light"
     },
     "output_type": "display_data"
    }
   ],
   "source": [
    "# 这两行代码解决 plt 中文显示的问题\n",
    "plt.rcParams['font.sans-serif'] = ['SimHei']\n",
    "plt.rcParams['axes.unicode_minus'] = False\n",
    "plt.rcParams['figure.figsize'] = (6.0, 4.0)\n",
    "rc('font',size=16); rc('text', usetex=True)  #调用tex字库\n",
    "\n",
    "X = ('0.05', '0.1', '0.15', '0.2', '0.25', '0.3', '0.35', '0.4', '0.45') \n",
    "Y1 = [0.9534727,  0.90170389, 0.84930223, 0.79628486, 0.74266977, 0.68847576, 0.63372244, 0.57843022, 0.55262027]\n",
    "Y2 = [0.06763845, 0.13910823, 0.20776334, 0.27379122, 0.33736312, 0.39863589, 0.45775336, 0.51484774, 0.52004075]\n",
    "\n",
    "bar_width = 0.3 # 条形宽度\n",
    "index_male = np.arange(len(X)) # 阈值1条形图的横坐标\n",
    "index_female = index_male + bar_width # 阈值2条形图的横坐标\n",
    " \n",
    "# 使用两次 bar 函数画出两组条形图\n",
    "plt.bar(index_male, height=Y1, width=bar_width, color='royalblue', label=r'$\\alpha_1$')\n",
    "plt.bar(index_female, height=Y2, width=bar_width, color='coral', label=r'$\\beta_1$')\n",
    "\n",
    "plt.xticks(index_male + bar_width/2, X)\n",
    "plt.xlabel('The value of $\\sigma$',font1)\n",
    "plt.ylabel('The value of thresholds',font1)\n",
    "plt.legend() # 显示图例\n",
    "savefig(\"参数实验1.1.jpg\", dpi=300, bbox_inches='tight')\n",
    "plt.show()"
   ]
  },
  {
   "cell_type": "code",
   "execution_count": 154,
   "metadata": {},
   "outputs": [
    {
     "data": {
      "text/plain": [
       "array([[0.87197793, 0.182308  ],\n",
       "       [0.86847267, 0.18584736],\n",
       "       [0.86489605, 0.1894313 ],\n",
       "       [0.86124738, 0.19305984],\n",
       "       [0.857526  , 0.19673299],\n",
       "       [0.85373122, 0.20045076],\n",
       "       [0.84986238, 0.20421313],\n",
       "       [0.84591882, 0.20802009],\n",
       "       [0.8418999 , 0.21187163]])"
      ]
     },
     "execution_count": 154,
     "metadata": {},
     "output_type": "execute_result"
    }
   ],
   "source": [
    "# 计算不同对象的聚合相对效用函数矩阵\n",
    "X = [0.1, 0.2, 0.3, 0.4, 0.5, 0.6, 0.7, 0.8, 0.9]\n",
    "singam = 0.15\n",
    "n, m = len(data), len(data.T)\n",
    "lamda = np.zeros((len(X),6));\n",
    "u = np.ones((len(X),6));\n",
    "u1 = np.zeros((len(X),6));\n",
    "u3 = np.zeros((len(X),6))\n",
    "x = data.iloc[1]\n",
    "yuzhi = np.zeros((len(X),2))\n",
    "\n",
    "for k in range(0,len(X)):\n",
    "    theta = X[k]\n",
    "   \n",
    "    # 计算相对损失函数\n",
    "    lamda[k,1] = singam * x[0];\n",
    "    lamda[k,2] = x[0];\n",
    "    lamda[k,3] = 1-x[0];\n",
    "    lamda[k,4] = singam * (1-x[0]);\n",
    "    \n",
    "    # 计算基于后悔理论的效用函数\n",
    "    u[k,1] = 1 - (1 - np.exp(-theta * lamda[k,1]))/theta\n",
    "    u[k,2] = 1 - (1 - np.exp(-theta * lamda[k,2]))/theta\n",
    "    u[k,3] = 1 - (1 - np.exp(-theta * lamda[k,3]))/theta\n",
    "    u[k,4] = 1 - (1 - np.exp(-theta * lamda[k,4]))/theta\n",
    "        \n",
    "    # 计算相对效用函数\n",
    "    u1[k,0] = 1 - u[k,2] \n",
    "    u1[k,1] = u[k,1] - u[k,2] \n",
    "    u1[k,4] = u[k,4] - u[k,3] \n",
    "    u1[k,5] = 1 - u[k,3]\n",
    "    u2 = np.max(u1, axis = 0)\n",
    "    delta = 0.1\n",
    "    for j in range(0,6):\n",
    "        u3[k][j] = u1[k,j] + 1 - np.exp(-delta * (u1[k,j]-u2[j]))\n",
    "            \n",
    "    #根据基于后悔理论的相对效用函数计算不同对象的不同粒度下的阈值\n",
    "    yuzhi[k][0] = (u3[k][4])/(u3[k][4]+u3[k][0]-u3[k][1])\n",
    "    yuzhi[k][1] = (u3[k][5]-u3[k][4])/(u3[k][1]+u3[k][5]-u3[k][4])\n",
    "yuzhi    "
   ]
  },
  {
   "cell_type": "code",
   "execution_count": 155,
   "metadata": {},
   "outputs": [
    {
     "name": "stdout",
     "output_type": "stream",
     "text": [
      "[0.87197793 0.86847267 0.86489605 0.86124738 0.857526   0.85373122\n",
      " 0.84986238 0.84591882 0.8418999 ]\n",
      "[0.182308   0.18584736 0.1894313  0.19305984 0.19673299 0.20045076\n",
      " 0.20421313 0.20802009 0.21187163]\n"
     ]
    }
   ],
   "source": [
    "print(yuzhi.T[:][0])\n",
    "print(yuzhi.T[:][1])"
   ]
  },
  {
   "cell_type": "code",
   "execution_count": 157,
   "metadata": {},
   "outputs": [
    {
     "data": {
      "text/plain": [
       "0.030078030502269093"
      ]
     },
     "execution_count": 157,
     "metadata": {},
     "output_type": "execute_result"
    }
   ],
   "source": [
    "yuzhi[0][0]-yuzhi[8][0]"
   ]
  },
  {
   "cell_type": "code",
   "execution_count": 158,
   "metadata": {},
   "outputs": [
    {
     "data": {
      "text/plain": [
       "0.030100000000000016"
      ]
     },
     "execution_count": 158,
     "metadata": {},
     "output_type": "execute_result"
    }
   ],
   "source": [
    "0.8720 - 0.8419"
   ]
  },
  {
   "cell_type": "code",
   "execution_count": 185,
   "metadata": {},
   "outputs": [
    {
     "data": {
      "image/png": "[encoded data removed]",
      "text/plain": [
       "<Figure size 432x288 with 1 Axes>"
      ]
     },
     "metadata": {
      "needs_background": "light"
     },
     "output_type": "display_data"
    }
   ],
   "source": [
    "X = [0.1, 0.2, 0.3, 0.4, 0.5, 0.6, 0.7, 0.8, 0.9] \n",
    "Y1 = [0.87197793, 0.86847267, 0.86489605, 0.86124738, 0.857526,   0.85373122, 0.84986238, 0.84591882, 0.8418999 ]\n",
    "Y2 = [0.182308,   0.18584736, 0.1894313,  0.19305984, 0.19673299, 0.20045076, 0.20421313, 0.20802009, 0.21187163]\n",
    "\n",
    "plt.rcParams['figure.figsize'] = (6.0, 4.0)\n",
    "bar_width = 0.3 # 条形宽度\n",
    "index_male = np.arange(len(X)) # 阈值1条形图的横坐标\n",
    "index_female = index_male + bar_width # 阈值2条形图的横坐标\n",
    "# 使用两次 bar 函数画出两组条形图\n",
    "plt.bar(index_male, height=Y1, width=bar_width, color='royalblue', label=r'$\\alpha_1$')\n",
    "plt.bar(index_female, height=Y2, width=bar_width, color='coral', label=r'$\\beta_1$')\n",
    "plt.xticks(index_male + bar_width/2, X)\n",
    "plt.xlabel('The value of 'r'$\\theta$',font1)\n",
    "plt.ylabel('The value of thresholds',font1)\n",
    "plt.legend() # 显示图例\n",
    "plt.title('(a)', y=-0.3)\n",
    "# savefig(\"参数实验2.2.jpg\", dpi=300, bbox_inches='tight')\n",
    "plt.show()"
   ]
  },
  {
   "cell_type": "code",
   "execution_count": 143,
   "metadata": {},
   "outputs": [
    {
     "data": {
      "image/png": "[encoded data removed]",
      "text/plain": [
       "<Figure size 216x144 with 1 Axes>"
      ]
     },
     "metadata": {
      "needs_background": "light"
     },
     "output_type": "display_data"
    }
   ],
   "source": [
    "plt.rcParams['figure.figsize'] = (3.0, 2.0)\n",
    "X = [0.1, 0.2, 0.3, 0.4, 0.5, 0.6, 0.7, 0.8, 0.9] \n",
    "plt.plot(X, Y1, color='royalblue', label=r'$\\alpha_1$')\n",
    "plt.legend() # 显示图例\n",
    "savefig(\"参数实验3.3.jpg\", dpi=300, bbox_inches='tight')\n",
    "plt.show()"
   ]
  },
  {
   "cell_type": "code",
   "execution_count": 144,
   "metadata": {},
   "outputs": [
    {
     "data": {
      "image/png": "[encoded data removed]",
      "text/plain": [
       "<Figure size 216x144 with 1 Axes>"
      ]
     },
     "metadata": {
      "needs_background": "light"
     },
     "output_type": "display_data"
    }
   ],
   "source": [
    "plt.rcParams['figure.figsize'] = (3.0, 2.0)\n",
    "plt.plot(X, Y2, color='coral', label=r'$\\beta_1$')\n",
    "plt.legend() # 显示图例\n",
    "savefig(\"参数实验4.4.jpg\", dpi=300, bbox_inches='tight')\n",
    "plt.show()"
   ]
  },
  {
   "cell_type": "code",
   "execution_count": 193,
   "metadata": {},
   "outputs": [
    {
     "data": {
      "image/png": "[encoded data removed]",
      "text/plain": [
       "<Figure size 216x288 with 2 Axes>"
      ]
     },
     "metadata": {
      "needs_background": "light"
     },
     "output_type": "display_data"
    }
   ],
   "source": [
    "X = [0.1, 0.2, 0.3, 0.4, 0.5, 0.6, 0.7, 0.8, 0.9] \n",
    "Y1 = [0.87197793, 0.86847267, 0.86489605, 0.86124738, 0.857526,   0.85373122, 0.84986238, 0.84591882, 0.8418999 ]\n",
    "Y2 = [0.182308,   0.18584736, 0.1894313,  0.19305984, 0.19673299, 0.20045076, 0.20421313, 0.20802009, 0.21187163]\n",
    "plt.rcParams['figure.figsize'] = (3, 4.0)\n",
    "a = subplot(2,1,1)\n",
    "plt.plot(X, Y1, color='royalblue', label=r'$\\alpha_1$')\n",
    "plt.legend() # 显示图例\n",
    "plt.xticks([0.5,0.9]) #设置图片横坐标的显示\n",
    "b = subplot(2,1,2)\n",
    "b.plot(X, Y2, color='coral', label=r'$\\beta_1$')\n",
    "plt.legend() # 显示图例\n",
    "plt.xticks([0.5,0.9])\n",
    "plt.title('(b)', y=-0.4)\n",
    "savefig(\"参数实验7.7.jpg\", dpi=300, bbox_inches='tight')\n",
    "plt.show()"
   ]
  },
  {
   "cell_type": "code",
   "execution_count": 160,
   "metadata": {},
   "outputs": [
    {
     "data": {
      "text/plain": [
       "array([[0.857526  , 0.19673299],\n",
       "       [0.85601312, 0.19819199],\n",
       "       [0.85445541, 0.19968127],\n",
       "       [0.85285085, 0.20120182],\n",
       "       [0.85119729, 0.2027547 ],\n",
       "       [0.84949248, 0.20434102],\n",
       "       [0.84773398, 0.20596191],\n",
       "       [0.84591924, 0.2076186 ],\n",
       "       [0.84404552, 0.20931233],\n",
       "       [0.8421099 , 0.21104443]])"
      ]
     },
     "execution_count": 160,
     "metadata": {},
     "output_type": "execute_result"
    }
   ],
   "source": [
    "# 计算不同对象的聚合相对效用函数矩阵\n",
    "X = [0.1, 0.2, 0.3, 0.4, 0.5, 0.6, 0.7, 0.8, 0.9, 1]\n",
    "singam = 0.15\n",
    "theta = 0.5\n",
    "n, m = len(data), len(data.T)\n",
    "lamda = np.zeros((1,6));\n",
    "u = np.ones((1,6));\n",
    "u1 = np.zeros((1,6));\n",
    "u3 = np.zeros((len(X),6))\n",
    "x = data.iloc[1]\n",
    "yuzhi = np.zeros((len(X),2))\n",
    "\n",
    "for k in range(0,len(X)):\n",
    "    # 计算相对损失函数\n",
    "    lamda[0,1] = singam * x[0];\n",
    "    lamda[0,2] = x[0];\n",
    "    lamda[0,3] = 1-x[0];\n",
    "    lamda[0,4] = singam * (1-x[0]);\n",
    "    \n",
    "    # 计算基于后悔理论的效用函数\n",
    "    u[0,1] = 1 - (1 - np.exp(-theta * lamda[0,1]))/theta\n",
    "    u[0,2] = 1 - (1 - np.exp(-theta * lamda[0,2]))/theta\n",
    "    u[0,3] = 1 - (1 - np.exp(-theta * lamda[0,3]))/theta\n",
    "    u[0,4] = 1 - (1 - np.exp(-theta * lamda[0,4]))/theta\n",
    "        \n",
    "    # 计算相对效用函数\n",
    "    u1[0,0] = 1 - u[0,2] \n",
    "    u1[0,1] = u[0,1] - u[0,2] \n",
    "    u1[0,4] = u[0,4] - u[0,3] \n",
    "    u1[0,5] = 1 - u[0,3]\n",
    "    u2 = np.max(u1, axis = 0)\n",
    "    delta = X[k]\n",
    "    for j in range(0,6):\n",
    "        u3[k][j] = u1[0,j] + 1 - np.exp(-delta * (u1[0,j]-u2[j]))\n",
    "            \n",
    "    #根据基于后悔理论的相对效用函数计算不同对象的不同粒度下的阈值\n",
    "    yuzhi[k][0] = (u3[k][4])/(u3[k][4]+u3[k][0]-u3[k][1])\n",
    "    yuzhi[k][1] = (u3[k][5]-u3[k][4])/(u3[k][1]+u3[k][5]-u3[k][4])\n",
    "yuzhi    "
   ]
  },
  {
   "cell_type": "code",
   "execution_count": 161,
   "metadata": {},
   "outputs": [
    {
     "name": "stdout",
     "output_type": "stream",
     "text": [
      "[0.857526   0.85601312 0.85445541 0.85285085 0.85119729 0.84949248\n",
      " 0.84773398 0.84591924 0.84404552 0.8421099 ]\n",
      "[0.19673299 0.19819199 0.19968127 0.20120182 0.2027547  0.20434102\n",
      " 0.20596191 0.2076186  0.20931233 0.21104443]\n"
     ]
    }
   ],
   "source": [
    "print(yuzhi.T[:][0])\n",
    "print(yuzhi.T[:][1])"
   ]
  },
  {
   "cell_type": "code",
   "execution_count": 165,
   "metadata": {},
   "outputs": [
    {
     "data": {
      "text/plain": [
       "-0.01429999999999998"
      ]
     },
     "execution_count": 165,
     "metadata": {},
     "output_type": "execute_result"
    }
   ],
   "source": [
    "0.1967 - 0.2110 "
   ]
  },
  {
   "cell_type": "code",
   "execution_count": 162,
   "metadata": {},
   "outputs": [
    {
     "data": {
      "image/png": "[encoded data removed]",
      "text/plain": [
       "<Figure size 432x288 with 1 Axes>"
      ]
     },
     "metadata": {
      "needs_background": "light"
     },
     "output_type": "display_data"
    }
   ],
   "source": [
    "X = [0.1, 0.2, 0.3, 0.4, 0.5, 0.6, 0.7, 0.8, 0.9, 1]\n",
    "Y1 = yuzhi.T[:][0]\n",
    "Y2 = yuzhi.T[:][1]\n",
    "bar_width = 0.3 # 条形宽度\n",
    "index_male = np.arange(len(X)) # 阈值1条形图的横坐标\n",
    "index_female = index_male + bar_width # 阈值2条形图的横坐标\n",
    "plt.rcParams['figure.figsize'] = (6.0, 4.0)\n",
    "# 使用两次 bar 函数画出两组条形图\n",
    "plt.bar(index_male, height=Y1, width=bar_width, color='royalblue', label=r'$\\alpha_1$')\n",
    "plt.bar(index_female, height=Y2, width=bar_width, color='coral', label=r'$\\beta_1$')\n",
    "\n",
    "plt.xticks(index_male + bar_width/2, X)\n",
    "plt.xlabel('The value of 'r'$\\delta$',font1)\n",
    "plt.ylabel('The value of thresholds',font1)\n",
    "plt.legend() # 显示图例\n",
    "plt.title('(a)', y=-0.3)\n",
    "savefig(\"参数实验5.5.jpg\", dpi=300, bbox_inches='tight')\n",
    "plt.show()"
   ]
  },
  {
   "cell_type": "code",
   "execution_count": 163,
   "metadata": {},
   "outputs": [
    {
     "data": {
      "image/png": "[encoded data removed]",
      "text/plain": [
       "<Figure size 216x288 with 2 Axes>"
      ]
     },
     "metadata": {
      "needs_background": "light"
     },
     "output_type": "display_data"
    }
   ],
   "source": [
    "X = [0.1, 0.2, 0.3, 0.4, 0.5, 0.6, 0.7, 0.8, 0.9, 1]\n",
    "Y1 = yuzhi.T[:][0]\n",
    "Y2 = yuzhi.T[:][1]\n",
    "plt.rcParams['figure.figsize'] = (3.0, 4.0)\n",
    "a = subplot(2,1,1)\n",
    "plt.plot(X, Y1, color='royalblue', label=r'$\\alpha_1$')\n",
    "plt.legend() # 显示图例\n",
    "b = subplot(2,1,2)\n",
    "b.plot(X, Y2, color='coral', label=r'$\\beta_1$')\n",
    "plt.legend() # 显示图例\n",
    "plt.title('(b)', y=-0.4)\n",
    "savefig(\"参数实验6.6.jpg\", dpi=300, bbox_inches='tight')\n",
    "plt.show()"
   ]
  },
  {
   "cell_type": "code",
   "execution_count": 178,
   "metadata": {},
   "outputs": [
    {
     "name": "stdout",
     "output_type": "stream",
     "text": [
      "0.05 0.1\n",
      "(0.9581, 0.0624)\n",
      "0.05 0.5\n",
      "(0.9535, 0.0676)\n",
      "0.05 0.9\n",
      "(0.9486, 0.0731)\n",
      "0.1 0.1\n",
      "(0.9154, 0.1231)\n",
      "0.1 0.5\n",
      "(0.9065, 0.1327)\n",
      "0.1 0.9\n",
      "(0.897, 0.1426)\n",
      "0.15 0.1\n",
      "(0.872, 0.1823)\n",
      "0.15 0.5\n",
      "(0.859, 0.1953)\n",
      "0.15 0.9\n",
      "(0.8453, 0.2087)\n",
      "0.2 0.1\n",
      "(0.8278, 0.24)\n",
      "0.2 0.5\n",
      "(0.8111, 0.2557)\n",
      "0.2 0.9\n",
      "(0.7936, 0.2717)\n",
      "0.25 0.1\n",
      "(0.7828, 0.2962)\n",
      "0.25 0.5\n",
      "(0.7627, 0.3139)\n",
      "0.25 0.9\n",
      "(0.7418, 0.3318)\n",
      "0.3 0.1\n",
      "(0.737, 0.3511)\n",
      "0.3 0.5\n",
      "(0.714, 0.3701)\n",
      "0.3 0.9\n",
      "(0.6902, 0.3893)\n",
      "0.35 0.1\n",
      "(0.6904, 0.4046)\n",
      "0.35 0.5\n",
      "(0.6648, 0.4244)\n",
      "0.35 0.9\n",
      "(0.6386, 0.4443)\n",
      "0.4 0.1\n",
      "(0.6429, 0.4569)\n",
      "0.4 0.5\n",
      "(0.6153, 0.477)\n",
      "0.4 0.9\n",
      "(0.5872, 0.4971)\n"
     ]
    }
   ],
   "source": [
    "# 计算不同对象的聚合相对效用函数矩阵\n",
    "X1 = [0.05, 0.1, 0.15, 0.2, 0.25, 0.3, 0.35, 0.4]\n",
    "X2 = [0.1, 0.5, 0.9]\n",
    "n, m = len(data), len(data.T)\n",
    "x = data.iloc[1]\n",
    "\n",
    "for k1 in range(0,len(X1)):\n",
    "    for k2 in range(0,len(X2)):\n",
    "        singam = X1[k1]\n",
    "        theta = X2[k2]\n",
    "        u = np.ones((1,6));\n",
    "        u1 = np.zeros((1,6));\n",
    "        u3 = np.zeros((1,6))\n",
    "        \n",
    "        # 计算相对损失函数\n",
    "        lamda[0,1] = singam * x[0];\n",
    "        lamda[0,2] = x[0];\n",
    "        lamda[0,3] = 1-x[0];\n",
    "        lamda[0,4] = singam * (1-x[0]);\n",
    "    \n",
    "        # 计算基于后悔理论的效用函数\n",
    "        u[0,1] = 1 - (1 - np.exp(-theta * lamda[0,1]))/theta\n",
    "        u[0,2] = 1 - (1 - np.exp(-theta * lamda[0,2]))/theta\n",
    "        u[0,3] = 1 - (1 - np.exp(-theta * lamda[0,3]))/theta\n",
    "        u[0,4] = 1 - (1 - np.exp(-theta * lamda[0,4]))/theta\n",
    "        \n",
    "        # 计算相对效用函数\n",
    "        u1[0,0] = 1 - u[0,2] \n",
    "        u1[0,1] = u[0,1] - u[0,2] \n",
    "        u1[0,4] = u[0,4] - u[0,3] \n",
    "        u1[0,5] = 1 - u[0,3]\n",
    "        u2 = np.max(u1, axis = 0)\n",
    "        delta = 0.1\n",
    "        for j in range(0,6):\n",
    "            u3[0][j] = u1[0,j] + 1 - np.exp(-delta * (u1[0,j]-u2[j]))\n",
    "        \n",
    "        yuzhi = np.zeros((1,6))\n",
    "        #根据基于后悔理论的相对效用函数计算不同对象的不同粒度下的阈值\n",
    "        yuzhi[0][0] = (u3[0][4])/(u3[0][4]+u3[0][0]-u3[0][1])\n",
    "        yuzhi[0][1] = (u3[0][5]-u3[0][4])/(u3[0][1]+u3[0][5]-u3[0][4])\n",
    "        print(singam,theta)\n",
    "        print((round(yuzhi[0][0],4),round(yuzhi[0][1],4)))"
   ]
  },
  {
   "cell_type": "code",
   "execution_count": 183,
   "metadata": {},
   "outputs": [
    {
     "name": "stdout",
     "output_type": "stream",
     "text": [
      "0.05 0.1\n",
      "(0.9535, 0.0675)\n",
      "0.05 0.5\n",
      "(0.9546, 0.065)\n",
      "0.05 1\n",
      "(0.9566, 0.0605)\n",
      "0.1 0.1\n",
      "(0.9066, 0.1324)\n",
      "0.1 0.5\n",
      "(0.9086, 0.1279)\n",
      "0.1 1\n",
      "(0.9125, 0.1195)\n",
      "0.15 0.1\n",
      "(0.8592, 0.1949)\n",
      "0.15 0.5\n",
      "(0.8621, 0.1888)\n",
      "0.15 1\n",
      "(0.8678, 0.1773)\n",
      "0.2 0.1\n",
      "(0.8113, 0.2552)\n",
      "0.2 0.5\n",
      "(0.8151, 0.2478)\n",
      "0.2 1\n",
      "(0.8224, 0.2338)\n",
      "0.25 0.1\n",
      "(0.763, 0.3133)\n",
      "0.25 0.5\n",
      "(0.7675, 0.3051)\n",
      "0.25 1\n",
      "(0.7764, 0.2891)\n",
      "0.3 0.1\n",
      "(0.7143, 0.3695)\n",
      "0.3 0.5\n",
      "(0.7195, 0.3606)\n",
      "0.3 1\n",
      "(0.7296, 0.3432)\n",
      "0.35 0.1\n",
      "(0.6652, 0.4238)\n",
      "0.35 0.5\n",
      "(0.6709, 0.4145)\n",
      "0.35 1\n",
      "(0.6822, 0.3962)\n",
      "0.4 0.1\n",
      "(0.6157, 0.4764)\n",
      "0.4 0.5\n",
      "(0.6219, 0.4669)\n",
      "0.4 1\n",
      "(0.6341, 0.4482)\n"
     ]
    }
   ],
   "source": [
    "# 计算不同对象的聚合相对效用函数矩阵\n",
    "X1 = [0.05, 0.1, 0.15, 0.2, 0.25, 0.3, 0.35, 0.4]\n",
    "X2 = [0.1, 0.5, 1]\n",
    "n, m = len(data), len(data.T)\n",
    "x = data.iloc[1]\n",
    "theta = 0.5\n",
    "for k1 in range(0,len(X1)):\n",
    "    for k2 in range(0,len(X2)):\n",
    "        singam = X1[k1]\n",
    "        u = np.ones((1,6));\n",
    "        u1 = np.zeros((1,6));\n",
    "        u3 = np.zeros((1,6))\n",
    "        \n",
    "        # 计算相对损失函数\n",
    "        lamda[0,1] = singam * x[0];\n",
    "        lamda[0,2] = x[0];\n",
    "        lamda[0,3] = 1-x[0];\n",
    "        lamda[0,4] = singam * (1-x[0]);\n",
    "    \n",
    "        # 计算基于后悔理论的效用函数\n",
    "        u[0,1] = 1 - (1 - np.exp(-theta * lamda[0,1]))/theta\n",
    "        u[0,2] = 1 - (1 - np.exp(-theta * lamda[0,2]))/theta\n",
    "        u[0,3] = 1 - (1 - np.exp(-theta * lamda[0,3]))/theta\n",
    "        u[0,4] = 1 - (1 - np.exp(-theta * lamda[0,4]))/theta\n",
    "        \n",
    "        # 计算相对效用函数\n",
    "        u1[0,0] = 1 - u[0,2] \n",
    "        u1[0,1] = u[0,1] - u[0,2] \n",
    "        u1[0,4] = u[0,4] - u[0,3] \n",
    "        u1[0,5] = 1 - u[0,3]\n",
    "        u2 = np.max(u1, axis = 0)\n",
    "        delta = X2[k2]\n",
    "        for j in range(0,6):\n",
    "            u3[0][j] = u1[0,j] + 1 - np.exp(-delta * (u1[0,j]))\n",
    "        \n",
    "        yuzhi = np.zeros((1,6))\n",
    "        #根据基于后悔理论的相对效用函数计算不同对象的不同粒度下的阈值\n",
    "        yuzhi[0][0] = (u3[0][4])/(u3[0][4]+u3[0][0]-u3[0][1])\n",
    "        yuzhi[0][1] = (u3[0][5]-u3[0][4])/(u3[0][1]+u3[0][5]-u3[0][4])\n",
    "        print(singam,delta)\n",
    "        print((round(yuzhi[0][0],4),round(yuzhi[0][1],4)))"
   ]
  },
  {
   "cell_type": "code",
   "execution_count": null,
   "metadata": {},
   "outputs": [],
   "source": []
  }
 ],
 "metadata": {
  "kernelspec": {
   "display_name": "Python 3",
   "language": "python",
   "name": "python3"
  },
  "language_info": {
   "codemirror_mode": {
    "name": "ipython",
    "version": 3
   },
   "file_extension": ".py",
   "mimetype": "text/x-python",
   "name": "python",
   "nbconvert_exporter": "python",
   "pygments_lexer": "ipython3",
   "version": "3.7.4"
  }
 },
 "nbformat": 4,
 "nbformat_minor": 4
}
