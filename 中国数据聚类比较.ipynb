{
 "cells": [
  {
   "cell_type": "code",
   "execution_count": 1,
   "metadata": {},
   "outputs": [],
   "source": [
    "## 导入需要的库\n",
    "import numpy as np\n",
    "import pandas as pd\n",
    "import math\n",
    "import os\n",
    "import random\n",
    "from matplotlib.pyplot import *\n",
    "import matplotlib.pyplot as plt\n",
    "\n",
    "from statsmodels.stats.weightstats import ztest"
   ]
  },
  {
   "cell_type": "code",
   "execution_count": 6,
   "metadata": {},
   "outputs": [],
   "source": [
    "lb1 = [0, 6, 9, 13, 19, 25, 26]\n",
    "lb2 = [4, 21]\n",
    "lb3 = [1, 2, 3, 5, 7, 8, 10, 11, 12, 14, 15, 16, 17, 18, 20, 22, 23, 24, 27, 28, 29]"
   ]
  },
  {
   "cell_type": "code",
   "execution_count": 3,
   "metadata": {},
   "outputs": [
    {
     "data": {
      "text/html": [
       "<div>\n",
       "<style scoped>\n",
       "    .dataframe tbody tr th:only-of-type {\n",
       "        vertical-align: middle;\n",
       "    }\n",
       "\n",
       "    .dataframe tbody tr th {\n",
       "        vertical-align: top;\n",
       "    }\n",
       "\n",
       "    .dataframe thead th {\n",
       "        text-align: right;\n",
       "    }\n",
       "</style>\n",
       "<table border=\"1\" class=\"dataframe\">\n",
       "  <thead>\n",
       "    <tr style=\"text-align: right;\">\n",
       "      <th></th>\n",
       "      <th>0</th>\n",
       "      <th>1</th>\n",
       "      <th>2</th>\n",
       "      <th>3</th>\n",
       "      <th>4</th>\n",
       "      <th>5</th>\n",
       "      <th>6</th>\n",
       "      <th>7</th>\n",
       "      <th>8</th>\n",
       "      <th>9</th>\n",
       "      <th>...</th>\n",
       "      <th>226</th>\n",
       "      <th>227</th>\n",
       "      <th>228</th>\n",
       "      <th>229</th>\n",
       "      <th>230</th>\n",
       "      <th>231</th>\n",
       "      <th>232</th>\n",
       "      <th>233</th>\n",
       "      <th>234</th>\n",
       "      <th>235</th>\n",
       "    </tr>\n",
       "  </thead>\n",
       "  <tbody>\n",
       "    <tr>\n",
       "      <td>0</td>\n",
       "      <td>0.639760</td>\n",
       "      <td>0.306344</td>\n",
       "      <td>0.643055</td>\n",
       "      <td>0.404049</td>\n",
       "      <td>0.330518</td>\n",
       "      <td>0.308084</td>\n",
       "      <td>0.310685</td>\n",
       "      <td>0.234917</td>\n",
       "      <td>0.434767</td>\n",
       "      <td>0.496236</td>\n",
       "      <td>...</td>\n",
       "      <td>0.262493</td>\n",
       "      <td>0.400476</td>\n",
       "      <td>0.388387</td>\n",
       "      <td>0.303567</td>\n",
       "      <td>0.432972</td>\n",
       "      <td>0.293022</td>\n",
       "      <td>0.275222</td>\n",
       "      <td>0.409304</td>\n",
       "      <td>0.487033</td>\n",
       "      <td>0.349695</td>\n",
       "    </tr>\n",
       "    <tr>\n",
       "      <td>1</td>\n",
       "      <td>0.526038</td>\n",
       "      <td>0.518005</td>\n",
       "      <td>0.634171</td>\n",
       "      <td>0.319361</td>\n",
       "      <td>0.287591</td>\n",
       "      <td>0.565978</td>\n",
       "      <td>0.315569</td>\n",
       "      <td>0.407085</td>\n",
       "      <td>0.439491</td>\n",
       "      <td>0.752988</td>\n",
       "      <td>...</td>\n",
       "      <td>0.263985</td>\n",
       "      <td>0.516160</td>\n",
       "      <td>0.542824</td>\n",
       "      <td>0.439881</td>\n",
       "      <td>0.498713</td>\n",
       "      <td>0.428343</td>\n",
       "      <td>0.388262</td>\n",
       "      <td>0.507750</td>\n",
       "      <td>0.636671</td>\n",
       "      <td>0.244335</td>\n",
       "    </tr>\n",
       "    <tr>\n",
       "      <td>2</td>\n",
       "      <td>0.577485</td>\n",
       "      <td>0.445367</td>\n",
       "      <td>0.601349</td>\n",
       "      <td>0.548781</td>\n",
       "      <td>0.432782</td>\n",
       "      <td>0.466347</td>\n",
       "      <td>0.308527</td>\n",
       "      <td>0.437388</td>\n",
       "      <td>0.499600</td>\n",
       "      <td>0.503784</td>\n",
       "      <td>...</td>\n",
       "      <td>0.533018</td>\n",
       "      <td>0.460782</td>\n",
       "      <td>0.533105</td>\n",
       "      <td>0.462667</td>\n",
       "      <td>0.530569</td>\n",
       "      <td>0.417889</td>\n",
       "      <td>0.433309</td>\n",
       "      <td>0.474532</td>\n",
       "      <td>0.592464</td>\n",
       "      <td>0.541625</td>\n",
       "    </tr>\n",
       "    <tr>\n",
       "      <td>3</td>\n",
       "      <td>0.372788</td>\n",
       "      <td>0.425158</td>\n",
       "      <td>0.497319</td>\n",
       "      <td>0.618740</td>\n",
       "      <td>0.591934</td>\n",
       "      <td>0.623291</td>\n",
       "      <td>0.538243</td>\n",
       "      <td>0.550853</td>\n",
       "      <td>0.708638</td>\n",
       "      <td>0.712151</td>\n",
       "      <td>...</td>\n",
       "      <td>0.863991</td>\n",
       "      <td>0.528371</td>\n",
       "      <td>0.693132</td>\n",
       "      <td>0.735055</td>\n",
       "      <td>0.621392</td>\n",
       "      <td>0.472567</td>\n",
       "      <td>0.489961</td>\n",
       "      <td>0.795881</td>\n",
       "      <td>0.587294</td>\n",
       "      <td>0.641752</td>\n",
       "    </tr>\n",
       "    <tr>\n",
       "      <td>4</td>\n",
       "      <td>0.290665</td>\n",
       "      <td>0.382834</td>\n",
       "      <td>0.459442</td>\n",
       "      <td>0.390895</td>\n",
       "      <td>0.573781</td>\n",
       "      <td>0.605398</td>\n",
       "      <td>0.403858</td>\n",
       "      <td>0.674202</td>\n",
       "      <td>0.359219</td>\n",
       "      <td>0.366133</td>\n",
       "      <td>...</td>\n",
       "      <td>0.450351</td>\n",
       "      <td>0.363986</td>\n",
       "      <td>0.471258</td>\n",
       "      <td>0.675333</td>\n",
       "      <td>0.416333</td>\n",
       "      <td>0.558379</td>\n",
       "      <td>0.281196</td>\n",
       "      <td>0.458233</td>\n",
       "      <td>0.333770</td>\n",
       "      <td>0.442782</td>\n",
       "    </tr>\n",
       "  </tbody>\n",
       "</table>\n",
       "<p>5 rows × 236 columns</p>\n",
       "</div>"
      ],
      "text/plain": [
       "          0         1         2         3         4         5         6  \\\n",
       "0  0.639760  0.306344  0.643055  0.404049  0.330518  0.308084  0.310685   \n",
       "1  0.526038  0.518005  0.634171  0.319361  0.287591  0.565978  0.315569   \n",
       "2  0.577485  0.445367  0.601349  0.548781  0.432782  0.466347  0.308527   \n",
       "3  0.372788  0.425158  0.497319  0.618740  0.591934  0.623291  0.538243   \n",
       "4  0.290665  0.382834  0.459442  0.390895  0.573781  0.605398  0.403858   \n",
       "\n",
       "          7         8         9  ...       226       227       228       229  \\\n",
       "0  0.234917  0.434767  0.496236  ...  0.262493  0.400476  0.388387  0.303567   \n",
       "1  0.407085  0.439491  0.752988  ...  0.263985  0.516160  0.542824  0.439881   \n",
       "2  0.437388  0.499600  0.503784  ...  0.533018  0.460782  0.533105  0.462667   \n",
       "3  0.550853  0.708638  0.712151  ...  0.863991  0.528371  0.693132  0.735055   \n",
       "4  0.674202  0.359219  0.366133  ...  0.450351  0.363986  0.471258  0.675333   \n",
       "\n",
       "        230       231       232       233       234       235  \n",
       "0  0.432972  0.293022  0.275222  0.409304  0.487033  0.349695  \n",
       "1  0.498713  0.428343  0.388262  0.507750  0.636671  0.244335  \n",
       "2  0.530569  0.417889  0.433309  0.474532  0.592464  0.541625  \n",
       "3  0.621392  0.472567  0.489961  0.795881  0.587294  0.641752  \n",
       "4  0.416333  0.558379  0.281196  0.458233  0.333770  0.442782  \n",
       "\n",
       "[5 rows x 236 columns]"
      ]
     },
     "execution_count": 3,
     "metadata": {},
     "output_type": "execute_result"
    }
   ],
   "source": [
    "X = pd.read_csv(\"中国预处理后的数据归一化数据.csv\")\n",
    "X = X.drop(['Unnamed: 0'],axis=1)\n",
    "X.head()"
   ]
  },
  {
   "cell_type": "code",
   "execution_count": 4,
   "metadata": {},
   "outputs": [
    {
     "data": {
      "text/plain": [
       "array([1, 1, 1, 2, 0, 1, 2, 2, 0, 0, 0, 1, 1, 2, 1, 0, 0, 2, 1, 1, 1, 0,\n",
       "       1, 1, 1, 0, 0, 1, 1, 1])"
      ]
     },
     "execution_count": 4,
     "metadata": {},
     "output_type": "execute_result"
    }
   ],
   "source": [
    "## K-means聚类结果\n",
    "from sklearn.cluster import KMeans\n",
    "estimator = KMeans(n_clusters = 3)#构造聚类器\n",
    "estimator.fit(X)#聚类\n",
    "label2 = estimator.labels_ #获取聚类标签\n",
    "label2"
   ]
  },
  {
   "cell_type": "code",
   "execution_count": 5,
   "metadata": {},
   "outputs": [
    {
     "name": "stdout",
     "output_type": "stream",
     "text": [
      "[3, 6, 7, 13, 17]\n",
      "[0, 1, 2, 5, 11, 12, 14, 18, 19, 20, 22, 23, 24, 27, 28, 29]\n",
      "[4, 8, 9, 10, 15, 16, 21, 25, 26]\n"
     ]
    }
   ],
   "source": [
    "a1, a2, a3 = [], [], []\n",
    "for j in range(0,len(X)):\n",
    "    if label2[j] == 2:\n",
    "        a1.append(j)\n",
    "    elif label2[j] == 1:\n",
    "        a2.append(j)\n",
    "    else:\n",
    "        a3.append(j)\n",
    "print(a1)\n",
    "print(a2)\n",
    "print(a3)"
   ]
  },
  {
   "cell_type": "code",
   "execution_count": 7,
   "metadata": {},
   "outputs": [
    {
     "name": "stdout",
     "output_type": "stream",
     "text": [
      "[0.38731884560995267, 0.48515364427723945, 0.5177676316460668, 0.5934710852331934, 0.4678602351780109, 0.5342951273073983, 0.5793072998842645, 0.5138514170853524, 0.44446343987025994, 0.45822917879063235, 0.5040828720469762, 0.4989382703698078, 0.49160273649476155, 0.6346894689927974, 0.5443109748431483, 0.5102572963443291, 0.3800266939330637, 0.5874408135202254, 0.4932478479657997, 0.5229613113461025, 0.41917900291797416, 0.4887983442878263, 0.5161722243902209, 0.5155373972158227, 0.49521055612685755, 0.5022866775902478, 0.505315783330787, 0.4965927950042871, 0.5295964889180934, 0.39354225981232366]\n"
     ]
    }
   ],
   "source": [
    "## 三支聚类\n",
    "data = X\n",
    "### 设定正理想解和负理想解\n",
    "n, m = len(data), len(data.T)\n",
    "\n",
    "### 计算决策对象到正负理想解的距离\n",
    "D1 = np.zeros((1,n));D0 = np.zeros((1,n)); Pr = []\n",
    "for i in range(0,n):\n",
    "    D1[0][i] = np.sqrt(np.sum(np.square(1 - data.iloc[i]))) \n",
    "    D0[0][i] = np.sqrt(np.sum(np.square(data.iloc[i])))\n",
    "    Pr.append(D0[0][i]/(D0[0][i] + D1[0][i]))\n",
    "print(Pr)"
   ]
  },
  {
   "cell_type": "code",
   "execution_count": 8,
   "metadata": {},
   "outputs": [],
   "source": [
    "def sunshi(x,singam):\n",
    "    lamda = np.zeros((len(x),6));\n",
    "    juhe = np.zeros((1,6));\n",
    "    \n",
    "    # 计算相对损失函数\n",
    "    for i in range(0,len(x)):\n",
    "        lamda[i,1] = singam[i] * x[i];\n",
    "        lamda[i,2] = x[i];\n",
    "        lamda[i,3] = 1-x[i];\n",
    "        lamda[i,4] = singam[i] * (1-x[i]);\n",
    "    \n",
    "    # 计算聚合相对效用函数(均值聚合)\n",
    "    juhe = np.mean(lamda,axis=0)\n",
    "    \n",
    "    return juhe"
   ]
  },
  {
   "cell_type": "code",
   "execution_count": 9,
   "metadata": {},
   "outputs": [
    {
     "data": {
      "text/html": [
       "<div>\n",
       "<style scoped>\n",
       "    .dataframe tbody tr th:only-of-type {\n",
       "        vertical-align: middle;\n",
       "    }\n",
       "\n",
       "    .dataframe tbody tr th {\n",
       "        vertical-align: top;\n",
       "    }\n",
       "\n",
       "    .dataframe thead th {\n",
       "        text-align: right;\n",
       "    }\n",
       "</style>\n",
       "<table border=\"1\" class=\"dataframe\">\n",
       "  <thead>\n",
       "    <tr style=\"text-align: right;\">\n",
       "      <th></th>\n",
       "      <th>0</th>\n",
       "      <th>1</th>\n",
       "    </tr>\n",
       "  </thead>\n",
       "  <tbody>\n",
       "    <tr>\n",
       "      <td>0</td>\n",
       "      <td>0.664986</td>\n",
       "      <td>0.570588</td>\n",
       "    </tr>\n",
       "    <tr>\n",
       "      <td>1</td>\n",
       "      <td>0.566136</td>\n",
       "      <td>0.466242</td>\n",
       "    </tr>\n",
       "    <tr>\n",
       "      <td>2</td>\n",
       "      <td>0.531387</td>\n",
       "      <td>0.431526</td>\n",
       "    </tr>\n",
       "    <tr>\n",
       "      <td>3</td>\n",
       "      <td>0.449797</td>\n",
       "      <td>0.353696</td>\n",
       "    </tr>\n",
       "    <tr>\n",
       "      <td>4</td>\n",
       "      <td>0.585555</td>\n",
       "      <td>0.486073</td>\n",
       "    </tr>\n",
       "  </tbody>\n",
       "</table>\n",
       "</div>"
      ],
      "text/plain": [
       "          0         1\n",
       "0  0.664986  0.570588\n",
       "1  0.566136  0.466242\n",
       "2  0.531387  0.431526\n",
       "3  0.449797  0.353696\n",
       "4  0.585555  0.486073"
      ]
     },
     "execution_count": 9,
     "metadata": {},
     "output_type": "execute_result"
    }
   ],
   "source": [
    "# 计算不同对象的聚合相对损失函数矩阵\n",
    "singam = [0.45]*m\n",
    "lamda = np.zeros((n,6));\n",
    "for i in range(0,n):\n",
    "    x = data.iloc[i]\n",
    "    lamda[i] = sunshi(x ,singam)\n",
    "\n",
    "#根据聚合相对损失函数计算不同对象的初始阈值\n",
    "yuzhi = np.zeros((n,2))\n",
    "for i in range(0,n):\n",
    "    for j in range(0,len(lamda.T)):\n",
    "        yuzhi[i][0] = (lamda[i][3]-lamda[i][4])/(lamda[i][3]-lamda[i][4]+lamda[i][1])\n",
    "        yuzhi[i][1] = (lamda[i][4])/(lamda[i][4]+lamda[i][2]-lamda[i][1])\n",
    "yuzhi = pd.DataFrame(yuzhi)\n",
    "yuzhi.head()"
   ]
  },
  {
   "cell_type": "code",
   "execution_count": 10,
   "metadata": {},
   "outputs": [
    {
     "name": "stdout",
     "output_type": "stream",
     "text": [
      "[3, 5, 6, 13, 14, 17, 28]\n",
      "[1, 2, 7, 10, 11, 12, 15, 18, 19, 21, 22, 23, 24, 25, 26, 27]\n",
      "[0, 4, 8, 9, 16, 20, 29]\n"
     ]
    }
   ],
   "source": [
    "B1, B2, B3 = [], [], []\n",
    "for i in range(n):\n",
    "    if Pr[i] > yuzhi.loc[i][0]:\n",
    "        B1.append(i)\n",
    "    elif Pr[i]> yuzhi.loc[i][1] and Pr[i] < yuzhi.loc[i][0]:\n",
    "        B2.append(i)\n",
    "    else:\n",
    "        B3.append(i)\n",
    "print(B1)\n",
    "print(B2)\n",
    "print(B3)"
   ]
  },
  {
   "cell_type": "code",
   "execution_count": 11,
   "metadata": {},
   "outputs": [
    {
     "name": "stdout",
     "output_type": "stream",
     "text": [
      "[2, 1, 1, 0, 2, 0, 0, 1, 2, 2, 1, 1, 1, 0, 0, 1, 2, 0, 1, 1, 2, 1, 1, 1, 1, 1, 1, 1, 0, 2]\n"
     ]
    }
   ],
   "source": [
    "label3 = []\n",
    "for i in range(0,30):\n",
    "    if i in B1:\n",
    "        label3.append(0)\n",
    "    elif i in B2:\n",
    "        label3.append(1)\n",
    "    else:\n",
    "        label3.append(2)\n",
    "print(label3)"
   ]
  },
  {
   "cell_type": "code",
   "execution_count": 12,
   "metadata": {},
   "outputs": [],
   "source": [
    "## 基于遗憾理论的灰度关联聚类方法\n",
    "r1 = np.zeros((n,m))\n",
    "r2 = np.zeros((n,m))\n",
    "\n",
    "for i in range(n):\n",
    "    for j in range(m):\n",
    "        r1[i][j] = 1/(1.5-data.loc[i][j])\n",
    "        r2[i][j] = 1/(data.loc[i][j]+0.5)"
   ]
  },
  {
   "cell_type": "code",
   "execution_count": 13,
   "metadata": {},
   "outputs": [],
   "source": [
    "# 建立感知效用矩阵\n",
    "def Juzhen(alpha, sigma):\n",
    "    U = np.zeros((n,m))\n",
    "    R = r1/(r1+r2)\n",
    "    G = 1 - np.exp(sigma * abs(r1-1))\n",
    "    Q = 1 - np.exp(-sigma * abs(r1-1))\n",
    "    for i in range(n):\n",
    "        for j in range(m):\n",
    "            U[i][j] = (R[i][j]) ** alpha + G[i][j] + Q[i][j] \n",
    "    return U"
   ]
  },
  {
   "cell_type": "code",
   "execution_count": 14,
   "metadata": {},
   "outputs": [
    {
     "data": {
      "text/plain": [
       "array([[0.75431008, 0.63436585, 0.75536746, ..., 0.67412329, 0.70250359,\n",
       "        0.65141914],\n",
       "       [0.71623735, 0.71343648, 0.75251055, ..., 0.70984018, 0.75331636,\n",
       "        0.60912237],\n",
       "       [0.73383199, 0.68745955, 0.74178825, ..., 0.69803035, 0.73884144,\n",
       "        0.72163083],\n",
       "       ...,\n",
       "       [0.68748728, 0.66365852, 0.75419257, ..., 0.73277984, 0.7404126 ,\n",
       "        0.72935142],\n",
       "       [0.68243158, 0.69765829, 0.74387152, ..., 0.70131022, 0.6987265 ,\n",
       "        0.72779294],\n",
       "       [0.6902746 , 0.63784927, 0.71478698, ..., 0.65423609, 0.65414339,\n",
       "        0.66201984]])"
      ]
     },
     "execution_count": 14,
     "metadata": {},
     "output_type": "execute_result"
    }
   ],
   "source": [
    "U = Juzhen(0.5,0.15)\n",
    "U"
   ]
  },
  {
   "cell_type": "code",
   "execution_count": 15,
   "metadata": {},
   "outputs": [
    {
     "name": "stdout",
     "output_type": "stream",
     "text": [
      "[0.6571678570136624, 0.6853151978726209, 0.6985410177755942, 0.7610265654738317, 0.6788979680169183, 0.7044466653855682, 0.7365167896658834, 0.7139082340707376, 0.6817599093948655, 0.6712785291827652, 0.6760780324752478, 0.7093535293433841, 0.6991525546207205, 0.7618293036488042, 0.7120739004506849, 0.7055211524401681, 0.6203721443042579, 0.7385976687166376, 0.6882960731423817, 0.7072152560052077, 0.6869921911390094, 0.6769156549332996, 0.7029487689849325, 0.6998585967809078, 0.68796476111613, 0.6984071988354588, 0.6981472265287815, 0.712647112319842, 0.7022616961492026, 0.6449681320250483]\n"
     ]
    }
   ],
   "source": [
    "# 计算聚类系数\n",
    "u = []\n",
    "w = [0.1,0.2,0.5,0.05,0.15]\n",
    "for i in range(n):\n",
    "    u.append(np.sum(w * U[i][m-5:]))\n",
    "print(u)"
   ]
  },
  {
   "cell_type": "code",
   "execution_count": 16,
   "metadata": {},
   "outputs": [
    {
     "name": "stdout",
     "output_type": "stream",
     "text": [
      "[2, 3, 5, 6, 7, 11, 12, 13, 14, 15, 17, 19, 22, 23, 25, 26, 27, 28]\n",
      "[0, 1, 4, 8, 9, 10, 16, 18, 20, 21, 24, 29]\n"
     ]
    }
   ],
   "source": [
    "C1, C2 = [], []\n",
    "for i in range(n):\n",
    "    if u[i] > np.mean(u):\n",
    "        C1.append(i)\n",
    "    else:\n",
    "        C2.append(i)\n",
    "print(C1)\n",
    "print(C2)"
   ]
  },
  {
   "cell_type": "code",
   "execution_count": 17,
   "metadata": {},
   "outputs": [
    {
     "name": "stdout",
     "output_type": "stream",
     "text": [
      "[0 2 2 1 3 2 1 1 5 2 3 2 2 1 3 3 4 1 2 2 0 3 1 2 2 5 5 2 6 0]\n"
     ]
    }
   ],
   "source": [
    "from numpy import unique\n",
    "from sklearn.cluster import AffinityPropagation\n",
    "import numpy as np\n",
    "from sklearn.preprocessing import StandardScaler\n",
    "\n",
    "model = AffinityPropagation(damping=0.5, max_iter=200, convergence_iter=15, copy=True, preference=None,    \n",
    "                            affinity='euclidean', verbose=False) # 设置damping : 阻尼系数，取值[0.5,1)\n",
    "# 匹配模型\n",
    "model.fit(X)\n",
    "yhat = model.predict(X)  # yhat为集群结果\n",
    "clusters = len(unique(yhat))  # 类别\n",
    "\n",
    "print(yhat)"
   ]
  },
  {
   "cell_type": "code",
   "execution_count": 22,
   "metadata": {},
   "outputs": [
    {
     "name": "stdout",
     "output_type": "stream",
     "text": [
      "[0, 20, 29]\n",
      "[3, 6, 7, 13, 17, 22]\n",
      "[1, 2, 5, 9, 11, 12, 18, 19, 23, 24, 27]\n",
      "[4, 10, 14, 15, 21]\n",
      "[16]\n",
      "[8, 25, 26]\n",
      "[28]\n"
     ]
    }
   ],
   "source": [
    "D1, D2, D3, D4, D5, D6, D7 = [], [], [], [], [], [], []\n",
    "for i in range(n):\n",
    "    if yhat[i] == 0:\n",
    "        D1.append(i)\n",
    "    if yhat[i] == 1:\n",
    "        D2.append(i)\n",
    "    if yhat[i] == 2:\n",
    "        D3.append(i)\n",
    "    if yhat[i] == 3:\n",
    "        D4.append(i)\n",
    "    if yhat[i] == 4:\n",
    "        D5.append(i)\n",
    "    if yhat[i] == 5:\n",
    "        D6.append(i)\n",
    "    if yhat[i] == 6:\n",
    "        D7.append(i)\n",
    "print(D1)\n",
    "print(D2)\n",
    "print(D3)\n",
    "print(D4)\n",
    "print(D5)\n",
    "print(D6)\n",
    "print(D7)"
   ]
  },
  {
   "cell_type": "code",
   "execution_count": 23,
   "metadata": {},
   "outputs": [],
   "source": [
    "import numpy as np\n",
    "from sklearn.cluster import KMeans\n",
    "from sklearn.metrics import silhouette_score, davies_bouldin_score\n",
    "from sklearn.datasets import make_blobs\n",
    "from sklearn.preprocessing import StandardScaler"
   ]
  },
  {
   "cell_type": "code",
   "execution_count": 25,
   "metadata": {},
   "outputs": [
    {
     "name": "stdout",
     "output_type": "stream",
     "text": [
      "Silhouette Coefficient: 0.06548120317060101\n",
      "Davies-Bouldin Index: 2.510177216660093\n"
     ]
    }
   ],
   "source": [
    "# 计算Silhouette系数\n",
    "silhouette_avg = silhouette_score(X, label3)\n",
    "print(f\"Silhouette Coefficient: {silhouette_avg}\")\n",
    "\n",
    "# 计算Davies-Bouldin指数\n",
    "dbi = davies_bouldin_score(X, label3)\n",
    "print(f\"Davies-Bouldin Index: {dbi}\")"
   ]
  },
  {
   "cell_type": "code",
   "execution_count": null,
   "metadata": {},
   "outputs": [],
   "source": []
  },
  {
   "cell_type": "code",
   "execution_count": null,
   "metadata": {},
   "outputs": [],
   "source": []
  }
 ],
 "metadata": {
  "kernelspec": {
   "display_name": "Python 3",
   "language": "python",
   "name": "python3"
  },
  "language_info": {
   "codemirror_mode": {
    "name": "ipython",
    "version": 3
   },
   "file_extension": ".py",
   "mimetype": "text/x-python",
   "name": "python",
   "nbconvert_exporter": "python",
   "pygments_lexer": "ipython3",
   "version": "3.7.4"
  }
 },
 "nbformat": 4,
 "nbformat_minor": 4
}
