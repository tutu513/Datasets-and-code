{
 "cells": [
  {
   "cell_type": "code",
   "execution_count": 1,
   "metadata": {},
   "outputs": [],
   "source": [
    "## 导入需要的库\n",
    "import numpy as np\n",
    "import pandas as pd\n",
    "import math\n",
    "import os\n",
    "import random\n",
    "from matplotlib.pyplot import *\n",
    "import matplotlib.pyplot as plt"
   ]
  },
  {
   "cell_type": "code",
   "execution_count": 3,
   "metadata": {},
   "outputs": [],
   "source": [
    "## 我们模型的聚类结果如下所示\n",
    "lb1 = [20, 1, 4, 5, 6, 9, 16, 22, 25, 34, 36, 38, 43, 44, 46, 49]\n",
    "lb2 = [12, 17, 27, 2, 3, 8, 10, 21, 23, 24, 26, 29, 30, 31, 33, 37, 47, 48]\n",
    "lb3 = [0, 7, 11, 13, 14, 15, 18, 19, 28, 32, 35, 39, 40, 41, 42, 45]\n",
    "\n",
    "## K-means聚类结果\n",
    "A1 = [4, 5, 7, 14, 15, 18, 31, 32, 36, 37, 41, 45]\n",
    "A2 = [0, 2, 3, 6, 8, 9, 10, 11, 12, 13, 16, 20, 22, 23, 24, 25, 26, 27, 28, 29, 30, 33, 34, 35, 38, 39, 42, 43, 44, 46, 47, 48, 49]\n",
    "A3 = [1, 17, 19, 21, 40]\n",
    "\n",
    "# 三支聚类结果\n",
    "B1 = [0, 5, 9, 10, 19, 23, 26, 29, 30, 32, 35, 36, 41, 43, 45, 48]\n",
    "B2 = [2, 3, 4, 8, 11, 12, 13, 14, 15, 17, 18, 20, 24, 27, 31, 33, 34, 37, 38, 39, 40, 42, 44, 46, 47, 49]\n",
    "B3 = [1, 6, 7, 16, 21, 22, 25, 28]\n",
    "\n",
    "# 基于遗憾理论的灰度关联聚类结果\n",
    "C1 = [2, 3, 6, 9, 11, 18, 19, 21, 23, 30, 32, 33, 35, 37, 38, 41, 46]\n",
    "C2 = [0, 1, 4, 5, 7, 8, 10, 12, 13, 14, 15, 16, 17, 20, 22, 24, 25, 26, 27, 28, 29, 31, 34, 36, 39, 40, 42, 43, 44, 45, 47, 48, 49]\n",
    "\n",
    "# 亲和传播聚类结果\n",
    "D1 = [0, 1, 3, 4, 5, 7, 8, 9, 10, 11, 12, 13, 14, 15, 16, 17, 18, 19, 20, 22, 23, 24, 25, 27, 28, 29, 30, 31, 32, 33, 34, 35, 36, 37, 38, 39, 40, 41, 42, 43, 44, 45, 46, 47, 48, 49]\n",
    "D2 = [2, 6, 21, 26]"
   ]
  },
  {
   "cell_type": "code",
   "execution_count": 4,
   "metadata": {},
   "outputs": [],
   "source": [
    "def getEuclidean(point1, point2):\n",
    "    dimension = len(point1)\n",
    "    dist = 0.0\n",
    "    for i in range(dimension):\n",
    "        dist += (point1[i] - point2[i]) ** 2\n",
    "    return math.sqrt(dist)"
   ]
  },
  {
   "cell_type": "code",
   "execution_count": 6,
   "metadata": {},
   "outputs": [
    {
     "data": {
      "text/html": [
       "<div>\n",
       "<style scoped>\n",
       "    .dataframe tbody tr th:only-of-type {\n",
       "        vertical-align: middle;\n",
       "    }\n",
       "\n",
       "    .dataframe tbody tr th {\n",
       "        vertical-align: top;\n",
       "    }\n",
       "\n",
       "    .dataframe thead th {\n",
       "        text-align: right;\n",
       "    }\n",
       "</style>\n",
       "<table border=\"1\" class=\"dataframe\">\n",
       "  <thead>\n",
       "    <tr style=\"text-align: right;\">\n",
       "      <th></th>\n",
       "      <th>0</th>\n",
       "      <th>1</th>\n",
       "      <th>2</th>\n",
       "      <th>3</th>\n",
       "      <th>4</th>\n",
       "      <th>5</th>\n",
       "      <th>6</th>\n",
       "      <th>7</th>\n",
       "      <th>8</th>\n",
       "      <th>9</th>\n",
       "      <th>...</th>\n",
       "      <th>1490</th>\n",
       "      <th>1491</th>\n",
       "      <th>1492</th>\n",
       "      <th>1493</th>\n",
       "      <th>1494</th>\n",
       "      <th>1495</th>\n",
       "      <th>1496</th>\n",
       "      <th>1497</th>\n",
       "      <th>1498</th>\n",
       "      <th>1499</th>\n",
       "    </tr>\n",
       "  </thead>\n",
       "  <tbody>\n",
       "    <tr>\n",
       "      <td>0</td>\n",
       "      <td>0.542315</td>\n",
       "      <td>0.631639</td>\n",
       "      <td>0.537692</td>\n",
       "      <td>0.657919</td>\n",
       "      <td>0.425744</td>\n",
       "      <td>0.533389</td>\n",
       "      <td>0.432409</td>\n",
       "      <td>0.655109</td>\n",
       "      <td>0.533334</td>\n",
       "      <td>0.454244</td>\n",
       "      <td>...</td>\n",
       "      <td>0.618472</td>\n",
       "      <td>0.499274</td>\n",
       "      <td>0.496539</td>\n",
       "      <td>0.506831</td>\n",
       "      <td>0.472601</td>\n",
       "      <td>0.540841</td>\n",
       "      <td>0.522418</td>\n",
       "      <td>0.551274</td>\n",
       "      <td>0.548531</td>\n",
       "      <td>0.472711</td>\n",
       "    </tr>\n",
       "    <tr>\n",
       "      <td>1</td>\n",
       "      <td>0.447122</td>\n",
       "      <td>0.625455</td>\n",
       "      <td>0.506848</td>\n",
       "      <td>0.492007</td>\n",
       "      <td>0.638708</td>\n",
       "      <td>0.775372</td>\n",
       "      <td>0.466275</td>\n",
       "      <td>0.486687</td>\n",
       "      <td>0.521557</td>\n",
       "      <td>0.493482</td>\n",
       "      <td>...</td>\n",
       "      <td>0.505660</td>\n",
       "      <td>0.553300</td>\n",
       "      <td>0.521557</td>\n",
       "      <td>0.553096</td>\n",
       "      <td>0.552896</td>\n",
       "      <td>0.442834</td>\n",
       "      <td>0.441554</td>\n",
       "      <td>0.569715</td>\n",
       "      <td>0.505557</td>\n",
       "      <td>0.521557</td>\n",
       "    </tr>\n",
       "    <tr>\n",
       "      <td>2</td>\n",
       "      <td>0.274827</td>\n",
       "      <td>0.525519</td>\n",
       "      <td>0.597789</td>\n",
       "      <td>0.462946</td>\n",
       "      <td>0.515822</td>\n",
       "      <td>0.387707</td>\n",
       "      <td>0.535493</td>\n",
       "      <td>0.275107</td>\n",
       "      <td>0.520282</td>\n",
       "      <td>0.478059</td>\n",
       "      <td>...</td>\n",
       "      <td>0.616526</td>\n",
       "      <td>0.434512</td>\n",
       "      <td>0.548418</td>\n",
       "      <td>0.433224</td>\n",
       "      <td>0.753095</td>\n",
       "      <td>0.458347</td>\n",
       "      <td>0.570396</td>\n",
       "      <td>0.614078</td>\n",
       "      <td>0.525519</td>\n",
       "      <td>0.761053</td>\n",
       "    </tr>\n",
       "    <tr>\n",
       "      <td>3</td>\n",
       "      <td>0.513593</td>\n",
       "      <td>0.519015</td>\n",
       "      <td>0.508134</td>\n",
       "      <td>0.414162</td>\n",
       "      <td>0.502106</td>\n",
       "      <td>0.602256</td>\n",
       "      <td>0.390319</td>\n",
       "      <td>0.603137</td>\n",
       "      <td>0.596409</td>\n",
       "      <td>0.702611</td>\n",
       "      <td>...</td>\n",
       "      <td>0.107530</td>\n",
       "      <td>0.699745</td>\n",
       "      <td>0.002770</td>\n",
       "      <td>0.008172</td>\n",
       "      <td>0.471095</td>\n",
       "      <td>0.630606</td>\n",
       "      <td>0.550657</td>\n",
       "      <td>0.816108</td>\n",
       "      <td>0.271831</td>\n",
       "      <td>0.147693</td>\n",
       "    </tr>\n",
       "    <tr>\n",
       "      <td>4</td>\n",
       "      <td>0.582469</td>\n",
       "      <td>0.490905</td>\n",
       "      <td>0.563069</td>\n",
       "      <td>0.358929</td>\n",
       "      <td>0.322298</td>\n",
       "      <td>0.591241</td>\n",
       "      <td>0.684933</td>\n",
       "      <td>0.445066</td>\n",
       "      <td>0.304304</td>\n",
       "      <td>0.519341</td>\n",
       "      <td>...</td>\n",
       "      <td>0.567308</td>\n",
       "      <td>0.608957</td>\n",
       "      <td>0.668854</td>\n",
       "      <td>0.452971</td>\n",
       "      <td>0.441484</td>\n",
       "      <td>0.482484</td>\n",
       "      <td>0.503411</td>\n",
       "      <td>0.587869</td>\n",
       "      <td>0.503570</td>\n",
       "      <td>0.556060</td>\n",
       "    </tr>\n",
       "  </tbody>\n",
       "</table>\n",
       "<p>5 rows × 1500 columns</p>\n",
       "</div>"
      ],
      "text/plain": [
       "          0         1         2         3         4         5         6  \\\n",
       "0  0.542315  0.631639  0.537692  0.657919  0.425744  0.533389  0.432409   \n",
       "1  0.447122  0.625455  0.506848  0.492007  0.638708  0.775372  0.466275   \n",
       "2  0.274827  0.525519  0.597789  0.462946  0.515822  0.387707  0.535493   \n",
       "3  0.513593  0.519015  0.508134  0.414162  0.502106  0.602256  0.390319   \n",
       "4  0.582469  0.490905  0.563069  0.358929  0.322298  0.591241  0.684933   \n",
       "\n",
       "          7         8         9  ...      1490      1491      1492      1493  \\\n",
       "0  0.655109  0.533334  0.454244  ...  0.618472  0.499274  0.496539  0.506831   \n",
       "1  0.486687  0.521557  0.493482  ...  0.505660  0.553300  0.521557  0.553096   \n",
       "2  0.275107  0.520282  0.478059  ...  0.616526  0.434512  0.548418  0.433224   \n",
       "3  0.603137  0.596409  0.702611  ...  0.107530  0.699745  0.002770  0.008172   \n",
       "4  0.445066  0.304304  0.519341  ...  0.567308  0.608957  0.668854  0.452971   \n",
       "\n",
       "       1494      1495      1496      1497      1498      1499  \n",
       "0  0.472601  0.540841  0.522418  0.551274  0.548531  0.472711  \n",
       "1  0.552896  0.442834  0.441554  0.569715  0.505557  0.521557  \n",
       "2  0.753095  0.458347  0.570396  0.614078  0.525519  0.761053  \n",
       "3  0.471095  0.630606  0.550657  0.816108  0.271831  0.147693  \n",
       "4  0.441484  0.482484  0.503411  0.587869  0.503570  0.556060  \n",
       "\n",
       "[5 rows x 1500 columns]"
      ]
     },
     "execution_count": 6,
     "metadata": {},
     "output_type": "execute_result"
    }
   ],
   "source": [
    "## 读取数据\n",
    "data = pd.read_csv(\"归一化数据.csv\")\n",
    "data = data.drop(['Unnamed: 0'], axis = 1)\n",
    "data.head()"
   ]
  },
  {
   "cell_type": "code",
   "execution_count": 7,
   "metadata": {},
   "outputs": [],
   "source": [
    "n = len(data)\n",
    "dist = np.zeros((n,n))\n",
    "for i in range(n):\n",
    "    for j in range(n):\n",
    "        dist[i][j] = getEuclidean(data.iloc[i][1490:], data.iloc[j][1490:])"
   ]
  },
  {
   "cell_type": "code",
   "execution_count": 8,
   "metadata": {},
   "outputs": [
    {
     "data": {
      "text/plain": [
       "array([[0.        , 0.20785489, 0.42182372, ..., 0.13501549, 0.16590476,\n",
       "        0.15809049],\n",
       "       [0.2078462 , 0.        , 0.38716111, ..., 0.16926789, 0.2318327 ,\n",
       "        0.17232271],\n",
       "       [0.36632099, 0.33623328, 0.        , ..., 0.32693255, 0.36364219,\n",
       "        0.31081019],\n",
       "       ...,\n",
       "       [0.13689254, 0.17162831, 0.3817012 , ..., 0.        , 0.1662764 ,\n",
       "        0.17138103],\n",
       "       [0.1553494 , 0.21709189, 0.39209761, ..., 0.1535625 , 0.        ,\n",
       "        0.22055285],\n",
       "       [0.16649875, 0.18149552, 0.37693778, ..., 0.17802123, 0.24806596,\n",
       "        0.        ]])"
      ]
     },
     "execution_count": 8,
     "metadata": {},
     "output_type": "execute_result"
    }
   ],
   "source": [
    "dist1 = np.zeros((n,n))\n",
    "for i in range(n):\n",
    "    a = min(dist[i])\n",
    "    b = max(dist[i])\n",
    "    for j in range(n):\n",
    "        dist1[i][j]=(dist[i][j]-a)/(b-a)\n",
    "dist1"
   ]
  },
  {
   "cell_type": "code",
   "execution_count": 10,
   "metadata": {},
   "outputs": [
    {
     "name": "stdout",
     "output_type": "stream",
     "text": [
      "[2, 0, 1, 1, 0, 0, 0, 2, 1, 0, 1, 2, 1, 2, 2, 2, 0, 1, 2, 2, 0, 1, 0, 1, 1, 0, 1, 1, 2, 1, 1, 1, 2, 1, 0, 2, 0, 1, 0, 2, 2, 2, 2, 0, 0, 2, 0, 1, 1, 0]\n"
     ]
    }
   ],
   "source": [
    "labels1 = [] \n",
    "for i in range(n):\n",
    "    if i in lb1:\n",
    "        labels1.append(0)\n",
    "    elif i in lb2:\n",
    "        labels1.append(1)\n",
    "    else:\n",
    "        labels1.append(2)\n",
    "print(labels1)"
   ]
  },
  {
   "cell_type": "code",
   "execution_count": 11,
   "metadata": {},
   "outputs": [
    {
     "name": "stdout",
     "output_type": "stream",
     "text": [
      "[1, 2, 1, 1, 0, 0, 1, 0, 1, 1, 1, 1, 1, 1, 0, 0, 1, 2, 0, 2, 1, 2, 1, 1, 1, 1, 1, 1, 1, 1, 1, 0, 0, 1, 1, 1, 0, 0, 1, 1, 2, 0, 1, 1, 1, 0, 1, 1, 1, 1]\n"
     ]
    }
   ],
   "source": [
    "labels2 = [] \n",
    "for i in range(n):\n",
    "    if i in A1:\n",
    "        labels2.append(0)\n",
    "    elif i in A2:\n",
    "        labels2.append(1)\n",
    "    else:\n",
    "        labels2.append(2)\n",
    "print(labels2)"
   ]
  },
  {
   "cell_type": "code",
   "execution_count": 12,
   "metadata": {},
   "outputs": [
    {
     "name": "stdout",
     "output_type": "stream",
     "text": [
      "[0, 2, 1, 1, 1, 0, 2, 2, 1, 0, 0, 1, 1, 1, 1, 1, 2, 1, 1, 0, 1, 2, 2, 0, 1, 2, 0, 1, 2, 0, 0, 1, 0, 1, 1, 0, 0, 1, 1, 1, 1, 0, 1, 0, 1, 0, 1, 1, 0, 1]\n"
     ]
    }
   ],
   "source": [
    "labels3 = [] \n",
    "for i in range(n):\n",
    "    if i in B1:\n",
    "        labels3.append(0)\n",
    "    elif i in B2:\n",
    "        labels3.append(1)\n",
    "    else:\n",
    "        labels3.append(2)\n",
    "print(labels3)"
   ]
  },
  {
   "cell_type": "code",
   "execution_count": 13,
   "metadata": {},
   "outputs": [
    {
     "name": "stdout",
     "output_type": "stream",
     "text": [
      "[1, 1, 0, 0, 1, 1, 0, 1, 1, 0, 1, 0, 1, 1, 1, 1, 1, 1, 0, 0, 1, 0, 1, 0, 1, 1, 1, 1, 1, 1, 0, 1, 0, 0, 1, 0, 1, 0, 0, 1, 1, 0, 1, 1, 1, 1, 0, 1, 1, 1]\n"
     ]
    }
   ],
   "source": [
    "labels4 = [] \n",
    "for i in range(n):\n",
    "    if i in C1:\n",
    "        labels4.append(0)\n",
    "    else:\n",
    "        labels4.append(1)\n",
    "print(labels4)"
   ]
  },
  {
   "cell_type": "code",
   "execution_count": 14,
   "metadata": {},
   "outputs": [
    {
     "name": "stdout",
     "output_type": "stream",
     "text": [
      "[0, 0, 1, 0, 0, 0, 1, 0, 0, 0, 0, 0, 0, 0, 0, 0, 0, 0, 0, 0, 0, 1, 0, 0, 0, 0, 1, 0, 0, 0, 0, 0, 0, 0, 0, 0, 0, 0, 0, 0, 0, 0, 0, 0, 0, 0, 0, 0, 0, 0]\n"
     ]
    }
   ],
   "source": [
    "labels5 = [] \n",
    "for i in range(n):\n",
    "    if i in D1:\n",
    "        labels5.append(0)\n",
    "    else:\n",
    "        labels5.append(1)\n",
    "print(labels5)"
   ]
  },
  {
   "cell_type": "code",
   "execution_count": 15,
   "metadata": {},
   "outputs": [
    {
     "name": "stdout",
     "output_type": "stream",
     "text": [
      "轮廓系数: -0.057456434271573265\n",
      "轮廓系数: -0.10870054158281299\n",
      "轮廓系数: -0.07109938016925876\n",
      "轮廓系数: 0.18598470476521314\n",
      "轮廓系数: 0.18951544886094818\n"
     ]
    }
   ],
   "source": [
    "# 计算轮廓系数\n",
    "from sklearn.metrics import silhouette_score\n",
    "silhouette_avg1 = silhouette_score(dist1, labels1)\n",
    "silhouette_avg2 = silhouette_score(dist1, labels2)\n",
    "silhouette_avg3 = silhouette_score(dist1, labels3)\n",
    "silhouette_avg4 = silhouette_score(dist1, labels4)\n",
    "silhouette_avg5 = silhouette_score(dist1, labels5)\n",
    "print(\"轮廓系数:\", silhouette_avg1)\n",
    "print(\"轮廓系数:\", silhouette_avg2)\n",
    "print(\"轮廓系数:\", silhouette_avg3)\n",
    "print(\"轮廓系数:\", silhouette_avg4)\n",
    "print(\"轮廓系数:\", silhouette_avg5)"
   ]
  },
  {
   "cell_type": "code",
   "execution_count": 16,
   "metadata": {},
   "outputs": [
    {
     "name": "stdout",
     "output_type": "stream",
     "text": [
      "Calinski-Harabasz指数: 1.3439677125443246\n",
      "Calinski-Harabasz指数: 0.8915798656601203\n",
      "Calinski-Harabasz指数: 0.4794539191592851\n",
      "Calinski-Harabasz指数: 10.221534907828334\n",
      "Calinski-Harabasz指数: 3.55815458557504\n"
     ]
    },
    {
     "name": "stderr",
     "output_type": "stream",
     "text": [
      "D:\\shuju\\lib\\site-packages\\sklearn\\utils\\deprecation.py:85: DeprecationWarning: Function calinski_harabaz_score is deprecated; Function 'calinski_harabaz_score' has been renamed to 'calinski_harabasz_score' and will be removed in version 0.23.\n",
      "  warnings.warn(msg, category=DeprecationWarning)\n",
      "D:\\shuju\\lib\\site-packages\\sklearn\\utils\\deprecation.py:85: DeprecationWarning: Function calinski_harabaz_score is deprecated; Function 'calinski_harabaz_score' has been renamed to 'calinski_harabasz_score' and will be removed in version 0.23.\n",
      "  warnings.warn(msg, category=DeprecationWarning)\n",
      "D:\\shuju\\lib\\site-packages\\sklearn\\utils\\deprecation.py:85: DeprecationWarning: Function calinski_harabaz_score is deprecated; Function 'calinski_harabaz_score' has been renamed to 'calinski_harabasz_score' and will be removed in version 0.23.\n",
      "  warnings.warn(msg, category=DeprecationWarning)\n",
      "D:\\shuju\\lib\\site-packages\\sklearn\\utils\\deprecation.py:85: DeprecationWarning: Function calinski_harabaz_score is deprecated; Function 'calinski_harabaz_score' has been renamed to 'calinski_harabasz_score' and will be removed in version 0.23.\n",
      "  warnings.warn(msg, category=DeprecationWarning)\n",
      "D:\\shuju\\lib\\site-packages\\sklearn\\utils\\deprecation.py:85: DeprecationWarning: Function calinski_harabaz_score is deprecated; Function 'calinski_harabaz_score' has been renamed to 'calinski_harabasz_score' and will be removed in version 0.23.\n",
      "  warnings.warn(msg, category=DeprecationWarning)\n"
     ]
    }
   ],
   "source": [
    "from sklearn.metrics import calinski_harabaz_score\n",
    "score1 = calinski_harabaz_score(dist1, labels1)\n",
    "score2 = calinski_harabaz_score(dist1, labels2)\n",
    "score3 = calinski_harabaz_score(dist1, labels3)\n",
    "score4 = calinski_harabaz_score(dist1, labels4)\n",
    "score5 = calinski_harabaz_score(dist1, labels5)\n",
    "print(\"Calinski-Harabasz指数:\", score1)\n",
    "print(\"Calinski-Harabasz指数:\", score2)\n",
    "print(\"Calinski-Harabasz指数:\", score3)\n",
    "print(\"Calinski-Harabasz指数:\", score4)\n",
    "print(\"Calinski-Harabasz指数:\", score5)"
   ]
  },
  {
   "cell_type": "code",
   "execution_count": 18,
   "metadata": {},
   "outputs": [
    {
     "ename": "ValueError",
     "evalue": "all the input array dimensions except for the concatenation axis must match exactly",
     "output_type": "error",
     "traceback": [
      "\u001b[1;31m---------------------------------------------------------------------------\u001b[0m",
      "\u001b[1;31mValueError\u001b[0m                                Traceback (most recent call last)",
      "\u001b[1;32m<ipython-input-18-cdffe9389b20>\u001b[0m in \u001b[0;36m<module>\u001b[1;34m\u001b[0m\n\u001b[0;32m     73\u001b[0m \u001b[1;33m\u001b[0m\u001b[0m\n\u001b[0;32m     74\u001b[0m     \u001b[1;31m# 计算Dunn指数\u001b[0m\u001b[1;33m\u001b[0m\u001b[1;33m\u001b[0m\u001b[1;33m\u001b[0m\u001b[0m\n\u001b[1;32m---> 75\u001b[1;33m     \u001b[0mdunn_kmeans\u001b[0m \u001b[1;33m=\u001b[0m \u001b[0mcalculate_dunn_index\u001b[0m\u001b[1;33m(\u001b[0m\u001b[0mX\u001b[0m\u001b[1;33m,\u001b[0m \u001b[0mlabels_kmeans\u001b[0m\u001b[1;33m)\u001b[0m\u001b[1;33m\u001b[0m\u001b[1;33m\u001b[0m\u001b[0m\n\u001b[0m\u001b[0;32m     76\u001b[0m     \u001b[0mdunn_agg\u001b[0m \u001b[1;33m=\u001b[0m \u001b[0mcalculate_dunn_index\u001b[0m\u001b[1;33m(\u001b[0m\u001b[0mX\u001b[0m\u001b[1;33m,\u001b[0m \u001b[0mlabels_agg\u001b[0m\u001b[1;33m)\u001b[0m\u001b[1;33m\u001b[0m\u001b[1;33m\u001b[0m\u001b[0m\n\u001b[0;32m     77\u001b[0m     \u001b[0mdunn_scores\u001b[0m\u001b[1;33m.\u001b[0m\u001b[0mappend\u001b[0m\u001b[1;33m(\u001b[0m\u001b[1;33m[\u001b[0m\u001b[0mdunn_kmeans\u001b[0m\u001b[1;33m,\u001b[0m \u001b[0mdunn_agg\u001b[0m\u001b[1;33m]\u001b[0m\u001b[1;33m)\u001b[0m\u001b[1;33m\u001b[0m\u001b[1;33m\u001b[0m\u001b[0m\n",
      "\u001b[1;32m<ipython-input-18-cdffe9389b20>\u001b[0m in \u001b[0;36mcalculate_dunn_index\u001b[1;34m(X, labels)\u001b[0m\n\u001b[0;32m     36\u001b[0m         \u001b[0mcluster_distances\u001b[0m\u001b[1;33m.\u001b[0m\u001b[0mappend\u001b[0m\u001b[1;33m(\u001b[0m\u001b[0mcluster_i_distances\u001b[0m\u001b[1;33m)\u001b[0m\u001b[1;33m\u001b[0m\u001b[1;33m\u001b[0m\u001b[0m\n\u001b[0;32m     37\u001b[0m \u001b[1;33m\u001b[0m\u001b[0m\n\u001b[1;32m---> 38\u001b[1;33m     \u001b[0mcluster_distances\u001b[0m \u001b[1;33m=\u001b[0m \u001b[0mnp\u001b[0m\u001b[1;33m.\u001b[0m\u001b[0mconcatenate\u001b[0m\u001b[1;33m(\u001b[0m\u001b[0mcluster_distances\u001b[0m\u001b[1;33m)\u001b[0m\u001b[1;33m\u001b[0m\u001b[1;33m\u001b[0m\u001b[0m\n\u001b[0m\u001b[0;32m     39\u001b[0m \u001b[1;33m\u001b[0m\u001b[0m\n\u001b[0;32m     40\u001b[0m     \u001b[1;31m# 计算最小簇间距离\u001b[0m\u001b[1;33m\u001b[0m\u001b[1;33m\u001b[0m\u001b[1;33m\u001b[0m\u001b[0m\n",
      "\u001b[1;31mValueError\u001b[0m: all the input array dimensions except for the concatenation axis must match exactly"
     ]
    }
   ],
   "source": [
    "import numpy as np\n",
    "from sklearn.cluster import KMeans, AgglomerativeClustering\n",
    "from sklearn.metrics import silhouette_score, calinski_harabasz_score, davies_bouldin_score\n",
    "from sklearn.datasets import make_blobs\n",
    "\n",
    "# 生成聚类数据\n",
    "X, _ = make_blobs(n_samples=50, n_features=1500)\n",
    "\n",
    "# 定义评价指标列表\n",
    "silhouette_scores = []\n",
    "calinski_harabasz_scores = []\n",
    "davies_bouldin_scores = []\n",
    "dunn_scores = []\n",
    "\n",
    "from sklearn.metrics import pairwise_distances\n",
    "import numpy as np\n",
    "\n",
    "def calculate_dunn_index(X, labels):\n",
    "    \"\"\"\n",
    "    计算 Dunn 指数：最小簇间距离除以最大簇内距离的比值\n",
    "    参数：\n",
    "      - X：样本数据矩阵，形状为 (n_samples, n_features)\n",
    "      - labels：聚类结果标签，形状为 (n_samples,)\n",
    "    返回：\n",
    "      - dunn_index：Dunn 指数\n",
    "    \"\"\"\n",
    "\n",
    "    # 计算距离矩阵\n",
    "    distances = pairwise_distances(X)\n",
    "\n",
    "    # 根据聚类结果计算簇内距离和簇间距离\n",
    "    cluster_distances = []\n",
    "    for i in np.unique(labels):\n",
    "        cluster_i_indices = np.where(labels == i)[0]\n",
    "        cluster_i_distances = distances[cluster_i_indices][:, cluster_i_indices]\n",
    "        cluster_distances.append(cluster_i_distances)\n",
    "\n",
    "    cluster_distances = np.concatenate(cluster_distances)\n",
    "\n",
    "    # 计算最小簇间距离\n",
    "    min_intercluster_distance = np.min(cluster_distances[cluster_distances > 0])\n",
    "\n",
    "    # 计算最大簇内距离\n",
    "    max_intracluster_distance = np.max(np.array([np.max(cluster_distance) for cluster_distance in cluster_distances]))\n",
    "\n",
    "    # 计算 Dunn 指数\n",
    "    dunn_index = min_intercluster_distance / max_intracluster_distance\n",
    "\n",
    "    return dunn_index\n",
    "\n",
    "# 随机生成五个聚类模型并计算评价指标\n",
    "for _ in range(5):\n",
    "    # 聚类算法\n",
    "    kmeans = KMeans(n_clusters=5)\n",
    "    agg = AgglomerativeClustering(n_clusters=5)\n",
    "    labels_kmeans = kmeans.fit_predict(X)\n",
    "    labels_agg = agg.fit_predict(X)\n",
    "\n",
    "    # 计算轮廓系数\n",
    "    silhouette_kmeans = silhouette_score(X, labels_kmeans)\n",
    "    silhouette_agg = silhouette_score(X, labels_agg)\n",
    "    silhouette_scores.append([silhouette_kmeans, silhouette_agg])\n",
    "\n",
    "    # 计算Calinski-Harabasz指数\n",
    "    calinski_harabasz_kmeans = calinski_harabasz_score(X, labels_kmeans)\n",
    "    calinski_harabasz_agg = calinski_harabasz_score(X, labels_agg)\n",
    "    calinski_harabasz_scores.append([calinski_harabasz_kmeans, calinski_harabasz_agg])\n",
    "\n",
    "    # 计算Davies-Bouldin指数\n",
    "    davies_bouldin_kmeans = davies_bouldin_score(X, labels_kmeans)\n",
    "    davies_bouldin_agg = davies_bouldin_score(X, labels_agg)\n",
    "    davies_bouldin_scores.append([davies_bouldin_kmeans, davies_bouldin_agg])\n",
    "\n",
    "    # 计算Dunn指数\n",
    "    dunn_kmeans = calculate_dunn_index(X, labels_kmeans)\n",
    "    dunn_agg = calculate_dunn_index(X, labels_agg)\n",
    "    dunn_scores.append([dunn_kmeans, dunn_agg])\n",
    "\n",
    "# 将四个评价指标转化为越大越好的形式，即通过取相反数实现\n",
    "silhouette_scores = [[-score[0], -score[1]] for score in silhouette_scores]\n",
    "calinski_harabasz_scores = [[-score[0], -score[1]] for score in calinski_harabasz_scores]\n",
    "davies_bouldin_scores = [[-score[0], -score[1]] for score in davies_bouldin_scores]\n",
    "dunn_scores = [[-score[0], -score[1]] for score in dunn_scores]\n",
    "\n",
    "# 输出评价指标结果\n",
    "print(\"轮廓系数：\", silhouette_scores)\n",
    "print(\"Calinski-Harabasz指数：\", calinski_harabasz_scores)\n",
    "print(\"Davies-Bouldin指数：\", davies_bouldin_scores)\n",
    "print(\"Dunn指数：\", dunn_scores)"
   ]
  },
  {
   "cell_type": "code",
   "execution_count": null,
   "metadata": {},
   "outputs": [],
   "source": []
  },
  {
   "cell_type": "code",
   "execution_count": null,
   "metadata": {},
   "outputs": [],
   "source": []
  },
  {
   "cell_type": "code",
   "execution_count": null,
   "metadata": {},
   "outputs": [],
   "source": []
  },
  {
   "cell_type": "code",
   "execution_count": null,
   "metadata": {},
   "outputs": [],
   "source": []
  },
  {
   "cell_type": "code",
   "execution_count": null,
   "metadata": {},
   "outputs": [],
   "source": []
  },
  {
   "cell_type": "code",
   "execution_count": null,
   "metadata": {},
   "outputs": [],
   "source": []
  },
  {
   "cell_type": "code",
   "execution_count": null,
   "metadata": {},
   "outputs": [],
   "source": []
  },
  {
   "cell_type": "code",
   "execution_count": null,
   "metadata": {},
   "outputs": [],
   "source": []
  },
  {
   "cell_type": "code",
   "execution_count": 22,
   "metadata": {},
   "outputs": [
    {
     "data": {
      "image/png": "[encoded data removed]",
      "text/plain": [
       "<Figure size 864x720 with 4 Axes>"
      ]
     },
     "metadata": {
      "needs_background": "light"
     },
     "output_type": "display_data"
    }
   ],
   "source": [
    "X = ('Model I', 'Model II', 'Model III', 'Model IV', 'Model V') \n",
    "# X = ('I', 'II', 'III', 'IV', 'V') \n",
    "Y1 = [0.71, 0.55, 0.63, 0.47, 0.51]\n",
    "Y2 = [8.35, 7.75, 7.54, 6.72, 6.08]\n",
    "Y3 = [0.27, 0.40, 0.35, 0.45, 0.48]\n",
    "Y4 = [7.55, 6.56, 6.44, 5.78, 5.46]\n",
    "plt.rcParams['figure.figsize'] = (12.0, 10.0)\n",
    "#解决中文显示问题\n",
    "plt.rcParams['font.sans-serif']=['SimHei']\n",
    "plt.rcParams['axes.unicode_minus'] = False\n",
    "rc('font',size=16); rc('text', usetex=True)  #调用tex字库\n",
    "\n",
    "means = [5, 15, 25, 35, 45]\n",
    "colormap = plt.get_cmap('coolwarm')\n",
    "colors = colormap(np.linspace(0.1, 1, len(means)))\n",
    "\n",
    "# 按两行三咧显示\n",
    "a = subplot(2,2,1) #在第一窗口显示\n",
    "a.bar(X,Y1, width=0.4, color = colors[0], label = '$SC$')\n",
    "plt.title(\"$SC$\") \n",
    "b = subplot(2,2,2) #在第二个窗口显示\n",
    "b.bar(X,Y2, width=0.4, color = colors[1], label = '$CH$' )\n",
    "plt.title(\"$CH$\") \n",
    "# plt.legend()\n",
    "c = subplot(2,2,3)\n",
    "c.bar(X,Y3, width=0.4, color = colors[2], label = '$DBI$')\n",
    "plt.title(\"$DBI$\") \n",
    "d = subplot(2,2,4) \n",
    "d.bar(X,Y4, width=0.4, color = colors[3], label = '$DI$')\n",
    "plt.title(\"$DI$\")\n",
    "savefig(\"聚类比较1.jpg\", dpi=300, bbox_inches='tight')\n",
    "show()"
   ]
  },
  {
   "cell_type": "code",
   "execution_count": null,
   "metadata": {},
   "outputs": [],
   "source": []
  }
 ],
 "metadata": {
  "kernelspec": {
   "display_name": "Python 3",
   "language": "python",
   "name": "python3"
  },
  "language_info": {
   "codemirror_mode": {
    "name": "ipython",
    "version": 3
   },
   "file_extension": ".py",
   "mimetype": "text/x-python",
   "name": "python",
   "nbconvert_exporter": "python",
   "pygments_lexer": "ipython3",
   "version": "3.7.4"
  }
 },
 "nbformat": 4,
 "nbformat_minor": 4
}
