{
 "cells": [
  {
   "cell_type": "code",
   "execution_count": 1,
   "metadata": {},
   "outputs": [],
   "source": [
    "## 导入需要的库\n",
    "import numpy as np\n",
    "import pandas as pd\n",
    "import math\n",
    "import os\n",
    "import random\n",
    "from matplotlib.pyplot import *\n",
    "import matplotlib.pyplot as plt\n",
    "\n",
    "from statsmodels.stats.weightstats import ztest"
   ]
  },
  {
   "cell_type": "code",
   "execution_count": 52,
   "metadata": {},
   "outputs": [
    {
     "name": "stdout",
     "output_type": "stream",
     "text": [
      "[2, 1, 0, 2, 2, 0, 2, 0, 0, 2, 1, 2, 2, 1, 2, 2, 2, 2, 1, 0, 2, 2, 1, 2, 1, 1, 0, 2, 1, 1]\n"
     ]
    }
   ],
   "source": [
    "## 我们模型的聚类结果如下所示\n",
    "lb1 = [1, 10, 13, 18, 22, 24, 25, 28, 29]\n",
    "lb2 = [2, 5, 7, 8, 19, 26]\n",
    "lb3 = [0, 3, 4, 6, 9, 11, 12, 14, 15, 16, 17, 20, 21, 23, 27]\n",
    "label1 = []\n",
    "for i in range(0,30):\n",
    "    if i in lb1:\n",
    "        label1.append(1)\n",
    "    elif i in lb2:\n",
    "        label1.append(0)\n",
    "    else:\n",
    "        label1.append(2)\n",
    "print(label1)"
   ]
  },
  {
   "cell_type": "code",
   "execution_count": 42,
   "metadata": {},
   "outputs": [
    {
     "data": {
      "text/plain": [
       "array([2, 2, 2, 2, 2, 2, 2, 2, 2, 1, 1, 1, 1, 1, 1, 1, 1, 1, 1, 1, 0, 0,\n",
       "       0, 0, 0, 0, 0, 0, 0, 0])"
      ]
     },
     "execution_count": 42,
     "metadata": {},
     "output_type": "execute_result"
    }
   ],
   "source": [
    "## K-means聚类结果\n",
    "from sklearn.cluster import KMeans\n",
    "X = pd.read_csv(\"上海预处理后的数据归一化数据.csv\")\n",
    "estimator = KMeans(n_clusters = 3)#构造聚类器\n",
    "estimator.fit(X)#聚类\n",
    "label2 = estimator.labels_ #获取聚类标签\n",
    "label2"
   ]
  },
  {
   "cell_type": "code",
   "execution_count": 43,
   "metadata": {},
   "outputs": [
    {
     "name": "stdout",
     "output_type": "stream",
     "text": [
      "[0, 1, 2, 3, 4, 5, 6, 7, 8]\n",
      "[9, 10, 11, 12, 13, 14, 15, 16, 17, 18, 19]\n",
      "[20, 21, 22, 23, 24, 25, 26, 27, 28, 29]\n"
     ]
    }
   ],
   "source": [
    "a1, a2, a3 = [], [], []\n",
    "for j in range(0,len(X)):\n",
    "    if label2[j] == 2:\n",
    "        a1.append(j)\n",
    "    elif label2[j] == 1:\n",
    "        a2.append(j)\n",
    "    else:\n",
    "        a3.append(j)\n",
    "print(a1)\n",
    "print(a2)\n",
    "print(a3)"
   ]
  },
  {
   "cell_type": "code",
   "execution_count": 10,
   "metadata": {},
   "outputs": [
    {
     "data": {
      "text/html": [
       "<div>\n",
       "<style scoped>\n",
       "    .dataframe tbody tr th:only-of-type {\n",
       "        vertical-align: middle;\n",
       "    }\n",
       "\n",
       "    .dataframe tbody tr th {\n",
       "        vertical-align: top;\n",
       "    }\n",
       "\n",
       "    .dataframe thead th {\n",
       "        text-align: right;\n",
       "    }\n",
       "</style>\n",
       "<table border=\"1\" class=\"dataframe\">\n",
       "  <thead>\n",
       "    <tr style=\"text-align: right;\">\n",
       "      <th></th>\n",
       "      <th>0</th>\n",
       "      <th>1</th>\n",
       "      <th>2</th>\n",
       "      <th>3</th>\n",
       "      <th>4</th>\n",
       "      <th>5</th>\n",
       "      <th>6</th>\n",
       "      <th>7</th>\n",
       "      <th>8</th>\n",
       "      <th>9</th>\n",
       "      <th>...</th>\n",
       "      <th>88</th>\n",
       "      <th>89</th>\n",
       "      <th>90</th>\n",
       "      <th>91</th>\n",
       "      <th>92</th>\n",
       "      <th>93</th>\n",
       "      <th>94</th>\n",
       "      <th>95</th>\n",
       "      <th>96</th>\n",
       "      <th>97</th>\n",
       "    </tr>\n",
       "  </thead>\n",
       "  <tbody>\n",
       "    <tr>\n",
       "      <td>0</td>\n",
       "      <td>0.469165</td>\n",
       "      <td>0.593950</td>\n",
       "      <td>0.657676</td>\n",
       "      <td>0.636167</td>\n",
       "      <td>0.700524</td>\n",
       "      <td>0.764499</td>\n",
       "      <td>0.742700</td>\n",
       "      <td>0.805234</td>\n",
       "      <td>0.783095</td>\n",
       "      <td>0.575019</td>\n",
       "      <td>...</td>\n",
       "      <td>0.572985</td>\n",
       "      <td>0.700355</td>\n",
       "      <td>0.763832</td>\n",
       "      <td>0.572985</td>\n",
       "      <td>0.721611</td>\n",
       "      <td>0.486239</td>\n",
       "      <td>0.635739</td>\n",
       "      <td>0.657333</td>\n",
       "      <td>0.700781</td>\n",
       "      <td>0.635566</td>\n",
       "    </tr>\n",
       "    <tr>\n",
       "      <td>1</td>\n",
       "      <td>0.206467</td>\n",
       "      <td>0.221566</td>\n",
       "      <td>0.400280</td>\n",
       "      <td>0.453515</td>\n",
       "      <td>0.328810</td>\n",
       "      <td>0.292819</td>\n",
       "      <td>0.310316</td>\n",
       "      <td>0.472119</td>\n",
       "      <td>0.435467</td>\n",
       "      <td>0.293256</td>\n",
       "      <td>...</td>\n",
       "      <td>0.111441</td>\n",
       "      <td>0.364362</td>\n",
       "      <td>0.273312</td>\n",
       "      <td>0.210465</td>\n",
       "      <td>0.487696</td>\n",
       "      <td>0.115922</td>\n",
       "      <td>0.301130</td>\n",
       "      <td>0.316633</td>\n",
       "      <td>0.316372</td>\n",
       "      <td>0.348306</td>\n",
       "    </tr>\n",
       "    <tr>\n",
       "      <td>2</td>\n",
       "      <td>0.000000</td>\n",
       "      <td>0.378646</td>\n",
       "      <td>0.274077</td>\n",
       "      <td>0.412792</td>\n",
       "      <td>0.308878</td>\n",
       "      <td>0.377348</td>\n",
       "      <td>0.274722</td>\n",
       "      <td>0.377031</td>\n",
       "      <td>0.376406</td>\n",
       "      <td>0.409022</td>\n",
       "      <td>...</td>\n",
       "      <td>0.124394</td>\n",
       "      <td>0.565879</td>\n",
       "      <td>0.163120</td>\n",
       "      <td>0.234902</td>\n",
       "      <td>0.308878</td>\n",
       "      <td>0.120620</td>\n",
       "      <td>0.308878</td>\n",
       "      <td>0.232205</td>\n",
       "      <td>0.192351</td>\n",
       "      <td>0.347925</td>\n",
       "    </tr>\n",
       "    <tr>\n",
       "      <td>3</td>\n",
       "      <td>0.519631</td>\n",
       "      <td>0.548789</td>\n",
       "      <td>0.637934</td>\n",
       "      <td>0.637861</td>\n",
       "      <td>0.667310</td>\n",
       "      <td>0.637643</td>\n",
       "      <td>0.608195</td>\n",
       "      <td>0.696115</td>\n",
       "      <td>0.637359</td>\n",
       "      <td>0.579030</td>\n",
       "      <td>...</td>\n",
       "      <td>0.527512</td>\n",
       "      <td>0.608195</td>\n",
       "      <td>0.554106</td>\n",
       "      <td>0.499284</td>\n",
       "      <td>0.689969</td>\n",
       "      <td>0.333435</td>\n",
       "      <td>0.580372</td>\n",
       "      <td>0.663776</td>\n",
       "      <td>0.608195</td>\n",
       "      <td>0.552614</td>\n",
       "    </tr>\n",
       "    <tr>\n",
       "      <td>4</td>\n",
       "      <td>0.068102</td>\n",
       "      <td>0.520378</td>\n",
       "      <td>0.585417</td>\n",
       "      <td>0.674277</td>\n",
       "      <td>0.689968</td>\n",
       "      <td>0.532495</td>\n",
       "      <td>0.438979</td>\n",
       "      <td>0.625889</td>\n",
       "      <td>0.624414</td>\n",
       "      <td>0.359872</td>\n",
       "      <td>...</td>\n",
       "      <td>0.399335</td>\n",
       "      <td>0.417214</td>\n",
       "      <td>0.536810</td>\n",
       "      <td>0.351713</td>\n",
       "      <td>0.789891</td>\n",
       "      <td>0.299926</td>\n",
       "      <td>0.412641</td>\n",
       "      <td>0.482457</td>\n",
       "      <td>0.576495</td>\n",
       "      <td>0.451188</td>\n",
       "    </tr>\n",
       "  </tbody>\n",
       "</table>\n",
       "<p>5 rows × 98 columns</p>\n",
       "</div>"
      ],
      "text/plain": [
       "          0         1         2         3         4         5         6  \\\n",
       "0  0.469165  0.593950  0.657676  0.636167  0.700524  0.764499  0.742700   \n",
       "1  0.206467  0.221566  0.400280  0.453515  0.328810  0.292819  0.310316   \n",
       "2  0.000000  0.378646  0.274077  0.412792  0.308878  0.377348  0.274722   \n",
       "3  0.519631  0.548789  0.637934  0.637861  0.667310  0.637643  0.608195   \n",
       "4  0.068102  0.520378  0.585417  0.674277  0.689968  0.532495  0.438979   \n",
       "\n",
       "          7         8         9  ...        88        89        90        91  \\\n",
       "0  0.805234  0.783095  0.575019  ...  0.572985  0.700355  0.763832  0.572985   \n",
       "1  0.472119  0.435467  0.293256  ...  0.111441  0.364362  0.273312  0.210465   \n",
       "2  0.377031  0.376406  0.409022  ...  0.124394  0.565879  0.163120  0.234902   \n",
       "3  0.696115  0.637359  0.579030  ...  0.527512  0.608195  0.554106  0.499284   \n",
       "4  0.625889  0.624414  0.359872  ...  0.399335  0.417214  0.536810  0.351713   \n",
       "\n",
       "         92        93        94        95        96        97  \n",
       "0  0.721611  0.486239  0.635739  0.657333  0.700781  0.635566  \n",
       "1  0.487696  0.115922  0.301130  0.316633  0.316372  0.348306  \n",
       "2  0.308878  0.120620  0.308878  0.232205  0.192351  0.347925  \n",
       "3  0.689969  0.333435  0.580372  0.663776  0.608195  0.552614  \n",
       "4  0.789891  0.299926  0.412641  0.482457  0.576495  0.451188  \n",
       "\n",
       "[5 rows x 98 columns]"
      ]
     },
     "execution_count": 10,
     "metadata": {},
     "output_type": "execute_result"
    }
   ],
   "source": [
    "## 三支聚类\n",
    "data = X.drop(['Unnamed: 0'], axis = 1)\n",
    "data.head()"
   ]
  },
  {
   "cell_type": "code",
   "execution_count": 11,
   "metadata": {},
   "outputs": [
    {
     "name": "stdout",
     "output_type": "stream",
     "text": [
      "[0.6608240483376462, 0.3847899290950833, 0.3151337132331966, 0.6096965020879236, 0.5072222039095763, 0.5150364521994567, 0.44042670270253464, 0.518646190560524, 0.41988894822949363, 0.39364153838113664, 0.4369686232275843, 0.5088258994387089, 0.5444224720335858, 0.511438612928836, 0.5140402866028393, 0.5208661297287724, 0.552233387913748, 0.5711790317902743, 0.37453817340123424, 0.36345352452424645, 0.4805400473651539, 0.3988505157049154, 0.4813259407351385, 0.4673401721190405, 0.5457673587337999, 0.6005954233165389, 0.3337029505244866, 0.6567996369497924, 0.5167800874003243, 0.49271430926533455]\n"
     ]
    }
   ],
   "source": [
    "### 设定正理想解和负理想解\n",
    "n, m = len(data), len(data.T)\n",
    "\n",
    "### 计算决策对象到正负理想解的距离\n",
    "D1 = np.zeros((1,n));D0 = np.zeros((1,n)); Pr = []\n",
    "for i in range(0,n):\n",
    "    D1[0][i] = np.sqrt(np.sum(np.square(1 - data.iloc[i]))) \n",
    "    D0[0][i] = np.sqrt(np.sum(np.square(data.iloc[i])))\n",
    "    Pr.append(D0[0][i]/(D0[0][i] + D1[0][i]))\n",
    "print(Pr)"
   ]
  },
  {
   "cell_type": "code",
   "execution_count": 12,
   "metadata": {},
   "outputs": [],
   "source": [
    "def sunshi(x,singam):\n",
    "    lamda = np.zeros((len(x),6));\n",
    "    juhe = np.zeros((1,6));\n",
    "    \n",
    "    # 计算相对损失函数\n",
    "    for i in range(0,len(x)):\n",
    "        lamda[i,1] = singam[i] * x[i];\n",
    "        lamda[i,2] = x[i];\n",
    "        lamda[i,3] = 1-x[i];\n",
    "        lamda[i,4] = singam[i] * (1-x[i]);\n",
    "    \n",
    "    # 计算聚合相对效用函数(均值聚合)\n",
    "    juhe = np.mean(lamda,axis=0)\n",
    "    \n",
    "    return juhe"
   ]
  },
  {
   "cell_type": "code",
   "execution_count": 13,
   "metadata": {},
   "outputs": [
    {
     "data": {
      "text/html": [
       "<div>\n",
       "<style scoped>\n",
       "    .dataframe tbody tr th:only-of-type {\n",
       "        vertical-align: middle;\n",
       "    }\n",
       "\n",
       "    .dataframe tbody tr th {\n",
       "        vertical-align: top;\n",
       "    }\n",
       "\n",
       "    .dataframe thead th {\n",
       "        text-align: right;\n",
       "    }\n",
       "</style>\n",
       "<table border=\"1\" class=\"dataframe\">\n",
       "  <thead>\n",
       "    <tr style=\"text-align: right;\">\n",
       "      <th></th>\n",
       "      <th>0</th>\n",
       "      <th>1</th>\n",
       "    </tr>\n",
       "  </thead>\n",
       "  <tbody>\n",
       "    <tr>\n",
       "      <td>0</td>\n",
       "      <td>0.367207</td>\n",
       "      <td>0.279779</td>\n",
       "    </tr>\n",
       "    <tr>\n",
       "      <td>1</td>\n",
       "      <td>0.674166</td>\n",
       "      <td>0.580724</td>\n",
       "    </tr>\n",
       "    <tr>\n",
       "      <td>2</td>\n",
       "      <td>0.742386</td>\n",
       "      <td>0.658601</td>\n",
       "    </tr>\n",
       "    <tr>\n",
       "      <td>3</td>\n",
       "      <td>0.428706</td>\n",
       "      <td>0.334372</td>\n",
       "    </tr>\n",
       "    <tr>\n",
       "      <td>4</td>\n",
       "      <td>0.542116</td>\n",
       "      <td>0.442141</td>\n",
       "    </tr>\n",
       "  </tbody>\n",
       "</table>\n",
       "</div>"
      ],
      "text/plain": [
       "          0         1\n",
       "0  0.367207  0.279779\n",
       "1  0.674166  0.580724\n",
       "2  0.742386  0.658601\n",
       "3  0.428706  0.334372\n",
       "4  0.542116  0.442141"
      ]
     },
     "execution_count": 13,
     "metadata": {},
     "output_type": "execute_result"
    }
   ],
   "source": [
    "# 计算不同对象的聚合相对损失函数矩阵\n",
    "singam = [0.45]*m\n",
    "lamda = np.zeros((n,6));\n",
    "for i in range(0,n):\n",
    "    x = data.iloc[i]\n",
    "    lamda[i] = sunshi(x ,singam)\n",
    "\n",
    "#根据聚合相对损失函数计算不同对象的初始阈值\n",
    "yuzhi = np.zeros((n,2))\n",
    "for i in range(0,n):\n",
    "    for j in range(0,len(lamda.T)):\n",
    "        yuzhi[i][0] = (lamda[i][3]-lamda[i][4])/(lamda[i][3]-lamda[i][4]+lamda[i][1])\n",
    "        yuzhi[i][1] = (lamda[i][4])/(lamda[i][4]+lamda[i][2]-lamda[i][1])\n",
    "yuzhi = pd.DataFrame(yuzhi)\n",
    "yuzhi.head()"
   ]
  },
  {
   "cell_type": "code",
   "execution_count": 15,
   "metadata": {},
   "outputs": [
    {
     "name": "stdout",
     "output_type": "stream",
     "text": [
      "[0, 3, 12, 16, 17, 24, 25, 27]\n",
      "[4, 5, 7, 11, 13, 14, 15, 20, 22, 28, 29]\n",
      "[1, 2, 6, 8, 9, 10, 18, 19, 21, 23, 26]\n"
     ]
    }
   ],
   "source": [
    "B1, B2, B3 = [], [], []\n",
    "for i in range(n):\n",
    "    if Pr[i] > yuzhi.loc[i][0]:\n",
    "        B1.append(i)\n",
    "    elif Pr[i]> yuzhi.loc[i][1] and Pr[i] < yuzhi.loc[i][0]:\n",
    "        B2.append(i)\n",
    "    else:\n",
    "        B3.append(i)\n",
    "print(B1)\n",
    "print(B2)\n",
    "print(B3)"
   ]
  },
  {
   "cell_type": "code",
   "execution_count": 54,
   "metadata": {},
   "outputs": [
    {
     "name": "stdout",
     "output_type": "stream",
     "text": [
      "[0, 2, 2, 0, 1, 1, 2, 1, 2, 2, 2, 1, 0, 1, 1, 1, 0, 0, 2, 2, 1, 2, 1, 2, 0, 0, 2, 0, 1, 1]\n"
     ]
    }
   ],
   "source": [
    "label3 = []\n",
    "for i in range(0,30):\n",
    "    if i in B1:\n",
    "        label3.append(0)\n",
    "    elif i in B2:\n",
    "        label3.append(1)\n",
    "    else:\n",
    "        label3.append(2)\n",
    "print(label3)"
   ]
  },
  {
   "cell_type": "code",
   "execution_count": 17,
   "metadata": {},
   "outputs": [],
   "source": [
    "## 基于遗憾理论的灰度关联聚类方法\n",
    "r1 = np.zeros((n,m))\n",
    "r2 = np.zeros((n,m))\n",
    "\n",
    "for i in range(n):\n",
    "    for j in range(m):\n",
    "        r1[i][j] = 1/(1.5-data.loc[i][j])\n",
    "        r2[i][j] = 1/(data.loc[i][j]+0.5)"
   ]
  },
  {
   "cell_type": "code",
   "execution_count": 18,
   "metadata": {},
   "outputs": [],
   "source": [
    "# 建立感知效用矩阵\n",
    "def Juzhen(alpha, sigma):\n",
    "    U = np.zeros((n,m))\n",
    "    R = r1/(r1+r2)\n",
    "    G = 1 - np.exp(sigma * abs(r1-1))\n",
    "    Q = 1 - np.exp(-sigma * abs(r1-1))\n",
    "    for i in range(n):\n",
    "        for j in range(m):\n",
    "            U[i][j] = (R[i][j]) ** alpha + G[i][j] + Q[i][j] \n",
    "    return U"
   ]
  },
  {
   "cell_type": "code",
   "execution_count": 19,
   "metadata": {},
   "outputs": [
    {
     "data": {
      "text/plain": [
       "array([[0.6960996 , 0.73933562, 0.76002552, ..., 0.75991693, 0.77342857,\n",
       "        0.75296025],\n",
       "       [0.59317595, 0.59958492, 0.67073989, ..., 0.63845634, 0.63835275,\n",
       "        0.65087979],\n",
       "       [0.49749948, 0.66255096, 0.62135999, ..., 0.60406001, 0.58712113,\n",
       "        0.65073212],\n",
       "       ...,\n",
       "       [0.73468841, 0.75822358, 0.78915627, ..., 0.79305732, 0.76104121,\n",
       "        0.78201635],\n",
       "       [0.67132976, 0.70392117, 0.7072147 , ..., 0.71903398, 0.76404928,\n",
       "        0.6137497 ],\n",
       "       [0.69345099, 0.71177813, 0.74117943, ..., 0.73609092, 0.74164268,\n",
       "        0.70962228]])"
      ]
     },
     "execution_count": 19,
     "metadata": {},
     "output_type": "execute_result"
    }
   ],
   "source": [
    "U = Juzhen(0.5,0.15)\n",
    "U"
   ]
  },
  {
   "cell_type": "code",
   "execution_count": 20,
   "metadata": {},
   "outputs": [
    {
     "name": "stdout",
     "output_type": "stream",
     "text": [
      "[0.7523992317002766, 0.6305552824780292, 0.6116062845289435, 0.7384568376038413, 0.6888017534230189, 0.7026149904146989, 0.6624051582716192, 0.7172166329714761, 0.6592716671579888, 0.646004178519296, 0.66559038948298, 0.6705380297598413, 0.7031160966380261, 0.6814598580622349, 0.7029487689849325, 0.7072152560052077, 0.7233350538006076, 0.7327679656143823, 0.6211905898600389, 0.6316912070212424, 0.6813330864392058, 0.6582664156144882, 0.6992109824638228, 0.6645863135374253, 0.7264839716187793, 0.7610265654738317, 0.6070145793161147, 0.7692306027585979, 0.6934082334679597, 0.7056463573241567]\n"
     ]
    }
   ],
   "source": [
    "# 计算聚类系数\n",
    "u = []\n",
    "w = [0.1,0.2,0.5,0.05,0.15]\n",
    "for i in range(n):\n",
    "    u.append(np.sum(w * U[i][m-5:]))\n",
    "print(u)"
   ]
  },
  {
   "cell_type": "code",
   "execution_count": 21,
   "metadata": {},
   "outputs": [
    {
     "name": "stdout",
     "output_type": "stream",
     "text": [
      "[0, 3, 4, 5, 7, 12, 14, 15, 16, 17, 22, 24, 25, 27, 28, 29]\n",
      "[1, 2, 6, 8, 9, 10, 11, 13, 18, 19, 20, 21, 23, 26]\n"
     ]
    }
   ],
   "source": [
    "C1, C2 = [], []\n",
    "for i in range(n):\n",
    "    if u[i] > np.mean(u):\n",
    "        C1.append(i)\n",
    "    else:\n",
    "        C2.append(i)\n",
    "print(C1)\n",
    "print(C2)"
   ]
  },
  {
   "cell_type": "code",
   "execution_count": 39,
   "metadata": {},
   "outputs": [
    {
     "name": "stdout",
     "output_type": "stream",
     "text": [
      "[0 0 0 0 0 0 0 0 0 1 1 1 1 1 1 1 1 1 2 2 2 2 2 2 3 3 3 3 3 3]\n"
     ]
    }
   ],
   "source": [
    "from numpy import unique\n",
    "from sklearn.cluster import AffinityPropagation\n",
    "import numpy as np\n",
    "from sklearn.preprocessing import StandardScaler\n",
    "\n",
    "model = AffinityPropagation(damping=0.5, max_iter=200, convergence_iter=15, copy=True, preference=None,    \n",
    "                            affinity='euclidean', verbose=False) # 设置damping : 阻尼系数，取值[0.5,1)\n",
    "# 匹配模型\n",
    "model.fit(X)\n",
    "yhat = model.predict(X)  # yhat为集群结果\n",
    "clusters = len(unique(yhat))  # 类别\n",
    "\n",
    "print(yhat)"
   ]
  },
  {
   "cell_type": "code",
   "execution_count": 40,
   "metadata": {},
   "outputs": [
    {
     "name": "stdout",
     "output_type": "stream",
     "text": [
      "[0, 1, 2, 3, 4, 5, 6, 7, 8]\n",
      "[9, 10, 11, 12, 13, 14, 15, 16, 17]\n",
      "[18, 19, 20, 21, 22, 23]\n",
      "[24, 25, 26, 27, 28, 29]\n"
     ]
    }
   ],
   "source": [
    "D1, D2, D3, D4 = [], [], [], []\n",
    "for i in range(n):\n",
    "    if yhat[i] == 0:\n",
    "        D1.append(i)\n",
    "    if yhat[i] == 1:\n",
    "        D2.append(i)\n",
    "    if yhat[i] == 2:\n",
    "        D3.append(i)\n",
    "    if yhat[i] == 3:\n",
    "        D4.append(i)\n",
    "print(D1)\n",
    "print(D2)\n",
    "print(D3)\n",
    "print(D4)"
   ]
  },
  {
   "cell_type": "code",
   "execution_count": 33,
   "metadata": {},
   "outputs": [],
   "source": [
    "import numpy as np\n",
    "from sklearn.cluster import KMeans\n",
    "from sklearn.metrics import silhouette_score, davies_bouldin_score\n",
    "from sklearn.datasets import make_blobs\n",
    "from sklearn.preprocessing import StandardScaler"
   ]
  },
  {
   "cell_type": "code",
   "execution_count": 53,
   "metadata": {},
   "outputs": [
    {
     "name": "stdout",
     "output_type": "stream",
     "text": [
      "Silhouette Coefficient: 0.4849001868969344\n",
      "Davies-Bouldin Index: 0.6006407453793531\n"
     ]
    }
   ],
   "source": [
    "# 计算Silhouette系数\n",
    "silhouette_avg = silhouette_score(X, label2)\n",
    "print(f\"Silhouette Coefficient: {silhouette_avg}\")\n",
    "\n",
    "# 计算Davies-Bouldin指数\n",
    "dbi = davies_bouldin_score(X, label2)\n",
    "print(f\"Davies-Bouldin Index: {dbi}\")"
   ]
  },
  {
   "cell_type": "code",
   "execution_count": 55,
   "metadata": {},
   "outputs": [
    {
     "name": "stdout",
     "output_type": "stream",
     "text": [
      "Silhouette Coefficient: -0.08379227007855476\n",
      "Davies-Bouldin Index: 11.107586362014494\n"
     ]
    }
   ],
   "source": [
    "# 计算Silhouette系数\n",
    "silhouette_avg = silhouette_score(X, label3)\n",
    "print(f\"Silhouette Coefficient: {silhouette_avg}\")\n",
    "\n",
    "# 计算Davies-Bouldin指数\n",
    "dbi = davies_bouldin_score(X, label3)\n",
    "print(f\"Davies-Bouldin Index: {dbi}\")"
   ]
  },
  {
   "cell_type": "code",
   "execution_count": null,
   "metadata": {},
   "outputs": [],
   "source": []
  }
 ],
 "metadata": {
  "kernelspec": {
   "display_name": "Python 3",
   "language": "python",
   "name": "python3"
  },
  "language_info": {
   "codemirror_mode": {
    "name": "ipython",
    "version": 3
   },
   "file_extension": ".py",
   "mimetype": "text/x-python",
   "name": "python",
   "nbconvert_exporter": "python",
   "pygments_lexer": "ipython3",
   "version": "3.7.4"
  }
 },
 "nbformat": 4,
 "nbformat_minor": 4
}
